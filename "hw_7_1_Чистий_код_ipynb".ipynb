{
  "cells": [
    {
      "cell_type": "markdown",
      "metadata": {
        "id": "view-in-github",
        "colab_type": "text"
      },
      "source": [
        "<a href=\"https://colab.research.google.com/github/TeraneAgaeva/Data-Analysis-course-/blob/main/%22hw_7_1_%D0%A7%D0%B8%D1%81%D1%82%D0%B8%D0%B9_%D0%BA%D0%BE%D0%B4_ipynb%22.ipynb\" target=\"_parent\"><img src=\"https://colab.research.google.com/assets/colab-badge.svg\" alt=\"Open In Colab\"/></a>"
      ]
    },
    {
      "cell_type": "markdown",
      "id": "aed503f1",
      "metadata": {
        "ExecuteTime": {
          "end_time": "2023-07-27T20:14:32.871852Z",
          "start_time": "2023-07-27T20:14:31.036121Z"
        },
        "id": "aed503f1"
      },
      "source": [
        "У завданнях 1-4. Вам наданий простий код на Python, який не відповідає вказівкам PEP8. Ваше завдання — відредагувати код так, аби він відповідав PEP8. Напишіть після редагуванню коду, дотримання яких правил з pep8 ви досягли в відредагованій версі, наприклад\n",
        "```\n",
        "- додала пробіли навколо бінарного оператора\n",
        "- додала два порожні рядки між визначеннями функцій\n",
        "і тд\n",
        "```\n",
        "Також можна зазанчити використані правила коментарями по коду, а не окремим повідомленням.\n",
        "\n",
        "Відредагований код має виконувати весь той самий функціонал, але бути написаний відповідно до вимог до гарного коду на Python! Не забудьте запустити відредагований код, він має бути робочим."
      ]
    },
    {
      "cell_type": "markdown",
      "id": "e7fea147",
      "metadata": {
        "id": "e7fea147"
      },
      "source": [
        "Завдання 1."
      ]
    },
    {
      "cell_type": "code",
      "execution_count": null,
      "id": "f63d84d7",
      "metadata": {
        "ExecuteTime": {
          "end_time": "2023-07-29T17:02:37.075783Z",
          "start_time": "2023-07-29T17:02:37.035259Z"
        },
        "id": "f63d84d7",
        "colab": {
          "base_uri": "https://localhost:8080/",
          "height": 69
        },
        "outputId": "17578c9b-8466-4fd0-cb5b-bbb4de8b8e91"
      },
      "outputs": [
        {
          "output_type": "stream",
          "name": "stdout",
          "text": [
            "Hello, John\n"
          ]
        },
        {
          "output_type": "display_data",
          "data": {
            "text/plain": [
              "None"
            ]
          },
          "metadata": {}
        },
        {
          "output_type": "display_data",
          "data": {
            "text/plain": [
              "8"
            ]
          },
          "metadata": {}
        }
      ],
      "source": [
        "def greet(name):print(f\"Hello, {name}\")\n",
        "def add(n1,n2):return n1+n2\n",
        "\n",
        "x = 5;y = 3\n",
        "display(greet(\"John\"),add(x,y))\n"
      ]
    },
    {
      "cell_type": "code",
      "execution_count": null,
      "id": "41b7e672",
      "metadata": {
        "id": "41b7e672",
        "colab": {
          "base_uri": "https://localhost:8080/",
          "height": 69
        },
        "outputId": "b41195af-c19a-49a0-b20f-71aa2f7b58c6"
      },
      "outputs": [
        {
          "output_type": "stream",
          "name": "stdout",
          "text": [
            "Hello, John\n"
          ]
        },
        {
          "output_type": "display_data",
          "data": {
            "text/plain": [
              "None"
            ]
          },
          "metadata": {}
        },
        {
          "output_type": "display_data",
          "data": {
            "text/plain": [
              "8"
            ]
          },
          "metadata": {}
        }
      ],
      "source": [
        "#перенос на інший рядок, додатковий рядок розділювач, переназвані змінні на більш зрозумілі\n",
        "def greet(name):\n",
        "  print(f\"Hello, {name}\")\n",
        "\n",
        "def add(number1, number2):\n",
        "  return number1 + number2\n",
        "x = 5;\n",
        "y = 3\n",
        "display(greet(\"John\"),add(x,y))"
      ]
    },
    {
      "cell_type": "markdown",
      "id": "cea88baf",
      "metadata": {
        "id": "cea88baf"
      },
      "source": [
        "Завдання 2."
      ]
    },
    {
      "cell_type": "code",
      "execution_count": null,
      "id": "dfb6d2b5",
      "metadata": {
        "ExecuteTime": {
          "end_time": "2023-07-29T17:05:49.706098Z",
          "start_time": "2023-07-29T17:05:49.688255Z"
        },
        "id": "dfb6d2b5",
        "colab": {
          "base_uri": "https://localhost:8080/"
        },
        "outputId": "2e467b11-2587-46d4-ecb3-aa485bee0890"
      },
      "outputs": [
        {
          "output_type": "stream",
          "name": "stdout",
          "text": [
            "Area: 78.53981633974483 Circumference: 31.41592653589793\n"
          ]
        }
      ],
      "source": [
        "from math import *\n",
        "def calcArea(r):return pi*r**2\n",
        "def calcCircumference(r):return 2*pi*r\n",
        "\n",
        "radius=5\n",
        "print(\"Area:\",calcArea(radius),\"Circumference:\",calcCircumference(radius))"
      ]
    },
    {
      "cell_type": "code",
      "execution_count": null,
      "id": "df263672",
      "metadata": {
        "id": "df263672",
        "colab": {
          "base_uri": "https://localhost:8080/"
        },
        "outputId": "e2672115-1d82-4212-df59-286ab10fca82"
      },
      "outputs": [
        {
          "output_type": "stream",
          "name": "stdout",
          "text": [
            "Area: 78.53981633974483 Circumference: 31.41592653589793\n"
          ]
        }
      ],
      "source": [
        "#перенос на інший рядок, додано нижнє підкреслювання у назвах функцій\n",
        "from math import *\n",
        "def calc_Area(r):\n",
        "  return pi*r**2\n",
        "def calc_Circumference(r):\n",
        "  return 2*pi*r\n",
        "\n",
        "radius=5\n",
        "print(\"Area:\",calc_Area(radius),\"Circumference:\",calc_Circumference(radius))"
      ]
    },
    {
      "cell_type": "markdown",
      "id": "1fd691b7",
      "metadata": {
        "id": "1fd691b7"
      },
      "source": [
        "Завдання 3."
      ]
    },
    {
      "cell_type": "code",
      "execution_count": null,
      "id": "1d5acb2d",
      "metadata": {
        "ExecuteTime": {
          "end_time": "2023-07-29T17:06:18.612622Z",
          "start_time": "2023-07-29T17:06:18.598477Z"
        },
        "id": "1d5acb2d"
      },
      "outputs": [],
      "source": [
        "class animal: pass\n",
        "class dog(animal):\n",
        "    def __init__(self,name):\n",
        "        self.name=name\n",
        "        self.type='Dog'"
      ]
    },
    {
      "cell_type": "code",
      "execution_count": null,
      "id": "0d4b2b8a",
      "metadata": {
        "id": "0d4b2b8a"
      },
      "outputs": [],
      "source": [
        "# додані пробіли перед та після знаку '=', додано перенос на інший рядок\n",
        "class animal:\n",
        "  pass\n",
        "class dog(animal):\n",
        "    def __init__(self,name):\n",
        "        self.name = name\n",
        "        self.type = 'Dog'"
      ]
    },
    {
      "cell_type": "markdown",
      "id": "7d1d4f5d",
      "metadata": {
        "id": "7d1d4f5d"
      },
      "source": [
        "Завдання 4."
      ]
    },
    {
      "cell_type": "code",
      "execution_count": null,
      "id": "a91c1cc4",
      "metadata": {
        "ExecuteTime": {
          "end_time": "2023-07-29T17:06:47.180263Z",
          "start_time": "2023-07-29T17:06:47.173617Z"
        },
        "id": "a91c1cc4",
        "colab": {
          "base_uri": "https://localhost:8080/"
        },
        "outputId": "8d04c572-8dce-4361-fb63-c29e93421a36"
      },
      "outputs": [
        {
          "output_type": "stream",
          "name": "stdout",
          "text": [
            "1\n",
            "2\n",
            "3\n",
            "4\n",
            "5\n"
          ]
        }
      ],
      "source": [
        "list = [1,2,3,4,5]\n",
        "for i in range(len(list)):\n",
        "  print(list[i])"
      ]
    },
    {
      "cell_type": "code",
      "execution_count": null,
      "id": "c0f9541a",
      "metadata": {
        "id": "c0f9541a",
        "colab": {
          "base_uri": "https://localhost:8080/"
        },
        "outputId": "7010336a-cab5-43a5-fdb4-64605412b229"
      },
      "outputs": [
        {
          "output_type": "stream",
          "name": "stdout",
          "text": [
            "1\n",
            "2\n",
            "3\n",
            "4\n",
            "5\n"
          ]
        }
      ],
      "source": [
        "#перенос на інший рядок, додатковий рядок розділювач, в списку додані пробіли після коми\n",
        "list = [1, 2, 3, 4, 5]\n",
        "\n",
        "for i in range(len(list)):\n",
        "  print(list[i])"
      ]
    },
    {
      "cell_type": "code",
      "source": [
        "# 2й варіант переписати код на більш читабельний:\n",
        "my_list = [1, 2, 3, 4, 5]\n",
        "\n",
        "for item in my_list:\n",
        "    print(item)"
      ],
      "metadata": {
        "colab": {
          "base_uri": "https://localhost:8080/"
        },
        "id": "tVi-jQvd6pGg",
        "outputId": "a4d3ccbf-5b9d-45c5-8148-50a043548196"
      },
      "id": "tVi-jQvd6pGg",
      "execution_count": null,
      "outputs": [
        {
          "output_type": "stream",
          "name": "stdout",
          "text": [
            "1\n",
            "2\n",
            "3\n",
            "4\n",
            "5\n"
          ]
        }
      ]
    },
    {
      "cell_type": "markdown",
      "id": "8b0487e6",
      "metadata": {
        "id": "8b0487e6"
      },
      "source": [
        "5.У вас є DataFrame df, що представляє результати тестів студентів з математики, англійської мови та історії. Поточний код обчислює середній бал для кожного студента шляхом ітерації за рядками DataFrame за допомогою iterrows().\n",
        "\n",
        "Ваше завдання полягає в тому, щоб змінити код так, аби уникнути використання iterrows() і замість цього застосувати більш ефективне та читабельне рішення відповідно до правил, озвучених у лекції. Рефакторинг треба зробити лише частині, де рахуються середні, імпорт і визначення датафрейму лишаємо без змін."
      ]
    },
    {
      "cell_type": "code",
      "execution_count": null,
      "id": "5b3cc648",
      "metadata": {
        "ExecuteTime": {
          "end_time": "2023-07-29T17:15:55.926882Z",
          "start_time": "2023-07-29T17:15:55.686415Z"
        },
        "id": "5b3cc648"
      },
      "outputs": [],
      "source": [
        "import pandas as pd\n",
        "\n",
        "df = pd.DataFrame({\n",
        "    'student': ['Alice', 'Bob', 'Charlie', 'David'],\n",
        "    'math_score': [89, 94, 77, 85],\n",
        "    'english_score': [92, 88, 79, 85],\n",
        "    'history_score': [84, 92, 81, 89]\n",
        "})"
      ]
    },
    {
      "cell_type": "code",
      "execution_count": null,
      "id": "f5858889",
      "metadata": {
        "ExecuteTime": {
          "end_time": "2023-07-29T17:15:55.926882Z",
          "start_time": "2023-07-29T17:15:55.686415Z"
        },
        "id": "f5858889",
        "colab": {
          "base_uri": "https://localhost:8080/"
        },
        "outputId": "788a1b4c-632b-4673-a9b0-ba1fd7c81ac7"
      },
      "outputs": [
        {
          "output_type": "stream",
          "name": "stdout",
          "text": [
            "   student  math_score  english_score  history_score  average_score\n",
            "0    Alice          89             92             84      88.333333\n",
            "1      Bob          94             88             92      91.333333\n",
            "2  Charlie          77             79             81      79.000000\n",
            "3    David          85             85             89      86.333333\n"
          ]
        }
      ],
      "source": [
        "averages = []\n",
        "for _, row in df.iterrows():\n",
        "    averages.append((row['math_score'] + row['english_score'] + row['history_score']) / 3)\n",
        "\n",
        "df['average_score'] = averages\n",
        "\n",
        "print(df)"
      ]
    },
    {
      "cell_type": "code",
      "execution_count": null,
      "id": "74cea4fc",
      "metadata": {
        "id": "74cea4fc",
        "colab": {
          "base_uri": "https://localhost:8080/"
        },
        "outputId": "1da792a6-0726-4b1c-984b-fce8d12719a7"
      },
      "outputs": [
        {
          "output_type": "stream",
          "name": "stdout",
          "text": [
            "   student  math_score  english_score  history_score  average_score\n",
            "0    Alice          89             92             84      88.333333\n",
            "1      Bob          94             88             92      91.333333\n",
            "2  Charlie          77             79             81      79.000000\n",
            "3    David          85             85             89      86.333333\n"
          ]
        }
      ],
      "source": [
        "# Обновленная часть кода для вычисления средних баллов\n",
        "df['average_score'] = df[['math_score', 'english_score', 'history_score']].mean(axis=1)\n",
        "\n",
        "print(df)"
      ]
    },
    {
      "cell_type": "markdown",
      "id": "34fb1db9",
      "metadata": {
        "id": "34fb1db9"
      },
      "source": [
        "6.У Вас є великий DataFrame df, що представляє транзакції продажу в магазині. Цей DataFrame містить понад 1 мільйон рядків і кілька стовпців, зокрема «product_name», «product_category», «product_price» і «transaction_date».\n",
        "\n",
        "І «product_name», і «product_category» є рядками, що представляють численні, але обмежені унікальні назви продуктів і категорії відповідно.\n",
        "\n",
        "Напишіть код для ефективного перетворення стовпців «product_name» і «product_category» на категорійний тип для ефективного використання пам’яті.\n",
        "Спробуйте вирішити це завдання, мінімізуючи використання пам'яті та зберігаючи читабельність коду. Крім того, виміряйте використання пам’яті до та після перетворення, щоб продемонструвати підвищення ефективності.\n",
        "\n",
        "Порівняйте кількість памʼяті, яку займає наданий набір даних і новий, створений Вами. В лекції був приклад. В скільки разів менше памʼяті займає новий датафрейм?"
      ]
    },
    {
      "cell_type": "code",
      "execution_count": null,
      "id": "d4926909",
      "metadata": {
        "ExecuteTime": {
          "end_time": "2023-07-29T21:19:30.009527Z",
          "start_time": "2023-07-29T21:19:29.595210Z"
        },
        "id": "d4926909"
      },
      "outputs": [],
      "source": [
        "import pandas as pd\n",
        "import numpy as np\n",
        "\n",
        "np.random.seed(0)\n",
        "\n",
        "products = ['apple', 'banana', 'cherry', 'dates', 'elderberry']\n",
        "categories = ['fruit', 'fruit', 'fruit', 'fruit', 'fruit']\n",
        "\n",
        "N_ROWS = 10**6\n",
        "df = pd.DataFrame({\n",
        "    'product_name': np.random.choice(products, N_ROWS),\n",
        "    'product_category': np.random.choice(categories, N_ROWS),\n",
        "    'product_price': np.random.uniform(1, 10, N_ROWS),\n",
        "    'transaction_date': pd.date_range(start='1/1/2000', periods=N_ROWS, freq='h')\n",
        "})\n"
      ]
    },
    {
      "cell_type": "code",
      "source": [
        "print(\"Memory usage before conversion:\")\n",
        "df.memory_usage(index=False).sum()"
      ],
      "metadata": {
        "colab": {
          "base_uri": "https://localhost:8080/"
        },
        "id": "FpgX7V7YJvbr",
        "outputId": "ca1cd6a6-67d2-4cff-a363-e634f9d9f6e4"
      },
      "id": "FpgX7V7YJvbr",
      "execution_count": null,
      "outputs": [
        {
          "output_type": "stream",
          "name": "stdout",
          "text": [
            "Memory usage before conversion:\n"
          ]
        },
        {
          "output_type": "execute_result",
          "data": {
            "text/plain": [
              "32000000"
            ]
          },
          "metadata": {},
          "execution_count": 14
        }
      ]
    },
    {
      "cell_type": "code",
      "source": [
        "#Преобразование строковых столбцов в категориальный тип и измерение использования памяти:\n",
        "df['product_name'] = df['product_name'].astype('category')\n",
        "df['product_category'] = df['product_category'].astype('category')\n",
        "\n",
        "print(\"Memory usage after conversion:\")\n",
        "print(df.memory_usage(index=False).sum())"
      ],
      "metadata": {
        "colab": {
          "base_uri": "https://localhost:8080/"
        },
        "id": "1w_tB50xJ1Fp",
        "outputId": "bc56127f-7a31-487f-80d8-56eac8880ae2"
      },
      "id": "1w_tB50xJ1Fp",
      "execution_count": null,
      "outputs": [
        {
          "output_type": "stream",
          "name": "stdout",
          "text": [
            "Memory usage after conversion:\n",
            "18000328\n"
          ]
        }
      ]
    },
    {
      "cell_type": "code",
      "source": [
        "print(f\"Маємо зниження витрат памʼяті на {round((1-18000328/32000000)*100,2)}% !\")"
      ],
      "metadata": {
        "colab": {
          "base_uri": "https://localhost:8080/"
        },
        "id": "MFQRPW7nAbS4",
        "outputId": "edc2ebaf-c031-4160-bd1a-bd34c8b22ef1"
      },
      "id": "MFQRPW7nAbS4",
      "execution_count": null,
      "outputs": [
        {
          "output_type": "stream",
          "name": "stdout",
          "text": [
            "Маємо зниження витрат памʼяті на 43.75% !\n"
          ]
        }
      ]
    },
    {
      "cell_type": "markdown",
      "id": "131cc08d",
      "metadata": {
        "id": "131cc08d"
      },
      "source": [
        "7.В цьому завданні кілька пунктів. Треба виконати усі послідовно.   \n",
        "    7.1. Завантажте дані у pandas dataframe з файла `ecommerce_data.csv`. Обовʼязково при завантаженні вкажіть параметр `encoding = 'ISO-8859-1'`, без нього буде помилка.  \n",
        "    7.2. Заповніть пропущені значення в колонці CustomerID на -1 та перетворіть тип цієї колонки на str, адже зараз вона типу float, а це не правильний тип даних для ідентифікатора клієнта.  \n",
        "    7.3. З допомогою бібліотеки sweetviz побудуйте html звіт, який порівнює дані для країни \"Germany\" і країни \"France\". У Вас можуть виникнути багато попереджень (Warning), їх рекомендую вимкнути наступним шматком коду   \n",
        "    \n",
        "   \n",
        "    import warnings\n",
        "\n",
        "    with warnings.catch_warnings(record=True):\n",
        "        # your code\n",
        "    \n",
        "    \n",
        "   7.4.Напишіть 5 відмінностей для двох зазначених країн на основі побудованого звіту, без виконання додаткового аналізу іншими інструментами."
      ]
    },
    {
      "cell_type": "code",
      "source": [
        "# 7.1.\n",
        "\n",
        "from google.colab import drive\n",
        "drive.mount('/content/drive')"
      ],
      "metadata": {
        "colab": {
          "base_uri": "https://localhost:8080/"
        },
        "id": "CIkOzGI8DoSE",
        "outputId": "b746e219-1906-4b80-c333-9a3138d350cc"
      },
      "id": "CIkOzGI8DoSE",
      "execution_count": null,
      "outputs": [
        {
          "output_type": "stream",
          "name": "stdout",
          "text": [
            "Mounted at /content/drive\n"
          ]
        }
      ]
    },
    {
      "cell_type": "code",
      "source": [
        "!ls drive/MyDrive/ecommerce_data.csv"
      ],
      "metadata": {
        "colab": {
          "base_uri": "https://localhost:8080/"
        },
        "id": "kCPwJhayD_cJ",
        "outputId": "9da7628a-62d9-4725-93c6-fcab97877ffa"
      },
      "id": "kCPwJhayD_cJ",
      "execution_count": null,
      "outputs": [
        {
          "output_type": "stream",
          "name": "stdout",
          "text": [
            "drive/MyDrive/ecommerce_data.csv\n"
          ]
        }
      ]
    },
    {
      "cell_type": "code",
      "source": [
        "data_path = 'drive/MyDrive/ecommerce_data.csv'\n",
        "df = pd.read_csv(data_path, encoding = 'ISO-8859-1')"
      ],
      "metadata": {
        "id": "N6old_weEQEd"
      },
      "id": "N6old_weEQEd",
      "execution_count": null,
      "outputs": []
    },
    {
      "cell_type": "code",
      "source": [
        "# 7.2.\n",
        "# Заполнение пропущенных значений в столбце 'CustomerID' значением -1\n",
        "df['CustomerID'] = df['CustomerID'].fillna(-1)\n",
        "\n",
        "# Преобразование типа данных столбца 'CustomerID' в строковый\n",
        "df['CustomerID'] = df['CustomerID'].astype(str)\n",
        "\n",
        "# Вывод первых строк для проверки\n",
        "print(df.head())"
      ],
      "metadata": {
        "colab": {
          "base_uri": "https://localhost:8080/"
        },
        "id": "PkDlQROVMXeI",
        "outputId": "8d2a6eaf-8b79-413f-8122-7b9acd37b38b"
      },
      "id": "PkDlQROVMXeI",
      "execution_count": null,
      "outputs": [
        {
          "output_type": "stream",
          "name": "stdout",
          "text": [
            "  InvoiceNo StockCode                          Description  Quantity  \\\n",
            "0    536365    85123A   WHITE HANGING HEART T-LIGHT HOLDER         6   \n",
            "1    536365     71053                  WHITE METAL LANTERN         6   \n",
            "2    536365    84406B       CREAM CUPID HEARTS COAT HANGER         8   \n",
            "3    536365    84029G  KNITTED UNION FLAG HOT WATER BOTTLE         6   \n",
            "4    536365    84029E       RED WOOLLY HOTTIE WHITE HEART.         6   \n",
            "\n",
            "      InvoiceDate  UnitPrice CustomerID         Country  \n",
            "0  12/1/2010 8:26       2.55    17850.0  United Kingdom  \n",
            "1  12/1/2010 8:26       3.39    17850.0  United Kingdom  \n",
            "2  12/1/2010 8:26       2.75    17850.0  United Kingdom  \n",
            "3  12/1/2010 8:26       3.39    17850.0  United Kingdom  \n",
            "4  12/1/2010 8:26       3.39    17850.0  United Kingdom  \n"
          ]
        }
      ]
    },
    {
      "cell_type": "code",
      "source": [
        "#7.3.\n",
        "\n",
        "! pip install sweetviz"
      ],
      "metadata": {
        "colab": {
          "base_uri": "https://localhost:8080/"
        },
        "id": "EUiTOfqckHSv",
        "outputId": "4b39129a-e027-4e98-db34-a69df0763a5a"
      },
      "id": "EUiTOfqckHSv",
      "execution_count": null,
      "outputs": [
        {
          "output_type": "stream",
          "name": "stdout",
          "text": [
            "Collecting sweetviz\n",
            "  Downloading sweetviz-2.3.1-py3-none-any.whl (15.1 MB)\n",
            "\u001b[2K     \u001b[90m━━━━━━━━━━━━━━━━━━━━━━━━━━━━━━━━━━━━━━━━\u001b[0m \u001b[32m15.1/15.1 MB\u001b[0m \u001b[31m35.2 MB/s\u001b[0m eta \u001b[36m0:00:00\u001b[0m\n",
            "\u001b[?25hRequirement already satisfied: pandas!=1.0.0,!=1.0.1,!=1.0.2,>=0.25.3 in /usr/local/lib/python3.10/dist-packages (from sweetviz) (2.0.3)\n",
            "Requirement already satisfied: numpy>=1.16.0 in /usr/local/lib/python3.10/dist-packages (from sweetviz) (1.25.2)\n",
            "Requirement already satisfied: matplotlib>=3.1.3 in /usr/local/lib/python3.10/dist-packages (from sweetviz) (3.7.1)\n",
            "Requirement already satisfied: tqdm>=4.43.0 in /usr/local/lib/python3.10/dist-packages (from sweetviz) (4.66.4)\n",
            "Requirement already satisfied: scipy>=1.3.2 in /usr/local/lib/python3.10/dist-packages (from sweetviz) (1.11.4)\n",
            "Requirement already satisfied: jinja2>=2.11.1 in /usr/local/lib/python3.10/dist-packages (from sweetviz) (3.1.4)\n",
            "Requirement already satisfied: importlib-resources>=1.2.0 in /usr/local/lib/python3.10/dist-packages (from sweetviz) (6.4.0)\n",
            "Requirement already satisfied: MarkupSafe>=2.0 in /usr/local/lib/python3.10/dist-packages (from jinja2>=2.11.1->sweetviz) (2.1.5)\n",
            "Requirement already satisfied: contourpy>=1.0.1 in /usr/local/lib/python3.10/dist-packages (from matplotlib>=3.1.3->sweetviz) (1.2.1)\n",
            "Requirement already satisfied: cycler>=0.10 in /usr/local/lib/python3.10/dist-packages (from matplotlib>=3.1.3->sweetviz) (0.12.1)\n",
            "Requirement already satisfied: fonttools>=4.22.0 in /usr/local/lib/python3.10/dist-packages (from matplotlib>=3.1.3->sweetviz) (4.53.1)\n",
            "Requirement already satisfied: kiwisolver>=1.0.1 in /usr/local/lib/python3.10/dist-packages (from matplotlib>=3.1.3->sweetviz) (1.4.5)\n",
            "Requirement already satisfied: packaging>=20.0 in /usr/local/lib/python3.10/dist-packages (from matplotlib>=3.1.3->sweetviz) (24.1)\n",
            "Requirement already satisfied: pillow>=6.2.0 in /usr/local/lib/python3.10/dist-packages (from matplotlib>=3.1.3->sweetviz) (9.4.0)\n",
            "Requirement already satisfied: pyparsing>=2.3.1 in /usr/local/lib/python3.10/dist-packages (from matplotlib>=3.1.3->sweetviz) (3.1.2)\n",
            "Requirement already satisfied: python-dateutil>=2.7 in /usr/local/lib/python3.10/dist-packages (from matplotlib>=3.1.3->sweetviz) (2.8.2)\n",
            "Requirement already satisfied: pytz>=2020.1 in /usr/local/lib/python3.10/dist-packages (from pandas!=1.0.0,!=1.0.1,!=1.0.2,>=0.25.3->sweetviz) (2023.4)\n",
            "Requirement already satisfied: tzdata>=2022.1 in /usr/local/lib/python3.10/dist-packages (from pandas!=1.0.0,!=1.0.1,!=1.0.2,>=0.25.3->sweetviz) (2024.1)\n",
            "Requirement already satisfied: six>=1.5 in /usr/local/lib/python3.10/dist-packages (from python-dateutil>=2.7->matplotlib>=3.1.3->sweetviz) (1.16.0)\n",
            "Installing collected packages: sweetviz\n",
            "Successfully installed sweetviz-2.3.1\n"
          ]
        }
      ]
    },
    {
      "cell_type": "code",
      "source": [
        "# загрузка в html\n",
        "\n",
        "import sweetviz as sv\n",
        "\n",
        "report = sv.analyze(df)\n",
        "report.show_html('ecommerce_data.html')"
      ],
      "metadata": {
        "colab": {
          "base_uri": "https://localhost:8080/",
          "height": 66,
          "referenced_widgets": [
            "bc47b48de4d44e0dbaca1f463bae33ef",
            "8f4b1e10eb9d49cd8e378dd637e708bc",
            "50ee71a98b834aa2bf085d1668015b81",
            "a5ecf75163b4459d9961f340c0d6eadf",
            "adc9619c6e37492b8b867525b9df5915",
            "e7cb0bdea39543c2821c690e47e10729",
            "fd2e6bff6f85481eb7a2d599d8f12529",
            "5a4514d6641f474aa1422e5291029c02",
            "4ddeeaffe6f74ed5a459832764a89063",
            "99cf1c1258954badb74142febc1bf508",
            "cba4fc8368574d91a00753b7a2ee043c"
          ]
        },
        "id": "Xoyx7I5NkR9w",
        "outputId": "e7cc7166-88d6-4d53-80b2-ea10738a0594"
      },
      "id": "Xoyx7I5NkR9w",
      "execution_count": null,
      "outputs": [
        {
          "output_type": "display_data",
          "data": {
            "text/plain": [
              "                                             |          | [  0%]   00:00 -> (? left)"
            ],
            "application/vnd.jupyter.widget-view+json": {
              "version_major": 2,
              "version_minor": 0,
              "model_id": "bc47b48de4d44e0dbaca1f463bae33ef"
            }
          },
          "metadata": {}
        },
        {
          "output_type": "stream",
          "name": "stdout",
          "text": [
            "Report ecommerce_data.html was generated! NOTEBOOK/COLAB USERS: the web browser MAY not pop up, regardless, the report IS saved in your notebook/colab files.\n"
          ]
        }
      ]
    },
    {
      "cell_type": "code",
      "source": [
        "# вар 1 - сравнение данных по 2 странам\n",
        "\n",
        "import warnings\n",
        "\n",
        "with warnings.catch_warnings(record=True):\n",
        "\n",
        "  compare_report = sv.compare(\n",
        "    [df.sample(frac=0.2, random_state=20), \"Germany\"],\n",
        "    [df.sample(frac=0.2, random_state=30), \"France\"])\n",
        "  compare_report.show_html('ecommerce_compare_report.html')"
      ],
      "metadata": {
        "colab": {
          "base_uri": "https://localhost:8080/",
          "height": 66,
          "referenced_widgets": [
            "f4d279d80d2142d882691509dc85e2dc",
            "b148fbc8a4ee45ca866efc123e0dd9a0",
            "9a448a45bfb54b75b59b7671fc4a07b7",
            "43f4f34e0f684a4ba7b9ce588a5a91f2",
            "4e8f82191e7244a0b2ef558030305233",
            "a0d7b3a739c94e0bac09d69da80072e4",
            "5c3018ce1ac44b8aad8fb4eedb1b2154",
            "5fe5a62df7474f4e8368966379604035",
            "45f2c2d7a1d54a72adce9f423d61c705",
            "afd7aff16e614356b5155c7b14b8715b",
            "7bac92ffb87349b89c08b07793f13462"
          ]
        },
        "id": "aVD-fpTUlkvb",
        "outputId": "155dcc79-d811-4783-cd83-8de4d9d8da58"
      },
      "id": "aVD-fpTUlkvb",
      "execution_count": null,
      "outputs": [
        {
          "output_type": "display_data",
          "data": {
            "text/plain": [
              "                                             |          | [  0%]   00:00 -> (? left)"
            ],
            "application/vnd.jupyter.widget-view+json": {
              "version_major": 2,
              "version_minor": 0,
              "model_id": "f4d279d80d2142d882691509dc85e2dc"
            }
          },
          "metadata": {}
        },
        {
          "output_type": "stream",
          "name": "stdout",
          "text": [
            "Report ecommerce_compare_report.html was generated! NOTEBOOK/COLAB USERS: the web browser MAY not pop up, regardless, the report IS saved in your notebook/colab files.\n"
          ]
        }
      ]
    },
    {
      "cell_type": "code",
      "source": [
        " # вар 2 - сравнение данных по 2 странам и прописала путь куда сохранить\n",
        "\n",
        " import warnings\n",
        "\n",
        "with warnings.catch_warnings(record=True):\n",
        "\n",
        "  # Фильтрация данных для каждой страны\n",
        "    df_germany = df[df['Country'] == 'Germany']\n",
        "    df_france = df[df['Country'] == 'France']\n",
        "\n",
        "    # Создание отчета для сравнения\n",
        "    compare_report = sv.compare([df_germany, \"Germany\"], [df_france, \"France\"])\n",
        "\n",
        "    # Создание и сохранение HTML-отчета\n",
        "    compare_report.show_html('drive/MyDrive/ecommerce_compare_report.html')"
      ],
      "metadata": {
        "colab": {
          "base_uri": "https://localhost:8080/",
          "height": 66,
          "referenced_widgets": [
            "96f5ed376fb94e91b482628944c62f2c",
            "f2a08345382b4140b54ec3cabca0db7c",
            "0d9cb3725735426cbfa9bf073ec60469",
            "aa130b60d05c466faaa1009830ded14a",
            "0a300ecd42b3420f9ada884af6fa858a",
            "75693aa3ae41462eb060962e0e09252e",
            "3c0bb021e4824566bb0fe114d822dff4",
            "76541b95e7604f6eae8d93a97d396fc2",
            "4c9d1d8c8d9b4d99bf8c35e16c17de42",
            "e927cbfd103d4e69a6a44e2cf97e78c8",
            "6195eed28a61442386c05d9288566a01"
          ]
        },
        "id": "svlb7_ktqNgx",
        "outputId": "37c40ac1-231a-4a8a-c95d-0735e47f493e"
      },
      "id": "svlb7_ktqNgx",
      "execution_count": null,
      "outputs": [
        {
          "output_type": "display_data",
          "data": {
            "text/plain": [
              "                                             |          | [  0%]   00:00 -> (? left)"
            ],
            "application/vnd.jupyter.widget-view+json": {
              "version_major": 2,
              "version_minor": 0,
              "model_id": "96f5ed376fb94e91b482628944c62f2c"
            }
          },
          "metadata": {}
        },
        {
          "output_type": "stream",
          "name": "stdout",
          "text": [
            "Report drive/MyDrive/ecommerce_compare_report.html was generated! NOTEBOOK/COLAB USERS: the web browser MAY not pop up, regardless, the report IS saved in your notebook/colab files.\n"
          ]
        }
      ]
    },
    {
      "cell_type": "code",
      "source": [
        "# проверяем есть ли файл на гугл-диске\n",
        "\n",
        "!ls drive/MyDrive/"
      ],
      "metadata": {
        "colab": {
          "base_uri": "https://localhost:8080/"
        },
        "id": "PN1TC-imro88",
        "outputId": "3ff9647a-a7bc-406d-a50f-b6f1c267ac04"
      },
      "id": "PN1TC-imro88",
      "execution_count": null,
      "outputs": [
        {
          "output_type": "stream",
          "name": "stdout",
          "text": [
            " 135593549.pdf\n",
            "'1 задание.gdoc'\n",
            " 20190206_235513.jpg\n",
            "'cima p1 Kaplan.zip (Unzipped Files)'\n",
            "'CIMA_P1 Занятие 2 (1).gdoc'\n",
            "'CIMA_P1 Занятие 2.gdoc'\n",
            " Classroom\n",
            "'Colab Notebooks'\n",
            " day1-wishes.pdf\n",
            " ecommerce_compare_report.html\n",
            " ecommerce_data.csv\n",
            "'E-ticket receipt AHAIEV AKHLIMAN Mr 5662411876304.pdf'\n",
            " health_insurance_cross_sell_prediction.csv\n",
            " hw4.6.ipynb\n",
            " hw№1_SQL.gdoc\n",
            " hw№2_SQL.gdoc\n",
            "'OBS-Studio-30.0 (1).2-Full-Installer-x64.exe'\n",
            " OBS-Studio-30.0.2-Full-Installer-x64.exe\n",
            "'Online Retail.csv'\n",
            " online_retail_Fr_UnitPrice_sorted.csv\n",
            " supermarket_sales.csv\n",
            " yulu_rental.csv\n",
            "'Агаева_Сима домашнее1.xlsx'\n",
            "'Агаева Тєранє_Сима Р1_домашнее 5.xlsx'\n",
            "'Агаева Тэранэ _Домашнее 2 (1).xlsx'\n",
            "'Агаева Тэранэ _Домашнее 2.xlsx'\n",
            "'Агаева Тэранэ_СИМА P1_домашнее 3.xlsx'\n",
            "'Агаева Тэранэ_СИМА P1_домашнее 9.xlsx'\n",
            "'Агаева Тэранэ_Сима_Домашнее 4.xlsx'\n",
            "'Агаева Тэранэ_Сима Р1_Домашнее8.xlsx'\n",
            " День_1_Знайомство_з_програмуванням_і_роботою_з_табличними_даними.ipynb\n",
            " День_2_Візуалізація_даних_Shared.ipynb\n",
            " Контакты.vcf\n",
            " Копия_блокнота__hw_3_2_Основи_роботи_з_даними_у_Pandas_ipynb_.ipynb\n",
            " Копия_блокнота__hw_3_3_Розширені_методи_обробки_даних_у_Pandas_ipynb_.ipynb\n",
            " Копия_блокнота__hw_3_4_apply,_groupby,_pivot_table_ipynb_.ipynb\n",
            " Копия_блокнота__Lecture_3_1_3_3_Pandas_and_numpy_ipynb_.ipynb\n",
            " Копия_блокнота__Lecture_3_4_Функція_apply_в_pandas_.ipynb\n",
            "'Налоговая скидка.gdoc'\n",
            " папа\n",
            "'Расчеты к вебинару 1.gsheet'\n",
            "'Робочий зошит.gdoc'\n",
            "'Татьяна Татьяна.vcf'\n",
            "'Формулы отклонений (1).gdoc'\n",
            "'Формулы отклонений.gdoc'\n"
          ]
        }
      ]
    },
    {
      "cell_type": "markdown",
      "source": [
        "7.4. Проаналізувавши звіт по Німеччині та Франції у файлі ecommerce_compare_report.html, можемо зробити такі висновки:\n",
        "1. Quantity - кількість продажів більша у Німеччині ніж у Франціїї Sum 117K та 110K.\n",
        "2. Середня вартість замовлення (UnitPrice):\n",
        "Німеччина: нижче середнє значення вартості замовлення.\n",
        "Франція: вище середнє значення вартості замовлення.\n",
        "3. Загальна сума покупок (Total Sales):\n",
        "\n",
        "Німеччина: 120.1 мільйона\n",
        "Франція: 107.6 мільйона\n",
        "\n",
        "4. Кількість унікальних клієнтів (Unique Customers):\n",
        "\n",
        "Німеччина: більше унікальних клієнтів.\n",
        "Франція: менше унікальних клієнтів.\n",
        "\n",
        "5. Загальна кількість інвойсів більша у Німеччині"
      ],
      "metadata": {
        "id": "Y5GtaYvyhafh"
      },
      "id": "Y5GtaYvyhafh"
    },
    {
      "cell_type": "markdown",
      "id": "07ae375a",
      "metadata": {
        "ExecuteTime": {
          "end_time": "2023-07-30T18:55:42.650457Z",
          "start_time": "2023-07-30T18:55:42.635729Z"
        },
        "id": "07ae375a"
      },
      "source": [
        "8.З допомогою ChatGPT виявіть, чи є та які помилки в наступному коді.  \n",
        "Попросіть після цього переписати код із дотриманням PEP8. Проаналізуйте результат. Чи справді ChatGPT виправив всі стилістичні помилки? Якщо ні, напишіть йому ще кілька запитів, аби код відповідав вимогам PEP8.  \n",
        "Вставте фінальну версію коду з чату у ноутбук та запустіть на заданому списку. Має вертатись 50.  \n",
        "Напишіть, які промпти (інструкції) при зверненні до ChatGPT ви застосували та додайте скріншот(-и) з промптами та відповідями чата.  \n",
        "Якщо зробили висновки при виконанні цього завдання, то діліться також :)\n",
        "\n",
        "**ЯК ВСТАВИТИ СКРІНШОТ в Jupyter Notebook** :\n",
        "1. Створіть нову Markdown клітинку\n",
        "2. В новоствореній клітинці обираєте в меню Jupyter Notebook Edit -> Insert Image\n",
        "3. Обираєте картинку\n",
        "4. В клітинці має зʼявитись текст, який містить картинку. Запустіть клітинку.\n",
        "\n",
        "Або можна просто перетягнути картинку в Markdown клітинку."
      ]
    },
    {
      "cell_type": "code",
      "execution_count": null,
      "id": "a5c010c4",
      "metadata": {
        "ExecuteTime": {
          "end_time": "2023-07-30T19:16:20.977219Z",
          "start_time": "2023-07-30T19:16:20.973688Z"
        },
        "id": "a5c010c4"
      },
      "outputs": [],
      "source": [
        "def CalculateVariance(nl):\n",
        "    sum_list = 0\n",
        "    for n in nl:\n",
        "        sum_list = sum_list + n\n",
        "    mean = sum_list / len(nl)\n",
        "    sum_squares = 0\n",
        "    for n in nl:\n",
        "        sum_squares = sum_squares + n**2\n",
        "    mean_squares = sum_squares / len(nl)\n",
        "    return mean_squares"
      ]
    },
    {
      "cell_type": "code",
      "execution_count": null,
      "id": "24bb3f81",
      "metadata": {
        "ExecuteTime": {
          "end_time": "2023-07-30T19:16:09.201841Z",
          "start_time": "2023-07-30T19:16:09.199174Z"
        },
        "id": "24bb3f81",
        "colab": {
          "base_uri": "https://localhost:8080/"
        },
        "outputId": "2b7aeb43-6392-4898-e160-1824b463ac8e"
      },
      "outputs": [
        {
          "output_type": "execute_result",
          "data": {
            "text/plain": [
              "[75, 80, 85, 90, 95]"
            ]
          },
          "metadata": {},
          "execution_count": 28
        }
      ],
      "source": [
        "input_list = [75, 80, 85, 90, 95]\n"
      ]
    },
    {
      "cell_type": "markdown",
      "source": [
        "Аналіз коду за допомогою чату gpt:\n",
        "Назва функції CalculateVariance повинна бути в нижньому регістрі з підкресленнями між словами відповідно до PEP8.\n",
        "Імена змінних повинні бути більш описовими.\n",
        "Додати коментарі для кращого розуміння коду.\n",
        "Функція повинна повертати дисперсію, а не середнє значення квадратів.\n",
        "Додати обчислення та повернення дисперсії.\n",
        "\n",
        "\n",
        "Промпти\n",
        "\"Виявіть, чи є та які помилки в наступному коді.\"\n",
        "\"Перепишіть код із дотриманням PEP8.\""
      ],
      "metadata": {
        "id": "2YTL-OnjpUce"
      },
      "id": "2YTL-OnjpUce"
    },
    {
      "cell_type": "code",
      "source": [
        "#Переписаний код відповідно до PEP8\n",
        "\n",
        "def calculate_variance(numbers):\n",
        "    \"\"\"\n",
        "    Функція для обчислення дисперсії списку чисел.\n",
        "\n",
        "    :param numbers: список чисел\n",
        "    :return: дисперсія чисел у списку\n",
        "    \"\"\"\n",
        "    # Обчислення суми чисел у списку\n",
        "    total_sum = sum(numbers)\n",
        "\n",
        "    # Обчислення середнього значення\n",
        "    mean = total_sum / len(numbers)\n",
        "\n",
        "    # Обчислення суми квадратів чисел\n",
        "    total_sum_squares = sum([number ** 2 for number in numbers])\n",
        "\n",
        "    # Обчислення середнього значення квадратів\n",
        "    mean_squares = total_sum_squares / len(numbers)\n",
        "\n",
        "    # Обчислення дисперсії\n",
        "    variance = mean_squares - mean ** 2\n",
        "    return variance\n",
        "\n",
        "# Заданий список\n",
        "input_list = [75, 80, 85, 90, 95]\n",
        "\n",
        "# Виконання функції\n",
        "variance_result = calculate_variance(input_list)\n",
        "print(variance_result)"
      ],
      "metadata": {
        "colab": {
          "base_uri": "https://localhost:8080/"
        },
        "id": "Ixcm1Y3ypB5w",
        "outputId": "0c7bcdf9-a27e-4b27-a845-82a877843ed3"
      },
      "id": "Ixcm1Y3ypB5w",
      "execution_count": null,
      "outputs": [
        {
          "output_type": "stream",
          "name": "stdout",
          "text": [
            "50.0\n"
          ]
        }
      ]
    },
    {
      "cell_type": "markdown",
      "source": [
        "![Screen.PNG](data:image/png;base64,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)"
      ],
      "metadata": {
        "id": "AbsvaLrkqoWs"
      },
      "id": "AbsvaLrkqoWs"
    }
  ],
  "metadata": {
    "kernelspec": {
      "display_name": "Python 3 (ipykernel)",
      "language": "python",
      "name": "python3"
    },
    "language_info": {
      "codemirror_mode": {
        "name": "ipython",
        "version": 3
      },
      "file_extension": ".py",
      "mimetype": "text/x-python",
      "name": "python",
      "nbconvert_exporter": "python",
      "pygments_lexer": "ipython3",
      "version": "3.10.4"
    },
    "toc": {
      "base_numbering": 1,
      "nav_menu": {},
      "number_sections": true,
      "sideBar": true,
      "skip_h1_title": false,
      "title_cell": "Table of Contents",
      "title_sidebar": "Contents",
      "toc_cell": false,
      "toc_position": {},
      "toc_section_display": true,
      "toc_window_display": false
    },
    "colab": {
      "provenance": [],
      "include_colab_link": true
    },
    "widgets": {
      "application/vnd.jupyter.widget-state+json": {
        "bc47b48de4d44e0dbaca1f463bae33ef": {
          "model_module": "@jupyter-widgets/controls",
          "model_name": "HBoxModel",
          "model_module_version": "1.5.0",
          "state": {
            "_dom_classes": [],
            "_model_module": "@jupyter-widgets/controls",
            "_model_module_version": "1.5.0",
            "_model_name": "HBoxModel",
            "_view_count": null,
            "_view_module": "@jupyter-widgets/controls",
            "_view_module_version": "1.5.0",
            "_view_name": "HBoxView",
            "box_style": "",
            "children": [
              "IPY_MODEL_8f4b1e10eb9d49cd8e378dd637e708bc",
              "IPY_MODEL_50ee71a98b834aa2bf085d1668015b81",
              "IPY_MODEL_a5ecf75163b4459d9961f340c0d6eadf"
            ],
            "layout": "IPY_MODEL_adc9619c6e37492b8b867525b9df5915"
          }
        },
        "8f4b1e10eb9d49cd8e378dd637e708bc": {
          "model_module": "@jupyter-widgets/controls",
          "model_name": "HTMLModel",
          "model_module_version": "1.5.0",
          "state": {
            "_dom_classes": [],
            "_model_module": "@jupyter-widgets/controls",
            "_model_module_version": "1.5.0",
            "_model_name": "HTMLModel",
            "_view_count": null,
            "_view_module": "@jupyter-widgets/controls",
            "_view_module_version": "1.5.0",
            "_view_name": "HTMLView",
            "description": "",
            "description_tooltip": null,
            "layout": "IPY_MODEL_e7cb0bdea39543c2821c690e47e10729",
            "placeholder": "​",
            "style": "IPY_MODEL_fd2e6bff6f85481eb7a2d599d8f12529",
            "value": "Done! Use &#x27;show&#x27; commands to display/save.   "
          }
        },
        "50ee71a98b834aa2bf085d1668015b81": {
          "model_module": "@jupyter-widgets/controls",
          "model_name": "FloatProgressModel",
          "model_module_version": "1.5.0",
          "state": {
            "_dom_classes": [],
            "_model_module": "@jupyter-widgets/controls",
            "_model_module_version": "1.5.0",
            "_model_name": "FloatProgressModel",
            "_view_count": null,
            "_view_module": "@jupyter-widgets/controls",
            "_view_module_version": "1.5.0",
            "_view_name": "ProgressView",
            "bar_style": "success",
            "description": "",
            "description_tooltip": null,
            "layout": "IPY_MODEL_5a4514d6641f474aa1422e5291029c02",
            "max": 1,
            "min": 0,
            "orientation": "horizontal",
            "style": "IPY_MODEL_4ddeeaffe6f74ed5a459832764a89063",
            "value": 1
          }
        },
        "a5ecf75163b4459d9961f340c0d6eadf": {
          "model_module": "@jupyter-widgets/controls",
          "model_name": "HTMLModel",
          "model_module_version": "1.5.0",
          "state": {
            "_dom_classes": [],
            "_model_module": "@jupyter-widgets/controls",
            "_model_module_version": "1.5.0",
            "_model_name": "HTMLModel",
            "_view_count": null,
            "_view_module": "@jupyter-widgets/controls",
            "_view_module_version": "1.5.0",
            "_view_name": "HTMLView",
            "description": "",
            "description_tooltip": null,
            "layout": "IPY_MODEL_99cf1c1258954badb74142febc1bf508",
            "placeholder": "​",
            "style": "IPY_MODEL_cba4fc8368574d91a00753b7a2ee043c",
            "value": " [100%]   00:00 -&gt; (00:00 left)"
          }
        },
        "adc9619c6e37492b8b867525b9df5915": {
          "model_module": "@jupyter-widgets/base",
          "model_name": "LayoutModel",
          "model_module_version": "1.2.0",
          "state": {
            "_model_module": "@jupyter-widgets/base",
            "_model_module_version": "1.2.0",
            "_model_name": "LayoutModel",
            "_view_count": null,
            "_view_module": "@jupyter-widgets/base",
            "_view_module_version": "1.2.0",
            "_view_name": "LayoutView",
            "align_content": null,
            "align_items": null,
            "align_self": null,
            "border": null,
            "bottom": null,
            "display": "inline-flex",
            "flex": null,
            "flex_flow": "row wrap",
            "grid_area": null,
            "grid_auto_columns": null,
            "grid_auto_flow": null,
            "grid_auto_rows": null,
            "grid_column": null,
            "grid_gap": null,
            "grid_row": null,
            "grid_template_areas": null,
            "grid_template_columns": null,
            "grid_template_rows": null,
            "height": null,
            "justify_content": null,
            "justify_items": null,
            "left": null,
            "margin": null,
            "max_height": null,
            "max_width": null,
            "min_height": null,
            "min_width": null,
            "object_fit": null,
            "object_position": null,
            "order": null,
            "overflow": null,
            "overflow_x": null,
            "overflow_y": null,
            "padding": null,
            "right": null,
            "top": null,
            "visibility": null,
            "width": "100%"
          }
        },
        "e7cb0bdea39543c2821c690e47e10729": {
          "model_module": "@jupyter-widgets/base",
          "model_name": "LayoutModel",
          "model_module_version": "1.2.0",
          "state": {
            "_model_module": "@jupyter-widgets/base",
            "_model_module_version": "1.2.0",
            "_model_name": "LayoutModel",
            "_view_count": null,
            "_view_module": "@jupyter-widgets/base",
            "_view_module_version": "1.2.0",
            "_view_name": "LayoutView",
            "align_content": null,
            "align_items": null,
            "align_self": null,
            "border": null,
            "bottom": null,
            "display": null,
            "flex": null,
            "flex_flow": null,
            "grid_area": null,
            "grid_auto_columns": null,
            "grid_auto_flow": null,
            "grid_auto_rows": null,
            "grid_column": null,
            "grid_gap": null,
            "grid_row": null,
            "grid_template_areas": null,
            "grid_template_columns": null,
            "grid_template_rows": null,
            "height": null,
            "justify_content": null,
            "justify_items": null,
            "left": null,
            "margin": null,
            "max_height": null,
            "max_width": null,
            "min_height": null,
            "min_width": null,
            "object_fit": null,
            "object_position": null,
            "order": null,
            "overflow": null,
            "overflow_x": null,
            "overflow_y": null,
            "padding": null,
            "right": null,
            "top": null,
            "visibility": null,
            "width": null
          }
        },
        "fd2e6bff6f85481eb7a2d599d8f12529": {
          "model_module": "@jupyter-widgets/controls",
          "model_name": "DescriptionStyleModel",
          "model_module_version": "1.5.0",
          "state": {
            "_model_module": "@jupyter-widgets/controls",
            "_model_module_version": "1.5.0",
            "_model_name": "DescriptionStyleModel",
            "_view_count": null,
            "_view_module": "@jupyter-widgets/base",
            "_view_module_version": "1.2.0",
            "_view_name": "StyleView",
            "description_width": ""
          }
        },
        "5a4514d6641f474aa1422e5291029c02": {
          "model_module": "@jupyter-widgets/base",
          "model_name": "LayoutModel",
          "model_module_version": "1.2.0",
          "state": {
            "_model_module": "@jupyter-widgets/base",
            "_model_module_version": "1.2.0",
            "_model_name": "LayoutModel",
            "_view_count": null,
            "_view_module": "@jupyter-widgets/base",
            "_view_module_version": "1.2.0",
            "_view_name": "LayoutView",
            "align_content": null,
            "align_items": null,
            "align_self": null,
            "border": null,
            "bottom": null,
            "display": null,
            "flex": "2",
            "flex_flow": null,
            "grid_area": null,
            "grid_auto_columns": null,
            "grid_auto_flow": null,
            "grid_auto_rows": null,
            "grid_column": null,
            "grid_gap": null,
            "grid_row": null,
            "grid_template_areas": null,
            "grid_template_columns": null,
            "grid_template_rows": null,
            "height": null,
            "justify_content": null,
            "justify_items": null,
            "left": null,
            "margin": null,
            "max_height": null,
            "max_width": null,
            "min_height": null,
            "min_width": null,
            "object_fit": null,
            "object_position": null,
            "order": null,
            "overflow": null,
            "overflow_x": null,
            "overflow_y": null,
            "padding": null,
            "right": null,
            "top": null,
            "visibility": null,
            "width": null
          }
        },
        "4ddeeaffe6f74ed5a459832764a89063": {
          "model_module": "@jupyter-widgets/controls",
          "model_name": "ProgressStyleModel",
          "model_module_version": "1.5.0",
          "state": {
            "_model_module": "@jupyter-widgets/controls",
            "_model_module_version": "1.5.0",
            "_model_name": "ProgressStyleModel",
            "_view_count": null,
            "_view_module": "@jupyter-widgets/base",
            "_view_module_version": "1.2.0",
            "_view_name": "StyleView",
            "bar_color": null,
            "description_width": ""
          }
        },
        "99cf1c1258954badb74142febc1bf508": {
          "model_module": "@jupyter-widgets/base",
          "model_name": "LayoutModel",
          "model_module_version": "1.2.0",
          "state": {
            "_model_module": "@jupyter-widgets/base",
            "_model_module_version": "1.2.0",
            "_model_name": "LayoutModel",
            "_view_count": null,
            "_view_module": "@jupyter-widgets/base",
            "_view_module_version": "1.2.0",
            "_view_name": "LayoutView",
            "align_content": null,
            "align_items": null,
            "align_self": null,
            "border": null,
            "bottom": null,
            "display": null,
            "flex": null,
            "flex_flow": null,
            "grid_area": null,
            "grid_auto_columns": null,
            "grid_auto_flow": null,
            "grid_auto_rows": null,
            "grid_column": null,
            "grid_gap": null,
            "grid_row": null,
            "grid_template_areas": null,
            "grid_template_columns": null,
            "grid_template_rows": null,
            "height": null,
            "justify_content": null,
            "justify_items": null,
            "left": null,
            "margin": null,
            "max_height": null,
            "max_width": null,
            "min_height": null,
            "min_width": null,
            "object_fit": null,
            "object_position": null,
            "order": null,
            "overflow": null,
            "overflow_x": null,
            "overflow_y": null,
            "padding": null,
            "right": null,
            "top": null,
            "visibility": null,
            "width": null
          }
        },
        "cba4fc8368574d91a00753b7a2ee043c": {
          "model_module": "@jupyter-widgets/controls",
          "model_name": "DescriptionStyleModel",
          "model_module_version": "1.5.0",
          "state": {
            "_model_module": "@jupyter-widgets/controls",
            "_model_module_version": "1.5.0",
            "_model_name": "DescriptionStyleModel",
            "_view_count": null,
            "_view_module": "@jupyter-widgets/base",
            "_view_module_version": "1.2.0",
            "_view_name": "StyleView",
            "description_width": ""
          }
        },
        "f4d279d80d2142d882691509dc85e2dc": {
          "model_module": "@jupyter-widgets/controls",
          "model_name": "HBoxModel",
          "model_module_version": "1.5.0",
          "state": {
            "_dom_classes": [],
            "_model_module": "@jupyter-widgets/controls",
            "_model_module_version": "1.5.0",
            "_model_name": "HBoxModel",
            "_view_count": null,
            "_view_module": "@jupyter-widgets/controls",
            "_view_module_version": "1.5.0",
            "_view_name": "HBoxView",
            "box_style": "",
            "children": [
              "IPY_MODEL_b148fbc8a4ee45ca866efc123e0dd9a0",
              "IPY_MODEL_9a448a45bfb54b75b59b7671fc4a07b7",
              "IPY_MODEL_43f4f34e0f684a4ba7b9ce588a5a91f2"
            ],
            "layout": "IPY_MODEL_4e8f82191e7244a0b2ef558030305233"
          }
        },
        "b148fbc8a4ee45ca866efc123e0dd9a0": {
          "model_module": "@jupyter-widgets/controls",
          "model_name": "HTMLModel",
          "model_module_version": "1.5.0",
          "state": {
            "_dom_classes": [],
            "_model_module": "@jupyter-widgets/controls",
            "_model_module_version": "1.5.0",
            "_model_name": "HTMLModel",
            "_view_count": null,
            "_view_module": "@jupyter-widgets/controls",
            "_view_module_version": "1.5.0",
            "_view_name": "HTMLView",
            "description": "",
            "description_tooltip": null,
            "layout": "IPY_MODEL_a0d7b3a739c94e0bac09d69da80072e4",
            "placeholder": "​",
            "style": "IPY_MODEL_5c3018ce1ac44b8aad8fb4eedb1b2154",
            "value": "Done! Use &#x27;show&#x27; commands to display/save.   "
          }
        },
        "9a448a45bfb54b75b59b7671fc4a07b7": {
          "model_module": "@jupyter-widgets/controls",
          "model_name": "FloatProgressModel",
          "model_module_version": "1.5.0",
          "state": {
            "_dom_classes": [],
            "_model_module": "@jupyter-widgets/controls",
            "_model_module_version": "1.5.0",
            "_model_name": "FloatProgressModel",
            "_view_count": null,
            "_view_module": "@jupyter-widgets/controls",
            "_view_module_version": "1.5.0",
            "_view_name": "ProgressView",
            "bar_style": "success",
            "description": "",
            "description_tooltip": null,
            "layout": "IPY_MODEL_5fe5a62df7474f4e8368966379604035",
            "max": 1,
            "min": 0,
            "orientation": "horizontal",
            "style": "IPY_MODEL_45f2c2d7a1d54a72adce9f423d61c705",
            "value": 1
          }
        },
        "43f4f34e0f684a4ba7b9ce588a5a91f2": {
          "model_module": "@jupyter-widgets/controls",
          "model_name": "HTMLModel",
          "model_module_version": "1.5.0",
          "state": {
            "_dom_classes": [],
            "_model_module": "@jupyter-widgets/controls",
            "_model_module_version": "1.5.0",
            "_model_name": "HTMLModel",
            "_view_count": null,
            "_view_module": "@jupyter-widgets/controls",
            "_view_module_version": "1.5.0",
            "_view_name": "HTMLView",
            "description": "",
            "description_tooltip": null,
            "layout": "IPY_MODEL_afd7aff16e614356b5155c7b14b8715b",
            "placeholder": "​",
            "style": "IPY_MODEL_7bac92ffb87349b89c08b07793f13462",
            "value": " [100%]   00:05 -&gt; (00:00 left)"
          }
        },
        "4e8f82191e7244a0b2ef558030305233": {
          "model_module": "@jupyter-widgets/base",
          "model_name": "LayoutModel",
          "model_module_version": "1.2.0",
          "state": {
            "_model_module": "@jupyter-widgets/base",
            "_model_module_version": "1.2.0",
            "_model_name": "LayoutModel",
            "_view_count": null,
            "_view_module": "@jupyter-widgets/base",
            "_view_module_version": "1.2.0",
            "_view_name": "LayoutView",
            "align_content": null,
            "align_items": null,
            "align_self": null,
            "border": null,
            "bottom": null,
            "display": "inline-flex",
            "flex": null,
            "flex_flow": "row wrap",
            "grid_area": null,
            "grid_auto_columns": null,
            "grid_auto_flow": null,
            "grid_auto_rows": null,
            "grid_column": null,
            "grid_gap": null,
            "grid_row": null,
            "grid_template_areas": null,
            "grid_template_columns": null,
            "grid_template_rows": null,
            "height": null,
            "justify_content": null,
            "justify_items": null,
            "left": null,
            "margin": null,
            "max_height": null,
            "max_width": null,
            "min_height": null,
            "min_width": null,
            "object_fit": null,
            "object_position": null,
            "order": null,
            "overflow": null,
            "overflow_x": null,
            "overflow_y": null,
            "padding": null,
            "right": null,
            "top": null,
            "visibility": null,
            "width": "100%"
          }
        },
        "a0d7b3a739c94e0bac09d69da80072e4": {
          "model_module": "@jupyter-widgets/base",
          "model_name": "LayoutModel",
          "model_module_version": "1.2.0",
          "state": {
            "_model_module": "@jupyter-widgets/base",
            "_model_module_version": "1.2.0",
            "_model_name": "LayoutModel",
            "_view_count": null,
            "_view_module": "@jupyter-widgets/base",
            "_view_module_version": "1.2.0",
            "_view_name": "LayoutView",
            "align_content": null,
            "align_items": null,
            "align_self": null,
            "border": null,
            "bottom": null,
            "display": null,
            "flex": null,
            "flex_flow": null,
            "grid_area": null,
            "grid_auto_columns": null,
            "grid_auto_flow": null,
            "grid_auto_rows": null,
            "grid_column": null,
            "grid_gap": null,
            "grid_row": null,
            "grid_template_areas": null,
            "grid_template_columns": null,
            "grid_template_rows": null,
            "height": null,
            "justify_content": null,
            "justify_items": null,
            "left": null,
            "margin": null,
            "max_height": null,
            "max_width": null,
            "min_height": null,
            "min_width": null,
            "object_fit": null,
            "object_position": null,
            "order": null,
            "overflow": null,
            "overflow_x": null,
            "overflow_y": null,
            "padding": null,
            "right": null,
            "top": null,
            "visibility": null,
            "width": null
          }
        },
        "5c3018ce1ac44b8aad8fb4eedb1b2154": {
          "model_module": "@jupyter-widgets/controls",
          "model_name": "DescriptionStyleModel",
          "model_module_version": "1.5.0",
          "state": {
            "_model_module": "@jupyter-widgets/controls",
            "_model_module_version": "1.5.0",
            "_model_name": "DescriptionStyleModel",
            "_view_count": null,
            "_view_module": "@jupyter-widgets/base",
            "_view_module_version": "1.2.0",
            "_view_name": "StyleView",
            "description_width": ""
          }
        },
        "5fe5a62df7474f4e8368966379604035": {
          "model_module": "@jupyter-widgets/base",
          "model_name": "LayoutModel",
          "model_module_version": "1.2.0",
          "state": {
            "_model_module": "@jupyter-widgets/base",
            "_model_module_version": "1.2.0",
            "_model_name": "LayoutModel",
            "_view_count": null,
            "_view_module": "@jupyter-widgets/base",
            "_view_module_version": "1.2.0",
            "_view_name": "LayoutView",
            "align_content": null,
            "align_items": null,
            "align_self": null,
            "border": null,
            "bottom": null,
            "display": null,
            "flex": "2",
            "flex_flow": null,
            "grid_area": null,
            "grid_auto_columns": null,
            "grid_auto_flow": null,
            "grid_auto_rows": null,
            "grid_column": null,
            "grid_gap": null,
            "grid_row": null,
            "grid_template_areas": null,
            "grid_template_columns": null,
            "grid_template_rows": null,
            "height": null,
            "justify_content": null,
            "justify_items": null,
            "left": null,
            "margin": null,
            "max_height": null,
            "max_width": null,
            "min_height": null,
            "min_width": null,
            "object_fit": null,
            "object_position": null,
            "order": null,
            "overflow": null,
            "overflow_x": null,
            "overflow_y": null,
            "padding": null,
            "right": null,
            "top": null,
            "visibility": null,
            "width": null
          }
        },
        "45f2c2d7a1d54a72adce9f423d61c705": {
          "model_module": "@jupyter-widgets/controls",
          "model_name": "ProgressStyleModel",
          "model_module_version": "1.5.0",
          "state": {
            "_model_module": "@jupyter-widgets/controls",
            "_model_module_version": "1.5.0",
            "_model_name": "ProgressStyleModel",
            "_view_count": null,
            "_view_module": "@jupyter-widgets/base",
            "_view_module_version": "1.2.0",
            "_view_name": "StyleView",
            "bar_color": null,
            "description_width": ""
          }
        },
        "afd7aff16e614356b5155c7b14b8715b": {
          "model_module": "@jupyter-widgets/base",
          "model_name": "LayoutModel",
          "model_module_version": "1.2.0",
          "state": {
            "_model_module": "@jupyter-widgets/base",
            "_model_module_version": "1.2.0",
            "_model_name": "LayoutModel",
            "_view_count": null,
            "_view_module": "@jupyter-widgets/base",
            "_view_module_version": "1.2.0",
            "_view_name": "LayoutView",
            "align_content": null,
            "align_items": null,
            "align_self": null,
            "border": null,
            "bottom": null,
            "display": null,
            "flex": null,
            "flex_flow": null,
            "grid_area": null,
            "grid_auto_columns": null,
            "grid_auto_flow": null,
            "grid_auto_rows": null,
            "grid_column": null,
            "grid_gap": null,
            "grid_row": null,
            "grid_template_areas": null,
            "grid_template_columns": null,
            "grid_template_rows": null,
            "height": null,
            "justify_content": null,
            "justify_items": null,
            "left": null,
            "margin": null,
            "max_height": null,
            "max_width": null,
            "min_height": null,
            "min_width": null,
            "object_fit": null,
            "object_position": null,
            "order": null,
            "overflow": null,
            "overflow_x": null,
            "overflow_y": null,
            "padding": null,
            "right": null,
            "top": null,
            "visibility": null,
            "width": null
          }
        },
        "7bac92ffb87349b89c08b07793f13462": {
          "model_module": "@jupyter-widgets/controls",
          "model_name": "DescriptionStyleModel",
          "model_module_version": "1.5.0",
          "state": {
            "_model_module": "@jupyter-widgets/controls",
            "_model_module_version": "1.5.0",
            "_model_name": "DescriptionStyleModel",
            "_view_count": null,
            "_view_module": "@jupyter-widgets/base",
            "_view_module_version": "1.2.0",
            "_view_name": "StyleView",
            "description_width": ""
          }
        },
        "96f5ed376fb94e91b482628944c62f2c": {
          "model_module": "@jupyter-widgets/controls",
          "model_name": "HBoxModel",
          "model_module_version": "1.5.0",
          "state": {
            "_dom_classes": [],
            "_model_module": "@jupyter-widgets/controls",
            "_model_module_version": "1.5.0",
            "_model_name": "HBoxModel",
            "_view_count": null,
            "_view_module": "@jupyter-widgets/controls",
            "_view_module_version": "1.5.0",
            "_view_name": "HBoxView",
            "box_style": "",
            "children": [
              "IPY_MODEL_f2a08345382b4140b54ec3cabca0db7c",
              "IPY_MODEL_0d9cb3725735426cbfa9bf073ec60469",
              "IPY_MODEL_aa130b60d05c466faaa1009830ded14a"
            ],
            "layout": "IPY_MODEL_0a300ecd42b3420f9ada884af6fa858a"
          }
        },
        "f2a08345382b4140b54ec3cabca0db7c": {
          "model_module": "@jupyter-widgets/controls",
          "model_name": "HTMLModel",
          "model_module_version": "1.5.0",
          "state": {
            "_dom_classes": [],
            "_model_module": "@jupyter-widgets/controls",
            "_model_module_version": "1.5.0",
            "_model_name": "HTMLModel",
            "_view_count": null,
            "_view_module": "@jupyter-widgets/controls",
            "_view_module_version": "1.5.0",
            "_view_name": "HTMLView",
            "description": "",
            "description_tooltip": null,
            "layout": "IPY_MODEL_75693aa3ae41462eb060962e0e09252e",
            "placeholder": "​",
            "style": "IPY_MODEL_3c0bb021e4824566bb0fe114d822dff4",
            "value": "Done! Use &#x27;show&#x27; commands to display/save.   "
          }
        },
        "0d9cb3725735426cbfa9bf073ec60469": {
          "model_module": "@jupyter-widgets/controls",
          "model_name": "FloatProgressModel",
          "model_module_version": "1.5.0",
          "state": {
            "_dom_classes": [],
            "_model_module": "@jupyter-widgets/controls",
            "_model_module_version": "1.5.0",
            "_model_name": "FloatProgressModel",
            "_view_count": null,
            "_view_module": "@jupyter-widgets/controls",
            "_view_module_version": "1.5.0",
            "_view_name": "ProgressView",
            "bar_style": "success",
            "description": "",
            "description_tooltip": null,
            "layout": "IPY_MODEL_76541b95e7604f6eae8d93a97d396fc2",
            "max": 1,
            "min": 0,
            "orientation": "horizontal",
            "style": "IPY_MODEL_4c9d1d8c8d9b4d99bf8c35e16c17de42",
            "value": 1
          }
        },
        "aa130b60d05c466faaa1009830ded14a": {
          "model_module": "@jupyter-widgets/controls",
          "model_name": "HTMLModel",
          "model_module_version": "1.5.0",
          "state": {
            "_dom_classes": [],
            "_model_module": "@jupyter-widgets/controls",
            "_model_module_version": "1.5.0",
            "_model_name": "HTMLModel",
            "_view_count": null,
            "_view_module": "@jupyter-widgets/controls",
            "_view_module_version": "1.5.0",
            "_view_name": "HTMLView",
            "description": "",
            "description_tooltip": null,
            "layout": "IPY_MODEL_e927cbfd103d4e69a6a44e2cf97e78c8",
            "placeholder": "​",
            "style": "IPY_MODEL_6195eed28a61442386c05d9288566a01",
            "value": " [100%]   00:01 -&gt; (00:00 left)"
          }
        },
        "0a300ecd42b3420f9ada884af6fa858a": {
          "model_module": "@jupyter-widgets/base",
          "model_name": "LayoutModel",
          "model_module_version": "1.2.0",
          "state": {
            "_model_module": "@jupyter-widgets/base",
            "_model_module_version": "1.2.0",
            "_model_name": "LayoutModel",
            "_view_count": null,
            "_view_module": "@jupyter-widgets/base",
            "_view_module_version": "1.2.0",
            "_view_name": "LayoutView",
            "align_content": null,
            "align_items": null,
            "align_self": null,
            "border": null,
            "bottom": null,
            "display": "inline-flex",
            "flex": null,
            "flex_flow": "row wrap",
            "grid_area": null,
            "grid_auto_columns": null,
            "grid_auto_flow": null,
            "grid_auto_rows": null,
            "grid_column": null,
            "grid_gap": null,
            "grid_row": null,
            "grid_template_areas": null,
            "grid_template_columns": null,
            "grid_template_rows": null,
            "height": null,
            "justify_content": null,
            "justify_items": null,
            "left": null,
            "margin": null,
            "max_height": null,
            "max_width": null,
            "min_height": null,
            "min_width": null,
            "object_fit": null,
            "object_position": null,
            "order": null,
            "overflow": null,
            "overflow_x": null,
            "overflow_y": null,
            "padding": null,
            "right": null,
            "top": null,
            "visibility": null,
            "width": "100%"
          }
        },
        "75693aa3ae41462eb060962e0e09252e": {
          "model_module": "@jupyter-widgets/base",
          "model_name": "LayoutModel",
          "model_module_version": "1.2.0",
          "state": {
            "_model_module": "@jupyter-widgets/base",
            "_model_module_version": "1.2.0",
            "_model_name": "LayoutModel",
            "_view_count": null,
            "_view_module": "@jupyter-widgets/base",
            "_view_module_version": "1.2.0",
            "_view_name": "LayoutView",
            "align_content": null,
            "align_items": null,
            "align_self": null,
            "border": null,
            "bottom": null,
            "display": null,
            "flex": null,
            "flex_flow": null,
            "grid_area": null,
            "grid_auto_columns": null,
            "grid_auto_flow": null,
            "grid_auto_rows": null,
            "grid_column": null,
            "grid_gap": null,
            "grid_row": null,
            "grid_template_areas": null,
            "grid_template_columns": null,
            "grid_template_rows": null,
            "height": null,
            "justify_content": null,
            "justify_items": null,
            "left": null,
            "margin": null,
            "max_height": null,
            "max_width": null,
            "min_height": null,
            "min_width": null,
            "object_fit": null,
            "object_position": null,
            "order": null,
            "overflow": null,
            "overflow_x": null,
            "overflow_y": null,
            "padding": null,
            "right": null,
            "top": null,
            "visibility": null,
            "width": null
          }
        },
        "3c0bb021e4824566bb0fe114d822dff4": {
          "model_module": "@jupyter-widgets/controls",
          "model_name": "DescriptionStyleModel",
          "model_module_version": "1.5.0",
          "state": {
            "_model_module": "@jupyter-widgets/controls",
            "_model_module_version": "1.5.0",
            "_model_name": "DescriptionStyleModel",
            "_view_count": null,
            "_view_module": "@jupyter-widgets/base",
            "_view_module_version": "1.2.0",
            "_view_name": "StyleView",
            "description_width": ""
          }
        },
        "76541b95e7604f6eae8d93a97d396fc2": {
          "model_module": "@jupyter-widgets/base",
          "model_name": "LayoutModel",
          "model_module_version": "1.2.0",
          "state": {
            "_model_module": "@jupyter-widgets/base",
            "_model_module_version": "1.2.0",
            "_model_name": "LayoutModel",
            "_view_count": null,
            "_view_module": "@jupyter-widgets/base",
            "_view_module_version": "1.2.0",
            "_view_name": "LayoutView",
            "align_content": null,
            "align_items": null,
            "align_self": null,
            "border": null,
            "bottom": null,
            "display": null,
            "flex": "2",
            "flex_flow": null,
            "grid_area": null,
            "grid_auto_columns": null,
            "grid_auto_flow": null,
            "grid_auto_rows": null,
            "grid_column": null,
            "grid_gap": null,
            "grid_row": null,
            "grid_template_areas": null,
            "grid_template_columns": null,
            "grid_template_rows": null,
            "height": null,
            "justify_content": null,
            "justify_items": null,
            "left": null,
            "margin": null,
            "max_height": null,
            "max_width": null,
            "min_height": null,
            "min_width": null,
            "object_fit": null,
            "object_position": null,
            "order": null,
            "overflow": null,
            "overflow_x": null,
            "overflow_y": null,
            "padding": null,
            "right": null,
            "top": null,
            "visibility": null,
            "width": null
          }
        },
        "4c9d1d8c8d9b4d99bf8c35e16c17de42": {
          "model_module": "@jupyter-widgets/controls",
          "model_name": "ProgressStyleModel",
          "model_module_version": "1.5.0",
          "state": {
            "_model_module": "@jupyter-widgets/controls",
            "_model_module_version": "1.5.0",
            "_model_name": "ProgressStyleModel",
            "_view_count": null,
            "_view_module": "@jupyter-widgets/base",
            "_view_module_version": "1.2.0",
            "_view_name": "StyleView",
            "bar_color": null,
            "description_width": ""
          }
        },
        "e927cbfd103d4e69a6a44e2cf97e78c8": {
          "model_module": "@jupyter-widgets/base",
          "model_name": "LayoutModel",
          "model_module_version": "1.2.0",
          "state": {
            "_model_module": "@jupyter-widgets/base",
            "_model_module_version": "1.2.0",
            "_model_name": "LayoutModel",
            "_view_count": null,
            "_view_module": "@jupyter-widgets/base",
            "_view_module_version": "1.2.0",
            "_view_name": "LayoutView",
            "align_content": null,
            "align_items": null,
            "align_self": null,
            "border": null,
            "bottom": null,
            "display": null,
            "flex": null,
            "flex_flow": null,
            "grid_area": null,
            "grid_auto_columns": null,
            "grid_auto_flow": null,
            "grid_auto_rows": null,
            "grid_column": null,
            "grid_gap": null,
            "grid_row": null,
            "grid_template_areas": null,
            "grid_template_columns": null,
            "grid_template_rows": null,
            "height": null,
            "justify_content": null,
            "justify_items": null,
            "left": null,
            "margin": null,
            "max_height": null,
            "max_width": null,
            "min_height": null,
            "min_width": null,
            "object_fit": null,
            "object_position": null,
            "order": null,
            "overflow": null,
            "overflow_x": null,
            "overflow_y": null,
            "padding": null,
            "right": null,
            "top": null,
            "visibility": null,
            "width": null
          }
        },
        "6195eed28a61442386c05d9288566a01": {
          "model_module": "@jupyter-widgets/controls",
          "model_name": "DescriptionStyleModel",
          "model_module_version": "1.5.0",
          "state": {
            "_model_module": "@jupyter-widgets/controls",
            "_model_module_version": "1.5.0",
            "_model_name": "DescriptionStyleModel",
            "_view_count": null,
            "_view_module": "@jupyter-widgets/base",
            "_view_module_version": "1.2.0",
            "_view_name": "StyleView",
            "description_width": ""
          }
        }
      }
    }
  },
  "nbformat": 4,
  "nbformat_minor": 5
}