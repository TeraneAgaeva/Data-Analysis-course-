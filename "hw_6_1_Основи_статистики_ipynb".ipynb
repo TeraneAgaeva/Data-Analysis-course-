{
  "nbformat": 4,
  "nbformat_minor": 0,
  "metadata": {
    "colab": {
      "provenance": [],
      "include_colab_link": true
    },
    "kernelspec": {
      "name": "python3",
      "display_name": "Python 3"
    },
    "language_info": {
      "name": "python"
    }
  },
  "cells": [
    {
      "cell_type": "markdown",
      "metadata": {
        "id": "view-in-github",
        "colab_type": "text"
      },
      "source": [
        "<a href=\"https://colab.research.google.com/github/TeraneAgaeva/Data-Analysis-course-/blob/main/%22hw_6_1_%D0%9E%D1%81%D0%BD%D0%BE%D0%B2%D0%B8_%D1%81%D1%82%D0%B0%D1%82%D0%B8%D1%81%D1%82%D0%B8%D0%BA%D0%B8_ipynb%22.ipynb\" target=\"_parent\"><img src=\"https://colab.research.google.com/assets/colab-badge.svg\" alt=\"Open In Colab\"/></a>"
      ]
    },
    {
      "cell_type": "markdown",
      "source": [
        "В цьому домашньому завданні відпрацюємо з вами знання, отримані в модулі зі статистики.\n",
        "\n",
        "**Завдання 1.** Ми обговорили з Вами на лекції, що велика літера Сігма грецького алфавіту позначає в математиці суму. Знайдіть з використанням Python $\\Sigma x$, $\\Sigma x^2$, та $\\Sigma (x-1)^2$ для наступного набору даних:\n",
        "`1 3 4`\n",
        "Виведіть результат кожного обчислення на екран."
      ],
      "metadata": {
        "id": "SDhaTqxcWhnP"
      }
    },
    {
      "cell_type": "code",
      "source": [
        "import numpy as np"
      ],
      "metadata": {
        "id": "B1mgx_IBT0e8"
      },
      "execution_count": 5,
      "outputs": []
    },
    {
      "cell_type": "code",
      "source": [
        "# Σx\n",
        "x = [1, 3, 4]\n",
        "Sum_x = sum(x)\n",
        "\n",
        "Sum_x"
      ],
      "metadata": {
        "colab": {
          "base_uri": "https://localhost:8080/"
        },
        "id": "SDTNoAHmsl6t",
        "outputId": "31c34bc9-6a2e-4109-f647-f83cc8f23817"
      },
      "execution_count": 6,
      "outputs": [
        {
          "output_type": "execute_result",
          "data": {
            "text/plain": [
              "8"
            ]
          },
          "metadata": {},
          "execution_count": 6
        }
      ]
    },
    {
      "cell_type": "code",
      "source": [
        "# Σx^2 var1\n",
        "sum_squared_numbers1 = sum([i**2 for i in x])\n",
        "\n",
        "print(sum_squared_numbers1)\n",
        "\n",
        "\n"
      ],
      "metadata": {
        "colab": {
          "base_uri": "https://localhost:8080/"
        },
        "id": "yOULXJn8tYdV",
        "outputId": "6d5c6c94-545c-4a31-9e48-cabede1157e8"
      },
      "execution_count": 7,
      "outputs": [
        {
          "output_type": "stream",
          "name": "stdout",
          "text": [
            "26\n"
          ]
        }
      ]
    },
    {
      "cell_type": "code",
      "source": [
        "# Σx^2 var2\n",
        "\n",
        "sum_squared_numbers2 = sum(list(map(lambda i: i**2, x)))\n",
        "print(sum_squared_numbers2)"
      ],
      "metadata": {
        "colab": {
          "base_uri": "https://localhost:8080/"
        },
        "id": "bf-hRAYMw8j3",
        "outputId": "b056063b-3ec1-4483-b3fc-c5b9f2bb6408"
      },
      "execution_count": 8,
      "outputs": [
        {
          "output_type": "stream",
          "name": "stdout",
          "text": [
            "26\n"
          ]
        }
      ]
    },
    {
      "cell_type": "code",
      "source": [
        "# Σx^2 var3\n",
        "\n",
        "squared_numbers = []\n",
        "for i in x:\n",
        "    squared_numbers.append(i**2)\n",
        "sum_squared_numbers3 = sum(squared_numbers)\n",
        "\n",
        "print(sum_squared_numbers3)"
      ],
      "metadata": {
        "colab": {
          "base_uri": "https://localhost:8080/"
        },
        "id": "Cm-u_g1Ow9Be",
        "outputId": "2f839af9-fe1e-4acc-e8f8-08a36857eb0c"
      },
      "execution_count": 9,
      "outputs": [
        {
          "output_type": "stream",
          "name": "stdout",
          "text": [
            "26\n"
          ]
        }
      ]
    },
    {
      "cell_type": "code",
      "source": [
        "#Σ(x−1)^2 Var1\n",
        "\n",
        "x = [1, 3, 4]\n",
        "sum_numbers1 = sum([(i - 1)**2 for i in x])\n",
        "\n",
        "print(sum_numbers1)"
      ],
      "metadata": {
        "colab": {
          "base_uri": "https://localhost:8080/"
        },
        "id": "Mw-W0aMFyC0Q",
        "outputId": "57d1d5c2-6124-4156-ae8a-fadfbfa18c00"
      },
      "execution_count": 10,
      "outputs": [
        {
          "output_type": "stream",
          "name": "stdout",
          "text": [
            "13\n"
          ]
        }
      ]
    },
    {
      "cell_type": "code",
      "source": [
        "#Σ(x−1)^2 Var2\n",
        "\n",
        "sum_numbers2 = sum(list(map(lambda i: (i-1)**2, x)))\n",
        "print(sum_numbers2)\n",
        "\n"
      ],
      "metadata": {
        "colab": {
          "base_uri": "https://localhost:8080/"
        },
        "id": "SCMQlxh0zM0w",
        "outputId": "ae2c41f4-e118-4e67-f65a-2396a2f92f9b"
      },
      "execution_count": 11,
      "outputs": [
        {
          "output_type": "stream",
          "name": "stdout",
          "text": [
            "13\n"
          ]
        }
      ]
    },
    {
      "cell_type": "code",
      "source": [
        "#Σ(x−1)^2 Var3\n",
        "\n",
        "squared_numbers = []\n",
        "for i in x:\n",
        "    squared_numbers.append((i-1)**2)\n",
        "sum_numbers3 = sum(squared_numbers)\n",
        "\n",
        "print(sum_numbers3)"
      ],
      "metadata": {
        "colab": {
          "base_uri": "https://localhost:8080/"
        },
        "id": "pr4dtaq3zb_g",
        "outputId": "1e6aa7c0-bcae-4ba9-de2c-150d37f02d96"
      },
      "execution_count": 12,
      "outputs": [
        {
          "output_type": "stream",
          "name": "stdout",
          "text": [
            "13\n"
          ]
        }
      ]
    },
    {
      "cell_type": "markdown",
      "source": [
        "**Завдання 2.** Ми зібрали дані про суму покупок в гривнях 20ма випадково обраними клієнтами в нашому магазині (всього клієнтів у нас більше) за минулий місяць. Вони представлені в змінній `sum_purchases`. Знайдіть **вибіркове середнє** для цих даних кожним з зазначених методів:   \n",
        "\n",
        "  2.1. без використання жодних бібліотек, користуючись тільки Python.  \n",
        "  2.2. використовуючи відповідний метод бібліотеки `numpy`.\n",
        "\n",
        "  Виведіть результат обчислень в кожному з випадків на екран та порівняйте результати. Вони співпадають?"
      ],
      "metadata": {
        "id": "fa78aW5lhiia"
      }
    },
    {
      "cell_type": "code",
      "execution_count": 13,
      "metadata": {
        "id": "_9kMt3rq6V5m"
      },
      "outputs": [],
      "source": [
        "sum_purchases = [ 316,  493,  367,  153,  224,  121,  322,  450,  196,  397,  281,\n",
        "  239,  484,  124,  223,  448,  432,  255, 4310, 3524]"
      ]
    },
    {
      "cell_type": "code",
      "source": [
        "#2.1\n",
        "\n",
        "mean = sum(sum_purchases)/len(sum_purchases)\n",
        "mean"
      ],
      "metadata": {
        "id": "wPmL919HT1c0",
        "colab": {
          "base_uri": "https://localhost:8080/"
        },
        "outputId": "00b45025-89e2-4b24-9510-db4c751b961b"
      },
      "execution_count": 14,
      "outputs": [
        {
          "output_type": "execute_result",
          "data": {
            "text/plain": [
              "667.95"
            ]
          },
          "metadata": {},
          "execution_count": 14
        }
      ]
    },
    {
      "cell_type": "code",
      "source": [
        "#2.2\n",
        "\n",
        "np.mean(sum_purchases)"
      ],
      "metadata": {
        "colab": {
          "base_uri": "https://localhost:8080/"
        },
        "id": "Ekovyasy0Z1z",
        "outputId": "44e45528-39eb-4828-ecb0-362c897dc0a8"
      },
      "execution_count": 15,
      "outputs": [
        {
          "output_type": "execute_result",
          "data": {
            "text/plain": [
              "667.95"
            ]
          },
          "metadata": {},
          "execution_count": 15
        }
      ]
    },
    {
      "cell_type": "markdown",
      "source": [
        "Відповідь:\n",
        "Дані методом 2.1 та 2.2 по результату співпали\n"
      ],
      "metadata": {
        "id": "dYOLKmR30y8Z"
      }
    },
    {
      "cell_type": "markdown",
      "source": [
        "**Завдання 3.** Для того ж набору даних в змінній `sum_purchases` обчисліть **медіану** кожним з зазначених методів:  \n",
        "\n",
        "  3.1. без використання жодних бібліотек, користуючись тільки Python.  \n",
        "  3.2. використовуючи відповідний метод бібліотеки numpy.  \n",
        "\n",
        "Виведіть результат обчислень в кожному з випадків на екран. Порівняйте результати зі значенням вибіркового середнього. Напишіть коментар, для яких задач ви б використовували вибіркове середнє, а для яких - медіану?"
      ],
      "metadata": {
        "id": "FMdoxZd0kZdW"
      }
    },
    {
      "cell_type": "code",
      "source": [
        "# Список уже отсортирован, но обычно нужно отсортировать\n",
        "\n",
        "sorted_sum_purchases = sorted(sum_purchases)\n",
        "\n",
        "print(sorted_sum_purchases)"
      ],
      "metadata": {
        "id": "x58BumvuT2nl",
        "colab": {
          "base_uri": "https://localhost:8080/"
        },
        "outputId": "b0d7efa7-ff4e-47cb-c164-b4cdec58fa4a"
      },
      "execution_count": 16,
      "outputs": [
        {
          "output_type": "stream",
          "name": "stdout",
          "text": [
            "[121, 124, 153, 196, 223, 224, 239, 255, 281, 316, 322, 367, 397, 432, 448, 450, 484, 493, 3524, 4310]\n"
          ]
        }
      ]
    },
    {
      "cell_type": "code",
      "source": [
        "\n",
        "# Найдем количество элементов в списке\n",
        "n = len(sum_purchases)\n",
        "\n",
        "# Для нечетного количества элементов (n % 2 != 0)\n",
        "if n % 2 != 0:\n",
        "    # Медиана - центральный элемент\n",
        "    median = sum_purchases[n // 2]\n",
        "else:\n",
        "    # Для четного количества элементов\n",
        "    # Медиана - среднее арифметическое двух центральных элементов\n",
        "    median = (sum_purchases[n // 2 - 1] + sum_purchases[n // 2]) / 2\n",
        "\n",
        "print(f\"The median is: {median}\")"
      ],
      "metadata": {
        "colab": {
          "base_uri": "https://localhost:8080/"
        },
        "id": "NEbyYqDh-icR",
        "outputId": "4b214fc3-f2b8-45ae-b3e0-85a5c7bdb8e2"
      },
      "execution_count": 17,
      "outputs": [
        {
          "output_type": "stream",
          "name": "stdout",
          "text": [
            "The median is: 339.0\n"
          ]
        }
      ]
    },
    {
      "cell_type": "code",
      "source": [
        "median1 = np.median(sum_purchases)\n",
        "\n",
        "print(f\"The median is: {median} and {median}. So different methods, but it is the same result\")"
      ],
      "metadata": {
        "colab": {
          "base_uri": "https://localhost:8080/"
        },
        "id": "eUsCr1gDBpyp",
        "outputId": "8e25623b-e79f-436c-c9d3-9b2d9ed8c0be"
      },
      "execution_count": 18,
      "outputs": [
        {
          "output_type": "stream",
          "name": "stdout",
          "text": [
            "The median is: 339.0 and 339.0. So different methods, but it is the same result\n"
          ]
        }
      ]
    },
    {
      "cell_type": "markdown",
      "source": [
        "Відповідь: Медіану краще викорстовувати коли є викиди у вибірці. Вибіркове середнє більше підходить до нормального розподілу"
      ],
      "metadata": {
        "id": "t1cJRR8ECYai"
      }
    },
    {
      "cell_type": "markdown",
      "source": [
        "**Завдання 4**. Обчислість стандартне відхилення наведеної вибірки в змінній `sum_purchases` кожним з зазначених методів:  \n",
        "\n",
        "  4.1. без використання жодних бібліотек, користуючись тільки Python.  \n",
        "  4.2. використовуючи відповідний метод бібліотеки numpy.  \n",
        "\n",
        "Виведіть результат обчислень в кожному з випадків на екран."
      ],
      "metadata": {
        "id": "o1Z7az2yNDQV"
      }
    },
    {
      "cell_type": "markdown",
      "source": [
        "![Формула стандартного отклонения.PNG](data:image/png;base64,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)"
      ],
      "metadata": {
        "id": "_BOuTS19Ds_q"
      }
    },
    {
      "cell_type": "code",
      "source": [
        "#4.1\n",
        "# Найдем количество элементов в списке\n",
        "n = len(sum_purchases)\n",
        "\n",
        "n\n"
      ],
      "metadata": {
        "id": "X4ixtmL2T642",
        "colab": {
          "base_uri": "https://localhost:8080/"
        },
        "outputId": "536bbef1-22eb-4a66-acee-55ab0141069e"
      },
      "execution_count": 19,
      "outputs": [
        {
          "output_type": "execute_result",
          "data": {
            "text/plain": [
              "20"
            ]
          },
          "metadata": {},
          "execution_count": 19
        }
      ]
    },
    {
      "cell_type": "code",
      "source": [
        "# Найдем выборочное среднее\n",
        "\n",
        "x_meean = sum(sorted_sum_purchases)/n\n",
        "\n",
        "x_meean"
      ],
      "metadata": {
        "colab": {
          "base_uri": "https://localhost:8080/"
        },
        "id": "tHdXBf6DFI9a",
        "outputId": "9c40792c-8993-4fee-8101-b277eadd14ef"
      },
      "execution_count": 20,
      "outputs": [
        {
          "output_type": "execute_result",
          "data": {
            "text/plain": [
              "667.95"
            ]
          },
          "metadata": {},
          "execution_count": 20
        }
      ]
    },
    {
      "cell_type": "code",
      "source": [
        "#(Xi - X)^2\n",
        "\n",
        "sum_numbers_1 = sum([(i - x_meean)**2 for i in sorted_sum_purchases])\n",
        "\n",
        "print(sum_numbers_1)\n",
        "\n"
      ],
      "metadata": {
        "colab": {
          "base_uri": "https://localhost:8080/"
        },
        "id": "106F9Qp0FToT",
        "outputId": "d331d182-f56f-43d8-ef48-f0fb81177419"
      },
      "execution_count": 22,
      "outputs": [
        {
          "output_type": "stream",
          "name": "stdout",
          "text": [
            "24027356.950000003\n"
          ]
        }
      ]
    },
    {
      "cell_type": "code",
      "source": [
        "\n",
        "import math\n",
        "\n",
        "\n"
      ],
      "metadata": {
        "id": "i3-xsR_DGfri"
      },
      "execution_count": 23,
      "outputs": []
    },
    {
      "cell_type": "code",
      "source": [
        "# стандартне відхилення\n",
        "\n",
        "S = math.sqrt((1/(n-1))*sum_numbers_1)\n",
        "\n",
        "S"
      ],
      "metadata": {
        "colab": {
          "base_uri": "https://localhost:8080/"
        },
        "id": "DMhVESY2Haw7",
        "outputId": "4e9144af-0835-44d9-8107-3751a465e842"
      },
      "execution_count": 24,
      "outputs": [
        {
          "output_type": "execute_result",
          "data": {
            "text/plain": [
              "1124.543344745113"
            ]
          },
          "metadata": {},
          "execution_count": 24
        }
      ]
    },
    {
      "cell_type": "code",
      "source": [
        "# стандартне відхилення використовуючи бібліотеку nunpie\n",
        "\n",
        "np.std(sorted_sum_purchases, ddof=1)"
      ],
      "metadata": {
        "colab": {
          "base_uri": "https://localhost:8080/"
        },
        "id": "adnPAkt7H6Fh",
        "outputId": "1b2cf902-e03b-4096-b3f3-9358067fd5ab"
      },
      "execution_count": 25,
      "outputs": [
        {
          "output_type": "execute_result",
          "data": {
            "text/plain": [
              "1124.5433447451132"
            ]
          },
          "metadata": {},
          "execution_count": 25
        }
      ]
    },
    {
      "cell_type": "markdown",
      "source": [
        "![image.png](data:image/png;base64,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)"
      ],
      "metadata": {
        "id": "vUGzUBFZKEOk"
      }
    },
    {
      "cell_type": "markdown",
      "source": [
        "**Завдання 5**. Ми провели дослідження віку студентів-першокурсників. Виявилось, що\n",
        "- 10 студентів мають вік 16 років\n",
        "- 25 студентів - 17 років\n",
        "- 20 студентів - 18 років\n",
        "- 2 студенти - 20 років\n",
        "\n",
        "Обчислість середнє значення для цієї вибірки будь-яким способом - на чистому Python або з numpy - та виведіть результат на екран."
      ],
      "metadata": {
        "id": "M1ntKTjXLVlH"
      }
    },
    {
      "cell_type": "code",
      "source": [
        "# average w/o NumPy\n",
        "age = [16, 17, 18, 20]\n",
        "kol_vo = [10, 25, 20, 2]\n",
        "\n",
        "total_age = [age_i * kol_vo_i for age_i, kol_vo_i in zip(age, kol_vo)]\n",
        "\n",
        "sum_age = sum(total_age)\n",
        "sum_kol_vo = sum(kol_vo)\n",
        "mean = sum_age/sum_kol_vo\n",
        "\n",
        "print(mean)"
      ],
      "metadata": {
        "id": "RdIU4M-7T8R4",
        "colab": {
          "base_uri": "https://localhost:8080/"
        },
        "outputId": "afe98923-4f8a-4d6e-f8d7-a8516fc9d2d0"
      },
      "execution_count": 26,
      "outputs": [
        {
          "output_type": "stream",
          "name": "stdout",
          "text": [
            "17.280701754385966\n"
          ]
        }
      ]
    },
    {
      "cell_type": "code",
      "source": [
        "# average with NumPy\n",
        "\n",
        "mean_np = np.average(age, weights=kol_vo)\n",
        "\n",
        "mean_np"
      ],
      "metadata": {
        "colab": {
          "base_uri": "https://localhost:8080/"
        },
        "id": "QlodMABMeJ51",
        "outputId": "eb2777ac-d9ee-45df-ea59-4753591ba618"
      },
      "execution_count": 27,
      "outputs": [
        {
          "output_type": "execute_result",
          "data": {
            "text/plain": [
              "17.280701754385966"
            ]
          },
          "metadata": {},
          "execution_count": 27
        }
      ]
    },
    {
      "cell_type": "markdown",
      "source": [
        "**Завдання 6**. Крім даних про суму покупок, ми зібрали ще дані про кількість відвідувань кожного з кожного покупця, які знаходяться в змінній `visits`. Обчисліть коефіцієнт кореляції Пірсона для суми покупок і кількості відвідувань кожним з зазначених методів:  \n",
        "\n",
        "  6.1. без використання жодних бібліотек, користуючись тільки Python.  \n",
        "  6.2. використовуючи відповідний метод бібліотеки numpy.  \n",
        "  \n",
        "Виведіть результат на екран. Проаналізуйте результат.\n",
        "\n",
        "Виведіть додатково графік розсіювання викликавши код нижче і зробіть заключення, чи варто щось змінити при підрахунку кореляції, аби коефіцієнт Пірсона показував коректну оцінку лінійної залежності?"
      ],
      "metadata": {
        "id": "Xx8MFkkVM53z"
      }
    },
    {
      "cell_type": "markdown",
      "source": [
        "![image.png](data:image/png;base64,iVBORw0KGgoAAAANSUhEUgAAAt4AAAEICAIAAADneWSnAAAgAElEQVR4Ae2dz4sbWXf38w/UJjvvtQkMPCR5IJDHi2T8QBIeZxLGD89iBP2SBkNMY8i4hzB0ZjE0Q9IUszDCC4t5giNMmFAd5qVNYpAJRt4MSItBJhnogZjI0AsFBl4tHGrhQL2c++Pcc25VqbvVardK+gpj3bp177nnfM6tc49uldS/UeAFAiAAAiAAAiAAAitD4DdWRhMoAgIgAAIgAAIgAAIFUhNMAhAAARAAARAAgRUigNRkhZwBVUAABEAABEAABJCaYA6AAAiAAAiAAAisEAGkJivkDKgCAiAAAiAAAiCA1ARzAARAAARAAARAYIUIIDVZIWdAFRAAARAAARAAAaQmmAMgAAIgAAIgAAIrRACpyQo5A6qAAAiAAAiAAAggNcEcAAEQAAEQAAEQWCECSE1WyBlQBQRAAARAAARAAKkJ5gAIgAAIgAAIgMAKEUBqskLOgCogAAIgAAIgAAJITTAHQAAEQAAEQAAEVogAUpOrcMZJ1k6SdHT60MODJNnKpqc3RIuiKKbZVpIcDC/KYpQmSTs7uagY9AcBEAABEFiMwIVTE4rj6YVXg8WUb0Cv6WG7fVhKLZCaXIrrfGpCeE1uwQUx3PSwnVS//DRe9dRkSKnTBSaVgIHixhCQ14IsXwSADP6yfBGZ6AsChsDiqUk5xJ9lG2DTsFenJptG4R3by5GXC0IBmrfljajmBFbaSKvbGWqOFcIhKL4rAjQ93GtZsVqsAthofFd+3IxxFkxNwo0Gjoa0DFR9mNsMjnVWIjWpI3NV9Q1PTYbpvJtNtG9UsaFyVawxLgiAAAgsRGCh1ITTkaIo6sqkDe08+5fIqd1nWbP9bk+LT4GU9MTB18ox++1yOGOwWmlMelQe0ch01TUfF1RMt+25pfhkUPrAKkcUVrjnHrwq9C4/qTsCxgBZpoqSJkKs1MStQDEQYkWaU71+OQWkU/wtDKNI+E+pJOB79VguIyJn20/zYVzh8aIoakFFqrJKUk9Br85er5tfmBXGYFpRqAnDJ6TYinJQxsu3PcUclg8PBQhC8+hiIQEklhlWOJfV48IolRPJMrfT1SpWbR11J1V5LDc/K6aEyGyMFdpe42Whc41bHXxhEbvVmE3XOL/EPClPEknS9pDXEWOxjxl5kelI+cVWe9uDKwXJivbirJkzQbgfVV0m0ZXrCPim9e/SZI57VCmImTbeEbHkyOOCuXD3BQSqSCLh66lom3nIJXulH60QZXgU84WPQuRUlZ4GTUguuygk0QVFrIsFVQ5KwqgKelZPDsJkCAuxKvGhuzrsTLFauaio1ZAKhzM2hPppxm3s1e2r/QJEWokLR8QW016fcgtxtZ6l1VZqdJXlRVIThbvkKjc7jUeZr5q4blIyPuNg73uaalv6+Qw3rS1ZaiwuAH2hkmTTTHruJEv5xjyJ4nEl9yDHzM7Ii3xo5jdPZTmKegYzWMS7JmbGeDmyoyyTRkGTsN4bTUkCD10MM2uU4h+vdqUFqZgepvyApxYoaASVjL3eNS7X5ENqFuKCMdBfOTYDYNRBoDNQ3ZLgGBdsUeOq4BvaWIXlfJDoZFmYtkhqkoRgpEwOXqYBRqmdlmb+hDmm/D5P+WGqwYpJHvSvCsTyctAfFUK/ODVxIdgvEtUXCPml3Q5Tzs0uwmGf4K51q3FfPDfc5FfXl5Qgy+pqipVXZtFBtSPoDE8t10fOFrOQOOvi2SKnnCzbVKzK/OjKjQWWdPYVZLUhI83nSmoVwYwlS/VkuaSqDz7nFchXsVs7vRzF1riAJ4Y3zr6TVkHINDswz/VLe9VVaez110KwqCaMqyuCri9xtSo1phlNZj91zSmjWAiqYSyftfhrUEywcAmLSjcQaW66CB+F9qaRtlopaPwSd+ePfK4pT2AxhDlFccZAO20BtXm2d+I8fbR27/xowdRE5xzeTgPXnmJSbFGoIRxqipjExQkZHiTpob9cPfT0IOSqNIH8xDWXH48uIlEtcXYt62ULztNmsoZ1xcgXh27Kuhp1VYi8VU5xTk1UziHVk2XSRc05DU1YyupHU19/EC+nJtyPCnFff9KpRJqIZKhiv0FaSqqqZSwYUgfKjhccGvRRbpKjlHSWLcOIEUZvGL0raXwiDK2xUL2aANydCyzDFKQ+9oyokaPQSXFKSZGGyBNU78Ol6R8zt7tTSmHfX/S1/j1UGzCumdRwlCYHmRqRalL+bFDvVhorXKRGU9krnBKTv16auyik4d4oeq9xhGmilk/TkkOHupZj4EJmfAdNX5IStRQiy1LZUpk1FChkWLOaZGFvIJZ8ZlVd9DinQDXf1Ixlzd3yqadKMLRmkkt7rROda1R7YV2QKIOAmDamo147RB9KTTI156kmPeAnz+odTVJIOC1t7gIhL4Rp7IZhCdJHVOapS+bIGSj0M0PY6SS7mwQ6dOEhxGLn1HNT8dQFNExgdQkoVVbhYMHUJPCVsSyEWuUPZydPZT0p6ayoIbJmP9a58ySjz21yFGosLrPgNhF6hEAvP2yJ8UQRDjCzYUtm9+Yk6xyasmlUKL1IMXG1kEqcxoU5IdWTZRrFaOK3eUIXIhBewQRdb1uEsyETFwaor6hUpTtGpbbOS+jqDPHRS6OWTkJQ1Z/0NbWgbMMgVnjZ96UmKjyJNqa7DGQSnSx7hcy7ksZnpNi6sm3szwa1WYibyTHS0JL6xi/hLLKFXzxthHgySrSPwpZtKIKX6CmSVE9GzW2qpJe4migKHwxFMDXB/YSB+y6sMRWs7X6IoICo8QDpZJj8c6SdkpoEvGE4X1I2GlxKW76PINQzXcMkIQ1LL0up6pT3WmyO9JpXjt4D3oDCYjEkfaWwMZZMyvndr7mqLiZw7mS24zqHkmIVZpIJsRCyPKInJl7ttW+iGdmrG1vmrlfdcNS3ndHs9dkkT+9T6TmHmezErBEUG4UO7nwYWk2n4OKqaOz6qtChupNd4eWVp27aFv+x8PQFtPoCDIqsSGmR1MRnjsYEaWcoV01TDhPkQolYRigKHzS/fWO3tAfJMk7Z2RZIhgtYDGFcy8NxYA29TIkUpu3r8naOd7nvwKZxwZ/x70ENE3p8tBILiVBPRGfbn8RWdPFA/CD+XZEpfxCPlDSLH1sU9/UyST26reZXGlcv7XJV1NLFHRlQ7FlfE+ngR3Hv4qzSh+rDq1Zn6VDq4tHJshoxrDqyWg5dV7bt/dkKGiq+BOmhpe/rzwXlSasw9+qUp3oZ/T1hL4/eRcCS1T4sBvMrZxRp6C8WE7uDQPshYf7HDzdiWX9VY431zrXDxaYp3b3yutIdBbzl09rG+pZKPZUNixkei5dXMZ2TQmTZ7sN5qlpKUElKc4MGIaGZGsWMyt84O0XVdCj6LiwwdHRseQ6TtnJyOkPrtJL22hTNRxJL0k8Pn3hJbmKWOn34yqobjmwnF9DcM1mFXWjC5VDb0Q9MQ9ioaPZagrauAUvWM0EnmhzHvFR+r+uur3Gi7UMcLSi27BZNI+sMC6iBEPhWz0xW7KoKC6UmdgfPUlZzIkxNDZSsCzV6UqpAYJqZ+W0jrE8+eBTLyQZNFysZHV8kMtcRlUYL3ljmbqbgo4CZf+ECK6kqM4lgUSSLg4VKTfwQ6sOiVNVKEc3mQnNjRmTCyhGkBXOixtEhW+GtJgPFFRguY99S1pRoBPKlU75/hELpEy5COYpKi0lMGEVHBIVRjKf3YPiEHLqubBqzLUorlqP0sbVCQymZTvKpSNvokKVTffCmnB7cxPuOK3zB9KXtbh+J9LItm7nY51ITFwH9/h/rLK5o39m/l/TXWhFDGz1EPYP1QuR7bLg6Jy43WU9lbWONy6KsgvqJlsHeWLhQ3pySVsvynHxRCJfSqJxmwi5ehPQkP5eqSxEoFDZsM/+Ig1VMTk6PS3TxVfQu7Y0PqYudhMIRsnPAa8hkIaobdFW/s+WXEtdgmJrIJuTX6GmHpV7m0vOXcJjDTi/ZPahnT3IaxFmFNMaUa7tH14U6DJ8Wwr6UT1PmLaBB+cgLJbWusGLB1MRdvSHz4q1Rb4vxZfAEedTHRHMqrHm6pSdrAuKWvzPnJ4SXThMrE/dKdDSR817NEnJJ+GzqhdG7aEZjhQXAdGHHU7OwladbFuFBLZpntpkP6CaO8zIvJ4QsR5rotUdr4p+arCATlI/jhRrLKMkqSRiiWTyot4uaU7MwlmXLHlcda0Hp5U3YQt39JwwRPuwHUHaHXN21E6VDpWlq1REnxNAq+zGasybmFJscvEyC5jwG6w1RkqlPiEdkr98iJnt9aBYqmg7+c5Ktl71cS2mI6mymrhTLy7bXnJpLn/rUxCzwbb89FnTWNKivf5zWjeUXKnOoIMhQ4MsGte8ipTnPhlPKLoeR6bEjqBXbaLsY63iKEn/HnDQU9TI10VcuzR//ILm4TIx4KUSWy5PWGaAmtpRm9AwB08QBr56WrOezuuhiVVWIPluuYz9eewfZcKT8KD+6kGKVPjLzmYVUPwYrL43qa79mlhqTw7VjJrCMDw61iYRWBwPQf9NCumA+Pcc/XF8khyODlKNWEzs+XUqZ3bZhhWRhTnfSykeGkmSTbx3SjVeWdvoCSiZ4d8hZxyJWo7B4auL0D64qGeQuMJu/iOlicYzCTVx/1ZEEJhtHSb2I6mlkZgnjjnJwoUY6EoFV6Wvmq3/Cw1xLYUK42W/skKqSABNPfYYmbDRLo68373xJ16un2pvZpueljZKulYsCMf/IQLJLxgtnGslIh3FfT0TNV8uWhZB8//Lz2/SzqgpWkkYlKCtKNGN9DFVWW1235pRXILwbv0gnyrK3y7wraXyGh3Y+9VrZejEoa2WNFjR8F7tasGoiasj4y929wAC2fTiMVkpWM1I+mh5xgs7dqGD8KCchL9vCOpmUk7ZOedPXlfUEU32ZgIVPVrhXGNeYyUzUTKucJNYGEuhBKav8QaAXPvOUUxOfe3m1eAJbhcOvNldw9n08E5vGsYSKzJh7KKpOY4N0bsiSoeaMmYSNn2FcxVnlXmcXSCj4xQJ96BNOmecjKcTZJcKyEe9JmhnFYoMj1EwLk8EEHJ541ini0M8PkZrYaeaGC/JNSxG+XPy3mgdfkBos3znxq65AxKzkpzjzISTMnKAVlSQc2du2VyopmdzXo/MmOHqGsCsHtedegFqxqz26cGqygPpRPFpAgt5OWEjAO+rEuybnGo8mq4wC5+p8RY3Ly+Q7U0TE2WWPGS7pZUteTN4p1068xC42yIV7rYgaF7YDAkDgDAQqw7Wu1Am9lqlbunOVlbofHVGzkPeXzze4pqGpyTxPr5Q3kJq8A3dsUGoyPylflUQKqck7mPUYYlUIVKYRqnLuhalaepsqK/1Jfl/nC62RqQm5rSGp4mKpCU+9BhWucNfkEinNjSmXOO480ZSXhx1mbin3b7nyagrrHDGvhihGbTCBS7scVjE6Lc1PTUtNTPwVd/uWBuKSBCE1uSSw70jsWl/8l8bw0mLxpWkMwSBwGQToU3TpAZFlDGQeGZHPKi1D6ErJuIrUZKUAQBkQAAEQAAEQAIFVIoDUZJW8AV1AAARAAARAYOMJIDXZ+CkAACAAAiAAAiCwSgSQmqySN6ALCIAACIAACGw8AaQmGz8FAAAEQAAEQAAEVokAUpNV8gZ0AQEQAAEQAIGNJ4DUZOOnAACAAAiAAAiAwCoRQGqySt6ALiAAAiAAAiCw8QSQmmz8FAAAEAABEAABEFglAkhNVskb0AUEQAAEQAAENp4AUpONnwIAAAIgAAIgAAKrRACpySp5A7qAAAiAAAiAwMYTQGqy8VMAAEDgCgjQnwBs0N/pvAJCGBIENpgAUpPVcr77S5X01yrplY5WSz1oAwIXI2AzkiRZ6z+aejFE6A0CIFAgNVmdSWD+zvVWNmWNTjL6i9oHQ65AAQQaTWB4kLQPwwRvtC1QHgRA4PIIIDW5PLbnkzw8SBKZl7jelK9g7+R8KNF6NQlQqp0i0V5N50ArEFgpAgulJvbTvLvn4N7khyFaZX11duLspcqDYTFKy6dMC7NnYM+JFdqIarMQ0TLEOHkTJKzipKTsSDvJXklZJpEkwQ/q9HRa+zcpzZjgRbkG1mQ3ehSCDa6ovZfr36V8X2ffhW7z1FadSMN0WASkanSjj/OCt9p1D96ReVKQ4/fh44RJQCMlgxcKOjRsTcH73r5TsxrDhcDCsg1dxTaSdL2yUdjuPVujAFmuTnnlpdWShiJdyIHkfJMk5Xos4QtD3CRkI+0p58cwIk8Gyae6r+mkmilpZHIgNko9JdPNKC8mc7x1Z7GH7kHB0N2ZIieYGWV4SFuB9uVROxe0D6fCoeECLwo1B7iXmhhyoGqHsqOVZDMD2b/k9Fq7IjNxCAIgcGkEFk5N6lZ9E0Q45lKMcy1dHPGnTAxiIWqpo5Y+0NAO8FZbBQsTN/kBOg7WhMjEfRFSWX6IfYakjssLpCZb7bbX0Ah0y5gYmsOfW/aUCWV3qmVDnw6n5qmt+mhEFgsrMDzQulV7ZJodmFtLBin3nR6mJk1U/nIrh5NDSvLi4VYaySpaBc+YmnglbSrg5Q9TrpeuN+mCb2Mm5BwFbG7Bckap6Wi85ivVHJOgq+GYFmxmcF+Uh6khLEPLWeQTEecwAUQbk1iH7EeJlc3MpwLlenYrnQqISpN5q613O8wQNUu4vq5tSuEGtZNBDRp2BGOZpDkbdZKlfBuIeNrr2k9R4k06e8lGf+87PfmnGV25YX6GrM6ZL+VIT6MMAiDwTgksOzWhYM3hTyUEFGtC+FOnKGZxKHEZRkho0kMlc3iQpAd2V8CGJJl/iMQoXvNCWLefkn0gI9xy7VHRnH0hpY3S5CCTCzBF9oM03HkREKzk7NRb7Gpt4FFNIUiTJsRqqz4hfLtqaaBsKeopKPNyzm2qaei1vzY1sdAO5bJX6FUwWq15WOFH+4k5TI9h6pPd0JpKAQ4ZFdqXhtCoBQEpT9GoaaOUlJ3djLI6iNQkftJCnLL6W/6SubIlzAQ5tFKV1BBipShZL3G5Lv7aNF3E9D7J2luZmsBUk6Zy0yUYX1JGTBVli+lCY7lxTWoivSY6BvFUKg+hKsvOEjWUmmRqQlJNehA2TfVYOAIBELgaAstOTSgsxi+bBKgoaYzlGirEL5GajChsuVXTBMopB18K1qWXDXBVp3w6YuJg1E+GZnHKdbGrrL05RYnIUMRZE+9ORMTkJcT3iteksq/Zonmn5qmt+pWl6RoF3BrOOitBgryqF8aaenalWGKpL9HTqUB8SOPKl8trhUCzDIcmKhPV91Pc52Zlnesoeml96lwjFRBrm6RQB4faBLGBfJX7Qh4fUi45tPnQL3Yd/OKtbRTWmcE5e1OigiYqk6MezMS1EabxFScukNRckv5qEkyqZhGjEJeM7xJU8rPFn4mTJz1POIcmmfQKH4d4uCApaMWXqifG17K3LvRCCQRA4OoIXEJqUnORqyhpDOaaimjiidAeySiEzumhubnDES0EHd+B3+mUD0BUKWOfLJtzdc+amIBICkhpJpyZRdHIt7FbfphzWoVR5hjo9JXy2QRTEOtiEGibiFO6D/Phaq4xFvGmQpDgdOYOboSQFOoz7DtTTZmKl0lKpiOxEcXLnpUQHWrDSayZP1K+LMute7ss+VUqwDmFtlagvjEJDK+KWe0s1WDskTjF5M0M9NqWOgmttL0syi6rrmNoowGa0zVZTtAkuhz4+uKMkwc1M59s55phSnkAHS6SmkQYg0plgaGGjA3XMispGVKl1afCoWFuO4Y0c0ySZ8NLuAqkSJRBAASujsCyU5OKQOmMC8HUV/AdhDmhwaUmtPC3sxMfnUNEq4xTZoBYkxDpdJpCjaUCWk/qVZOauE/GLlsqpSaZTncq4rjj4HHYx4R1pd6+libEaqt+gU8sXFqqDa8mqWnIQai9f6VpUN4Qo3twPi8Uiy71jw4jN/mzclxZFjePIhrhMLJRKl1WoL5xWO3q2kSKhYGkUcIXte31Sh83s6mwy4DdIKKNAS5//6ZuRFEfXwIGexY50cr04xIE+xg7LeqBdrCaSuVZJGokFtNNgC0JDI2FhOohqJZFccGMoE4Ztf3HCUqwbJoV+nIXFEAABK6WwLJTExOz/P1jMo0fuqRg6j/ZuAWGt2EpDMkPYeHxRp+amDxgyz9DIIKsERu2c/1zmnqfgxSRsU+WzTmdRvgNACEkBEqzuNp9dQro/ISgCKDGHPE5T2zvm1M1H51JgkRnn+ALyigTYrXpmF/ER4gyh25Qgc7J9x9kKaZzPlH4Zwy1awJeHssUopVSOjrORXzy4QRIsOKxEiGQ6FVCkPVGeT+FtM60Xvr7IDRopIBZTYN89xisGVSS8WVltx6I4UjFaDie59IR5pkq93SnbCMg+LFoBc3sfiFXCSbGdr4E1Nyu1SSaS0axoKc56yaMT03sxmF7y2acahSvFL3rWaQwuqueSSoaJFD8xqA5dC3VWGSReyhKutW0d1421xF73PjIX3H+s4013z9fTzq7sajvqZ8ipL0ogwAIXAaBpacmLgmg+GFefJ3bKGkjiznDwdTYZSKI6xMWSAptIUTyc5rlUO57hjWGBPoP7jSCDHCybM6F2GSCKUvjOCWluRs63lIREKWqbLiNyO5QBcoKhwo+chPbtpyntpJl+bj1hozxoZlahSG2MvomJy8Vbl1xxgf9pWtEYzmida6pMYuEbBalAtGhFG40tb97IQQKha1qvOrYrMJUtg+H6haDEiunQTk1ISRyB4gUUKvm3E/VciCy2ooSc1vPVSvZIbYpi3CTrzfvgqFxmZBZSl9sZma7B8dJXyvR4sDC1PbaiyVMZq8JqeHK8VSUk0EqE65H38LY4jQVPwpgBZIT3csPSv0E5HREhI1u0msyeY0cKr3PqYl1sTuF1MQ7B+8gsCoEFkpNFlJeLjYLCUCnMxOIlsMz90PDKyAQ5WpWA115SdcOLckhz7sC08WQ83Id0QxFEACBjSCA1GQd3YzUpEFe1VmIU1xV8j7Bkq1CarJkoBAHAiCwJAJITZYEcqXEIDVZKXdcTBlxu+Figla6N3ZNVto9UA4E3jEBpCbvGPg7GQ6pyTvBfOmDuGcs1FMmlz7o1QyA1ORquGNUEFhNAu8uNVlN+6EVCIAACIAACIDAShFAarJS7oAyIAACIAACILDpBJCabPoMgP0gAAIgAAIgsFIEkJqslDugDAiAAAiAAAhsOgGkJps+A2A/CIAACIAACKwUAaQmK+UOKAMCIAACIAACm04AqcmmzwDYDwIgAAIgAAIrRQCpyUq5A8qAAAiAAAiAwKYTQGqy6TMA9oMACIAACIDAShFAarJS7oAyIAACIAACILDpBJCabPoMgP0gAAIgAAIgsFIEkJqslDugDAiAAAiAAAhsOgGkJps+A2A/CIAACIAACKwUAaQmK+UOKAMCIAACIAACm04AqcmmzwDYDwIgAAIgAAIrRQCpyUq5A8qAAAiAAAiAwKYTQGqy6TMA9oMACIAACIDAShFAarJS7oAyIAACIAACILDpBJCabPoMgP0gAAIgAAIgsFIEkJqslDugDAiAAAiAAAhsOgGkJps+A2A/CIAACIAACKwUAaQmK+UOKAMCIAACIAACm04AqcmmzwDYDwIgAAIgAAIrRQCpyUq5A8qAAAiAAAiAwKYT2JDUJJ9+Nxi8kP/62cNO57781xv+qGZD/sN48lbVLPsgPx4d51VCL3Po2kGrFEEdCIAACIAACLxrAhuSmhSTw+1Wazt7HfPNZ7PZ6/HRw52brWTnyYxP56N073DCh5dVeJ2lpVEufeiqQS/LQMgFARAAARAAgXMS2JTUpChm/Y9byfvpuHKboiiKHwf7d3ouGcnHKZfPCbS2+ZuZfOV+P2b8oN15KTotfeiqceNBxfgoggAIgAAIgMDVEtic1KQo3gzT95MbB8O65CT/tnd0Qu6YPdmROyhL8dDsB3k7aXDMN49OsvbHfd6uWfrQ1ePqQZdiIISAAAiAAAiAwFIIbFJqUhT5KL2RtPae1yUnFun06HY7MzlKQPxmNrOd3sx4wyOcPVsp9zJyJ8t2m/Q+2PW5SWnot/nszdmk17TiQfV5Oag+gyMQAAEQAAEQuFICm5WaFEUxeXQrqXroRHhhuJ+kw3Ccjx93smeD7PP2/v1u95ts71f7duMlf5n1X4V280pvxr0HWf9Ftr+133nYPTrcu/VF2LwZftFKv7O99dCvjzoPjzof3erZUUZp65N+XhRnHjcfPuxkj3evfz4wadU027rR/d6pKQadpzjOgQAIgAAIgMA7JrBxqUlRTLLbrdbtrPYZ15OsvZVN2Q8vez3zLMj0sN06GBbfdd7zD6zkr8eTs21pjB/3xiRwmm210lExvv/ejS/DQy/Dg8Rt5Kih88HDbFKMOz+7aVOT8YPr7a9J67OO+yrrvshnT3eTz0xqMuvvJvuccoVB2VIUQAAEQAAEQGAFCGxgalIUJ0fbrdbOU37AQ/tB5QdF4Z5XzQef+QTCNp+OB9+zhHz8aGfnbtW/r4+puRWSD/aSPbuDIYecHrbbhyYX0kPneVG87Fz/0D6cO+l9cJ0emFXjTvufVw16dyd9Pive5nkxO7rT2n9Bmyb5871EPNQSBpWqoAwCIAACIAACV01gI1OTN8Puw3A/JXaBzg/82WHa8g+g5HmRD/svjrOt1OyF+Canvo/Slt+PobTDv8IGRmno8YPrNx+Z/R3a89gb/L9zjmt7mbGCKDNuGNSrgXcQAAEQAAEQWAUCG5iaTI7uH9XezSGfqAc+Jl+3W7ePpi8713/WMYnIpPdwkL/N89fZ7v0zZiaT7KPW9jfT8YPr1x+YLq96XbOTYWeAeOxDDU2qHCTpiFrlz3Zpz+N84xZFyHWOu3bTxU86MaivwjsIgAAIgAAIrACBTUtN8uHD7vCUB0Sm2ZbfICmKydfbu4/6vQed9HRG8SIAACAASURBVM5O91k/O3DdJ4+3Oy8nx9+L3Y9ad06y27u9p73Og3TnTrf/LEu/kns2k94HfJdHDU1fY362e/OzbPCks/17id0+Oc+4RVGMu7/Y7jzrZ5/daql7SXLQWr1xAgRAAARAAATePYEFU5PZq+Hg5dQsy/n05WDwMjw2+u5tOPuIk286R6UfhOXuk687R+bnRqIfF+Hv+nKhKPLB5/vZ86MB/zwJS6ku+O8Al78MfJJtu2/QUE819Nvp+PtZkc9mb467H9jv6Zxv3NkrelA3n+WzZ7stMUqhB61WGbUgAAIgAAIgcBUEFklN8u86ew/73bvJjc973U/3es8Gvbs/vfV47k2Sq7AtGjMfdbuj2k2O6bP9G3eO3HOt+TC97X8ZNpIiD/0vusq685Ynj3bdd4NtTzE0fSfoI/om0eRw+6b8pbizjjtMk/f2v83pt+Z+oX6kPx70vEqjPQiAAAiAAAhcGoFFUpOjT+mpi/GXrSRp01+l+S5tJYl7iqKk6PHj7Zsf3Dzl31/0zPdYSp2XWPE62/20p//Cn/151n72cH/3w/eSJNkV39m59D9kY02r+nM2YejX/fSg0z3YT59U/xXA0/Dk40f76Ved/c+66i8XVg16miicBwEQAAEQAIF3RGCR1KRDz3JOso8S94MZb46PDvtn/IWPBcxK8FptAgv4FF1AAARAAARAoI7AIqkJyaJvpapthroBUA8CIAACIAACIAACZyewaGry7b67m3PqUPnsDK/aR0BOFR81+I//+I+tVX39nzV9RS7AIQiAAAiAAAhchMCCqcn4wfXE/c7HKaPnr4dVT3ioP8M7eHHMv6t6irjTTv/O7/zONyv8+r/r+DrNJzgPAiAAAiAAAucgsFhqIh40OcdYl970xYsXP//5zy99GAwAAiAAAiAAAiBwaQQWSk3eDvaT1u6zZe10LM243//93/+3f/u3Ip+OX+hdmWdZ936nI/89GkbaT14ubeem2p43x8Mf1H2r/Id+9rjXOxxHmhQ/Hsf7TE96Svn7nc7T6CtNE/oFlEt6nV3zS1IAYkEABEAABDaJwEKpSUG/4rVqlE5OTn75y18arer+tjA99jJ5edS9e7OV7NhfV7NWTA730vqfPFmWpZPDlL5rbV/5oHOffhN29mTnhv31en+Gfobk/eSG/CETe+ptPptNj19k6dZ7+m7aJPs0Pe0nbln6IoWzar6IbPQBARAAARAAAUVgwdREyViNgz/8wz989OiR0+XH/m4rufHluC6Bmj3f3+HfiDs52vmi/PeAL2SVfvaXtRh3tuwf4imKfNw9OKLf0H3Vu3nbFOSALzs3EvqzO7JOlPPjRzv27wkXRTH9JpRFm4WLWneXg55Z84WHRUcQAAEQAAEQMATWJDWZzWZ//Md/LH2aj9IbyY36vZB8+NglBOP7tzovZdeLl2fH6o5SuFU0PWzLH3YrimLyKK6xw08Ot1st9ROuWq1J9nhoasadD326o1sseBTdDvvO/jmC4uyaLzguuoEACIAACICAIbAmqcmf/MmfZFmmfZoPD24krb3BKX/Mb5z+JLWLPHfPZ26v4AL3rYQMefPrVe/mx31+KiQfddOndT/wT7elkg9P+73879L3DpT6PDCbc75C+a/82P7n0Px8A6I1CIAACIAACEgC65Ca/O///u/PfvYzaZUvT3ofJq3b9Gdoal+vs/ZWFm6cvBn3HmT9F9n+1n7nYffocO/WF/KvBNeKUSde9ztfHQ2edXbudLoPe9mDne2vWYXhfisd29av+0cjylLGz2tuJ70Z7LWqHjoRg02+brcPWf18+LCTPd697v6S3zTbutH9XrQ+tfj6qPPwqPOR/VOCRTFKW5/0/e2o82h+6kBoAAIgAAIgAAI1BNYhNfn1r3/993//99UGvs7ovsghZwalVqM0EbsO48c9kzdMs61WOirG99/jB1byl1n/Val7RcWs/8juiwzTpJ2dTI/uvCeeGhmmyR5lIvk4fd/9/nzdnx8qiuK021LF8CBJR16JV1n3RT57uuv+gAD9Yu++2VGZDA7jbyT5PvI9HzzMJsW487Ob9i8Ojh9cb4uk6lyaS7kogwAIgAAIgMDZCTQpNfnkk0/Cg67CxN/+7d8WR3Fx+s12q7XT/zGud8c6NSnsH/XNB3s2gRCd8tdj/3eCpv3Pd3buVvxLn5t7NVbIq97ND8q3Y6bZVjs7EXJPKebjL28kv1f7NIlKTd7meTE7utOyT8jmz/cSd/Noduy/Wpx/16vUfOdudlwUeV4ULzvX3V2kSe+D6+IpnPNqfophOA0CIAACIAAClQSakZpMJpObN28mSfIHf/AHkRn/9E//1Ol0okp5mI+63TlfDI5SE9tzlLb8XR5arelrMOOBX92l8Dnl6WG75fZj8twmK9Ta75rM6alPTb7pHPFXjvUpEid3TdzfNjK7MkUxfnD95qNJUcwmo6FPqkr9SxW+l/0zSU6UaXVuzUuyUQECIAACIAACpxNoRmryt3/7t//5n//5l3/5l0mS/OM//qM067d+67f+53/+R9ao8uujzjf1d3OKolDPmkyyj+gru+MH191Nlle97ou8yIf9F8fZln9GRA1QOsiH+z9ppd/N+h+7P3+YP+9m4U6QeGKj1LVccUpeVRT6WZOiOOFHZ467Zs9j8qx//GJf3FEqD6JqONfJn+36TRfb4HyaK6E4AAEQAAEQAIEzE2hGamLN+fbbb5Mk+aM/+iO27l/+5V/+7u/+jg/jwpth9+GpD7EOxTd0Jtnt3d7TXudBunOn23+WpV+Z7m/z/HW2e989vRqPEh3nw/2/SI8OO537++3Ps8GTTvpE5Eavejc/q3noNZJDadNpeVVBT6rqb+iMu7/Y7jzrZ5/dapl7UnmeDw925e/LlceRNbNnuzc/I7W3fy8xmy7+5Lk0953wDgIgAAIgAALnJdCk1KQoina7nSTJP//zP1s7//zP//y///u/a2yeHN0/EklB1GqS3T+yX+LVv2uSz+yXjfV3aCePtzsvJ8ff+2+rRMKiw7f+S8elL/JOD7f5p9KiTvHh/LzqzbDzyKZK6ndNZq/ogZh8ls+e7bbs93Tywf7HR5Pvj+tRiJHfTukH7/PZ7M1x9wP/PR1z/hyaC3koggAIgAAIgMB5CTQsNen3+0mS/Omf/mlRFE+fPv2bv/mbGoPz4cNu7W+3v532P7+x88T/vMhJtu2+bVsjrMgHn+9nz48Gdc/S1vWL6ye9T8oPxsaNzPHcvGp23Lt9gx9QFUnDME3e2/82p5+6/4X/ubZXvb2H/aNnZ9ryoedjPqLvWk8Ot2+qX8o/u+aV5qASBEAABEAABM5KoGGpSVEUf/Znf5Ykyb/+67/eunXrv/7rvyoNnRzu7j3Wf+HP/jzrs6z7xe6tnyRJsht++IxW4jP8DZ3wKGvlmKdXqr9EM695PjzYSZ9W6f+k1/ls+6etpOZv6OTjR/vpV539z7pDmUWdXfPX/fSg0z3YT58cyw2iM2s+zyqcAwEQAAEQAIGzEGheanJ4eJgkyS9/+cu//uu/rrbwbfkvD/f76pfjBwP/++ss4dL/8vDbyVj/5WEeOi7MJkOtbf9ZP/5bxD/4LR/X+TL/8vDZNY8twTEIgAAIgAAInJtA81KToih+/vOf/+Zv/ua///u/n9tcdAABEAABEAABEFhtAo1MTf7hH/7hr/7qr1YbLLQDARAAARAAARBYhEAjU5NFDEUfEAABEAABEACBJhBAatIEL0FHEAABEAABENgYAkhNNsbVMBQEQAAEQAAEmkAAqUkTvAQdQQAEQAAEQGBjCCA12RhXw1AQAAEQAAEQaAIBpCZN8BJ0BAEQAAEQAIGNIYDUZGNcDUNBAARAAARAoAkEkJo0wUvQEQRAAARAAAQ2hgBSk41xNQwFARAAARAAgSYQQGrSBC9BRxAAARAAARDYGAJITTbG1TAUBEAABEAABJpAAKlJE7wEHUEABEAABEBgYwggNdkYV8NQEAABEAABEGgCAaQmTfASdAQBEAABEACBjSGA1GRjXA1DQQAEQAAEQKAJBJCaNMFL0BEEQAAEQAAENoYAUpONcTUMBQEQAAEQAIEmEEBq0gQvQUcQAAEQAAEQ2BgCSE02xtUwFARAAARAAASaQACpSRO8BB1BAARAAARAYGMIIDXZGFfDUBAAARAAARBoAgGkJk3wEnQEARAAARAAgY0hgNRkY1wNQ0EABEAABECgCQSQmjTBS9ARBEAABEAABDaGAFKTjXE1DAUBEAABEACBJhBAatIEL0FHEAABEAABENgYAkhNNsbVMBQEQAAEQAAEmkAAqUkTvAQdQQAEQAAEQGBjCCA12RhXw1AQAAEQAAEQaAIBpCZN8BJ0BAEQAAEQAIGNIYDUZGNcDUNBAARAAARAoAkEkJo0wUvQEQRAAARAAAQ2hsBCqclJ1k7CKx15Wqo+Hfrqohim3Hwrm9p60zj0DY1RAgEQAAEQAAEQ2FwCC6cm7eykRG2UJjbzGKVJwqkJ5SWcggwPEtcGqUmJHypAAARAAARAAASWmZpMD9vJgdkrEalJqLSwKSOpSmvgChAAARAAARAAARAoimWmJsODpH1obteI1IS2SeIXUhNMPRAAARAAARAAgWoCS0xNhilvh+jUxOUr1QqgFgRAAARAAARAAAQCgaWlJnTjhh9xFamJqg/jogQCIAACIAACIAACFQSWlZqoZ10LkZoU5nFXsXEyTO3zKHgMtsIdqAIBEAABEACBTSewlNREfDdYPVbinykxWYg/oyr5mzub7gfYDwIgAAIgAAIgYAgslJrE7MRTJuFUZWU4jRIIgAAIgAAIgAAIlAkgNSkzQQ0IgAAIgAAIgMCVEVhKanJl2mNgEAABEAABEACBNSOA1GTNHApzQAAEQAAEQKDZBJCaNNt/0B4EQAAEQAAE1owAUpM1cyjMAQEQAAEQAIFmE0Bq0mz/QXsQAAEQAAEQWDMCSE3WzKEwBwRAAARAAASaTQCpSbP9B+1BAARAAARAYM0IIDVZM4fCHBAAARAAARBoNgGkJs32H7QHARAAARAAgTUjgNRkzRwKc0AABEAABECg2QSQmjTbf9AeBEAABEAABNaMAFKTNXMozAEBEAABEACBZhNAatJs/0F7EAABEAABEFgzAkhN1syhMAcEQAAEQAAEmk0AqUmz/QftQQAEQAAEQGDNCCA1WTOHwhwQAAEQAAEQaDYBpCbN9h+0BwEQAAEQAIE1I4DUZM0cCnNAAARAAARAoNkEkJo023/QHgRAAARAAATWjABSkzVzKMwBARAAARAAgWYTQGrSbP9BexAAARAAARBYMwJITdbMoTAHBEAABEAABJpNAKlJs/0H7UEABEAABEBgzQggNVkzh8KcVSYwzbaSZCubSh1PsnaStA9VnTw/vzw8KAksCqo8GM7viLMgAAIgsLIEkJqsrGug2FoSGKYqETHJykXSCJPZpCPBimpSJCaCCIogAAINI7DCqUk+Hb8YjE9yIvp2djwajBf8YDnXJT8eD1+Mp2YQ1+5tPpOHc3vjJAicl8D0sJ341EGWzyuH25OQsBNDuc7CezAsEwUQAAEQuEICS05N7t27d8287t27dxGr8lFn57Ne/0W/e/u97UdZejc9etHb/d0b3e/PIDX61Fi/YZ6P0u0vssFXO8n73WMneNb/pJV8PjjDMIs3of12fvGiMkp5xTKi6eM1fxo2a5jrIxYe1aYo7eSLgdrZiVM43u2X445SscgVBZ0KOhSGJCteectAjMgNxSd4KSFsFbjVVNgouhSFqC8pE4SQdbal4GNubXhsZyXg84bYC6R8wOhoCubG9qA5HbJzubVRk27rkOax+1QrGi5Is/ClaaKxkCO9KVr4IrX0r2CLJBy71cwB14XNkZX2nDkVe195Rwzt5IgaNwCrZDaTvKLpqKalnE7UmLuTuUIZUR/zIcnuKov9Gyd58yh5vngHARBYCoFlpib37t3zwYTeF89Ofuzvfj6wOxcmHNzqvSrGD64nSYuXajI+n+VvqyComO5iXFVMH3fu9CZuPdsfWFH5YC9J2l9PvNx89sYXl/Y+zQ74aQOKjE63OUGzGKYc5U049hxEYDXqUTj2LWXZJBkuQKv6wuYffglUqYlbD+RYjDEW4uHE9dIoFfqNX5yqsY9IiF+VaQLwiihtP8naW221eBdVcjyNcxDwQ1ui9UuXs1mYTArUeNMDsu8GRdslKPoUH1Eb75eSadzKFjwloUDUoiii5GZ6mNpcTdIu7EAeuLn6wrquW1IqmG35dd0MJ1BQbhDQqbJJGvwQLqFkN5EcM/G4ZpT6GWhST653FgX1PAQjQlwI0vWmzFS1kmp+OuvUhI/cIUwow0YNCIDARQgsMzW5du2aTE2uXbu2mGb5807P746Mv2wlH1ACUfw4zJ4cz4LESfZRsv1N1T0eEdNttMoO/IIRuhfF6yx9Mi2KSe/DpOUzoeJl53pyvfPStZt83U5uH1WNIQVdpCzCt1zFSaQ4pUaQy0/cJqwNAoLpHXqFNlasHFekJqZZFtYeHbhjIV7DuF4IH0ZeCKdIN86ojCS2a5iWPwrbxYlSk0x5lmrSlJODhQmEFUh7QRPwFutnTp1RrD+3igsESpsWtxD6z5vGrpsZ8UBvemmJsWvs2bJRoaZsRVRzamri8gbSf35KIc7KDENbcIbUhOeGcmKY/AumJoGJ16hc48/gHQRA4OIEVjE1EVZNeh8kLRG2xKmieFPzSAhFDfPByIePeFGUUl71biWt/RdO1OTRzSTZD48Qvs0rNmZI7HleVZ+uKP7SS3yAo1UtfvHnRfdR0p/3H+aipUIsk1XSbC+zKHpB7t2rwamJW2Ll2iPiu7iLIVnSSi4/raotGepeetlxlWQj0NdUoublZyubssJm6HTkO7qh4wHPRCDu5DcGYmUctMhkh7du0lpehLdNuyZVc8MhpeHMEFSgNX7eNPY3s8SEiTxDZCrOCoC+g2/JCvgT1r9+7tXsmgR6YT+jasqFs1HiMsfMqGXtHcb6yW9Sk6CiLTkssX/ppDN2DiUBB0UQAIFlEVhmarK0GzpsnAkWe8+rUpA39c+qupAaVqlTgl2y5+4eFdOj20nycd/tzbyL52EptwjhT2YqYtfE5jF+XQl2lVIBkuY+nlYEU4c1WkrV50jXizMev0r5rip7qlp964VHotjH8c65OeFtrFodXU+zazIN9xSGKdHzHW1qUrPw1yupb2/RSIzC3hAJCyoJMfIjaS7prILjbWanc8Gfke/nmcbUj9oH9aQkU67hXzFPfMsq+PpS8i39YBpFsE738q39e5RwzGkctYxMNuRNMldhlB/M5dz+sN6/9nZVuDbjuRTbzhJRAAEQuDiBZaYmRVEs5THY/GVv9+PuOC9mT3fFpves/2lnbCyePOn0vum0PzQ3esoMTEjNxDMKc4IdLzAkxjxocvORedDk9VHn0VHnI3rM5VJfFE9t1KsNmhQEo4+q4pAWAP9KU960qF+o9PqhF2MT0zMWEhZ+w4Bkuk/esRDPKK4XRsWnfBe1BtjKoDxZ53Oy0IFKLjXxm/yj1ORkglUQojvO29rRNKifUCAS6Nc/ZRe1SYeyVzy42Vjy61xYTUvNzLqbnnEaU+9IvZJApSefLfcKNcJ21z6qiZfnaAg+DJOcxxUFOisyuTmNo5axyaw5F8QorigmpKkRFsW95s6luHF5JNSAAAgsTmDJqcniioSeZuuitduf5f1Pwi2PfJTu2KQhH3S/ntBDIfYZlNDRlyhqqBv5c1ITepbFrxOTw+2We9AkHzzMJsW487Obl5CaiGdazdof9jlqdk04xLtnBnmjxVvM76IlBVY2zeyvVN+AiHdNCJ1rqZ9zNAL9EiIG4sGpENfLlYDKIs84yVL3O2NGcjilNCeBQZ+CH97k1MSuT+0tu2FAfX3epuSchwCbPy81YUu5YPMYOzotokLtwIggyL0No6SnGpq5VOOs05g6nrpYmuvCwwkkNWGlj7EiaEst/cViVKXGMnEUKPRmmB6aQAmT44TDJHYhWTnzY7BiJte6XrSxsM+WmtiJHRwqKZEEpqo8iAMQAIFFCaxgalJMHrdv3U07n+7sPRlkd35669NO54vdnS8H/hlYev5jfP/6rcf8PRptfRwH596kf32085MbO190Op/t3PgJfQfIPmiS5wVlP3UbM3rAcx5RLAsvjtFyFSeJImjaYG36tA+HYvWNRy6vDTwQR0/dRu8TRNmD2DWpWKVYc6HFPOHx8x+cAVCgt3Y5bdX6Z9IdNoMH9bsmLh9yXawofnDZLCG+75kJsGLaC2ZeeWEhYfImm7GC5tGhYWQlsAmWW2m6Opyl+jkZNnWh9iGNcEKiN6uAtSGoqggzJdvV+N0bHWkupodtTCjkS7aXQ2s9S6mJw+4lBXfELZVMlcbZrNpLEKnDnKssBhjNpTpKSE2iSYZDEFgCgVVMTcz3gmf8LEk+C2Vv8TBt7Rz9WFACcbFXTt8NphFm+STbEl/Voc9JrZ0nsyWMcTENN6B3vAZsgMkwEQRAAARAoJbAiqYmtfqaE/mL/dado5m9szO/6byz+fjLG0mybb8cnH+X3khu8NeGi3ywT9mPvbMzTwrOXZgAUpMLI4QAEAABEFgjAs1MTb5Lb9ztHj3oDi/0e2j0UMuNT/p0W+j10e77N3afijtE+Th9f6f7Tac7uvDOzBpNl8sxBanJ5XCFVBAAARBoJoFGpiaEes6Xh8/sifyHbO/29s7d7e2PuwN+PoG7v4svD/Ngm1xAarLJ3oftIAACIBATaGxqEhuCYxAAARAAARAAgXUggNRkHbwIG0AABEAABEBgbQggNVkbV8IQEAABEAABEFgHAkhN1sGLsAEEQAAEQAAE1oYAUpO1cSUMAQEQAAEQAIF1IIDUZB28CBtAAARAAARAYG0IIDVZG1fCEBAAARAAARBYBwJITdbBi7ABBEAABEAABNaGAFKTtXElDAEBEAABEACBdSCA1GQdvAgbQAAEQAAEQGBtCCA1WRtXwhAQAAEQAAEQWAcCSE3WwYuwAQRAAARAAATWhgBSk7VxJQwBARAAARAAgXUggNRkHbwIG0AABEAABEBgbQggNVkbV8IQEAABEAABEFgHAkhN1sGLsAEEQAAEQAAE1oYAUpO1cSUMAQEQAAEQAIF1IIDUZB28CBtAAARAAARAYG0IIDVZG1fCEBAAARAAARBYBwJITdbBi7ABBEAABEAABNaGwOqmJvms/MqXwP1NWexsGXKXoBpEgAAIgAAIgAAIrGxqMhs+7nTuR//6kwt7bPI0ktnp3O8NZxeWCwEgsCYEhmmSJAdDZc2I6tKRqjvzwTTbKgksqLJ9OD2zEDQEARDYIAIrm5pskA9gKgisFoGTrK0SEUpWLpRGUGbTzk6ElaM02cqQmAgiKIIACAQCK5ya5NPxi8H4xNxseTs7Hg3GS4hk+fTlYPiD2iTJcT8nzAeUQIAIDA8STh1keWE6JCTsxFCus+gezMIqoCMIgEBjCCw5Nbl3794187p3795FGOSjzs5nvf6Lfvf2e9uPsvRuevSit/u7N7rfV0gdHqiPdBQEk1TvR9tek6O7O91nR/sftHaf+ezk++6N5FbvVYXYi1WZTezEvWwUdtHZ7I2bE/pzZGE20m2P6AOl+RTLwpxpVCklyB1yKovQb5QRMqeHbS9NNhMWqxFDG73AFAXZElAb8k4wj05jiaGLSG05UFi6pC2klRQy391Sh/iTurPP0GD7bUFoWA3HWRp8FO0iiHGDU0xlODTjWwkBmgHitTkzAbHMKy/QiEGId2hgbkYPDegwMsT38adCX39GvM/3hWhYSL9Lb6o29iBcICE9KuTVoaY99ZEu8+ZXeJnmpJxvRF15R8pxE1gqE00VeWorm8pD0VJMDFMb4FMGSPfJ7CvMwFMmvzfQwKJBxVySArVpFZxRBQIrTGCZqcm9e/f8dUbvi2cnP/Z3Px/YR1NNsKDUYfzgepK0eMGTSFV8dAFCXq6u7ezp7v7znMJBK7n12D21Mnl0M0n2q/IYOcJ5y3oBGKVWbRekfGwypnFkpC5sHbUMocqsPfZQRqJ4zZARjcoszQVcL5AOfdlGam4Z7PQ6+7jveMYrn9Yn5UcHqN6ZpoYr1BIll6vCPHzgw660hZSSQua421jqXR/zYePmCZcDKTjRvDIrHC/qCouwnVTdanMz0qBCDs8BUuyMBHwzYxTJrHGQNVqiEGWlNuPhgjGkPfeJkDm+YDFc8MOpqc5nbcF4UAA5MDd9NG3LkCctifXmu1nE09sCl4fC/Ghe1bqeNFMXlL8oSnpWtfRWW/uk7bIst6nmzU8tTWWldrqGyWZmGlOyw+N/EGgKgWWmJteuXZOpybVr1xajkD/v9PzuyPjLVvJBj/KIH4fZk2O/16EEi/horvbDrB1CFbfMh/c746LIX+y3wjbJrP9xknzcrxTLPc9bUDFOdKawIqOkeBKQuviUhXqUA6g9KxahqI2Nnj4wiUhqRR3yrf1h6pMGq1oc7ITCtijNiRtLfVTHEHZld2oiTBOOM52DtFOiszczdrdSTwykVBPYbb3QsB4O6cZLEfULvWggnw+ZM/yA5/AgSfVspJoDlUl4W4wuZyagZkvoZVY4OZGshRqFoyR62Val/8kLYtUvnTf3fbz+sS8qWhs10gM91VW7MG1ktXKrORFqtGl0MqqJHmrRZ8mJDle960mouKDosFpPo1rUMvJIGEUMbfoFxU6Z/F5h00s4MTAxZ9xdufJk8GfxDgKrTGAVUxPBa9L7IGmddnXxCucuTrrI5VIh5BX54PNW8qHJdYqiyAd7SdL+Ov7eD8k5zyv6aML6yIErIwVHk6oRw0IYBIpIZEJwrKVfJzg++jDHAZrglF7VhCn+0pY374XYRxDi3gK1Fm6xhCXc4tAhOBbmHEdqSrWVRAAAB7JJREFUxy+f1TGNCnfHfAJD4QvPxFcFDbX+TgELR0q2HbmGCvHLQqNEZMS+MKum2/m30KrMPBuBeDw/4aOJ5HwXmFvVnWejeet5uHfCkrTbYSMnOk+H83xR0dys0zrDU61ITzGd3DkBkFvzfOYCn4rSiKhB5GKe+VG95ctnI5nVeloNYm21R8KE1PV2PHu2alaIyV/j+nhc0iayPSBCCQRWncAyU5Ol3dBhaCZe7NFdmHkvFx95qZgXOOhuzs1HPhf5Lm0l1zsv5wlf4BzH66ivW0pFLdfUdTFtwyct9WwHmRkiXeWuSVh0OUjNgyM0E0WzRLkFgxV255m5y1pYH/GxUutpFzzzZY2qYOrk0imZEgVDeDnkobVFRj5Hb9ZH2DNn10SLkn0UeXuCFWC2qgMdmNQkrBDTQ3NzhztGC57qfgqBM310JnPMfT3tAjtVTvkysOobbg4qHU/zRdSYDoPtFSdNtv0OUpMwK8LcnuN60lTP1XmNdUt7XYQUh64LTlvlDBc4FnN9PK6j7XMaIR9FEGgAgWWmJkVRLOUx2Pxlb/fj7jgvZk93xS76rP8p3ZEpv8y6noVnNeYEDg64Rop50GTPPdVSlrtojVxHpYx4XRfbwnVd1I2DKLKTLSHIVqQmdCvBNwjLp0gapHLzyqFLbEJYaUIbI0kdynShfZCyVrG0oMMp0bl9WOtukmnDccyHpc8RrtTmDlQIlrrqoHztQD41IUe3s5NptmXcIUQFIWowtxbKpUvOkLhXrUC/XGkNSdTBsGyRUIE6cvYTkIoWtniOS892EKqWhFEuF65icTq2V6732jTqFNWEmW8kRmfDYfXQXgtP0h3PaRy1NBtFITUJh9KhfhT7ThIu7HoSVeamB8IRCKwugSWnJsswdHp0O0lau/1Z3v8k3OrOR+kO73boYegKlD8SReGm/NnL9JkebfPTpm+G6fvLf9DEDEORiyN74R8ptXpy0DGHXk/SWcajYerCmQ6CMrKHqGpxyIhGZXUvRgRoNS49M5GqH5ywnGQlDepSHOor4qxY3uToJiYyZ6sd/y/VJsniE/lJ5h+kVdKi/MxiDGpIdwtV4yWKFZiza2KjuZg8AY5RNTwqpDQ3tMXH0+FB2GSyN01oCd/yjzVQX+93JYeW1bMSqPaCXo0YNRdcjmW9adSWcjwik0p6DamSJiHPW9/KnDj7pWe7SdulIF82Q/t8uphmtY/Bchs72VjbklFi5tMgEoXOOOdeFyRW3v+q1pMGiFvqS4bOOpKkiS9TR77kRRuDRSYxWprOmCOBhNpTMqek/kYw/gOB1SWwgqlJMXncvnU37Xy6s/dkkN356a1PO50vdne+HNQ9rBrFlJptYeuDfPjlzfd+tde5v7/7q5+2VGhYrpNMduJuLISFKjkYGm3tCY6nZmgTPlwPF1OkEH+G3k3EofY+9JAAGdGoHNZRG4LV2imk1S5O3CaMcmpktH3Skc6oJNpIbbM2+5EYiLTF2Ca+VVTvboOLzYkGCjrME+4+a3qFQgJk11ShrQ70Brjvxau4u6HjVkS/tllRrI+QGVIW5c0qAmxmxfrq9eDpzSioIJbD6NCqZPRhE5yaplKbTGfqfeH6xW+R7fFpOjarvjMhqGFU9YbxPHH9xTUlrLMnK1ITL4bew9z25vizknAp4ajVs9RS6kaipVhlFGsyb36SNCkh4qkECkqmvuy+KvyoA4GVILCKqQk9nzqb8Q+hyfJFmeU5PbdCf0Ynz0f0JeJL+EWTWh3jsFLbkE+Ip0y4zt0dCMcovQsC0RrwLobEGCAAAiCwoQRWNDW5FG+cHG23ktaX9nmV6dHtVmvZXxuerzZSk/l8VvosUpOVdg+UAwEQWCsCm5SafJe2Wrc6L/OimI0f3HrvV53xm3fqy/OnJu9UPQw2jwBSk3l0cA4EQAAElklgk1KTYja8v9O+s7OztZPW/HrbMtGWZCE1KSFpTgVSk+b4CpqCAAg0ncBGpSZNdxb0BwEQAAEQAIH1J4DUZP19DAtBAARAAARAoEEEkJo0yFlQFQRAAARAAATWnwBSk/X3MSwEARAAARAAgQYRQGrSIGdBVRAAARAAARBYfwJITdbfx7AQBEAABEAABBpEAKlJg5wFVUEABEAABEBg/QkgNVl/H8NCEAABEAABEGgQAaQmDXIWVAUBEAABEACB9SeA1GT9fQwLQQAEQAAEQKBBBJCaNMhZUBUEQAAEQAAE1p8AUpP19zEsBAEQAAEQAIEGEUBq0iBnQVUQAAEQAAEQWH8CSE3W38ewEARAAARAAAQaRACpSYOcBVVBAARAAARAYP0JIDVZfx/DQhAAARAAARBoEAGkJg1yFlQFARAAARAAgfUngNRk/X0MC0EABEAABECgQQSQmjTIWVAVBEAABEAABNafAFKT9fcxLAQBEAABEACBBhFAatIgZ0FVEAABEAABEFh/AkhN1t/HsBAEQAAEQAAEGkQAqUmDnAVVQQAEQAAEQGD9CSA1WX8fw0IQAAEQAAEQaBABpCYNchZUBQEQAAEQAIH1J4DUZP19DAtBAARAAARAoEEEkJo0yFlQFQRAAARAAATWnwBSk/X3MSwEARAAARAAgQYRQGrSIGdBVRAAARAAARBYfwL/H10BGNJSJ1gLAAAAAElFTkSuQmCC)"
      ],
      "metadata": {
        "id": "22NPR0RDgkCe"
      }
    },
    {
      "cell_type": "code",
      "source": [
        "visits = [ 6,  2, 10,  3,  9,  9,  2,  3,  6,  6, 10,  2,  5, 10,  3,  5,  4,\n",
        "        7,  4,  2]"
      ],
      "metadata": {
        "id": "4OIGBT7UOWhO"
      },
      "execution_count": 28,
      "outputs": []
    },
    {
      "cell_type": "code",
      "source": [
        "#6.1. без використання жодних бібліотек, користуючись тільки Python.\n",
        "\n",
        "import math\n",
        "x_meean #посчитан ранее\n",
        "sort_visits = sorted(visits)\n",
        "n_y = len(visits)\n",
        "y_meean = sum(sort_visits)/n_y\n",
        "\n",
        "# числитель\n",
        "sum_numbers_purch = [(i - x_meean) for i in sorted_sum_purchases]\n",
        "sum_numbers_vis = [(el - y_meean) for el in sort_visits]\n",
        "numerator = sum([sum_numbers_purch_i * sum_numbers_vis_i for sum_numbers_purch_i, sum_numbers_vis_i in zip(sum_numbers_purch, sum_numbers_vis)])\n",
        "\n",
        "#знаменатель\n",
        "sum_numbers_purch_kv = sum([(i - x_meean)**2 for i in sorted_sum_purchases])\n",
        "sum_numbers_vis_kv = sum([(el - y_meean)**2 for el in sort_visits])\n",
        "\n",
        "# Перемножаем\n",
        "denominator = math.sqrt(sum_numbers_purch_kv * sum_numbers_vis_kv)\n",
        "\n",
        "R = numerator/denominator\n",
        "\n",
        "print(R)\n"
      ],
      "metadata": {
        "id": "YLNF7VbeT97Q",
        "colab": {
          "base_uri": "https://localhost:8080/"
        },
        "outputId": "935ec811-9fe2-4dba-8a65-77e41cffbb72"
      },
      "execution_count": 29,
      "outputs": [
        {
          "output_type": "stream",
          "name": "stdout",
          "text": [
            "0.6182549205533574\n"
          ]
        }
      ]
    },
    {
      "cell_type": "code",
      "source": [
        "#6.2. використовуючи відповідний метод бібліотеки numpy.\n",
        "\n",
        "correlation_matrix = np.corrcoef(sorted_sum_purchases, sort_visits)\n",
        "pearson_correlation = correlation_matrix[0, 1]\n",
        "\n",
        "print(f'Коэффициент корреляции Пирсона (с учетом выбросов): {pearson_correlation}')"
      ],
      "metadata": {
        "colab": {
          "base_uri": "https://localhost:8080/"
        },
        "id": "LUJbiyfInQae",
        "outputId": "ce69ebf0-7a30-415d-a51d-8d3f5df4e738"
      },
      "execution_count": 40,
      "outputs": [
        {
          "output_type": "stream",
          "name": "stdout",
          "text": [
            "Коэффициент корреляции Пирсона (с учетом выбросов): 0.6182549205533575\n"
          ]
        }
      ]
    },
    {
      "cell_type": "code",
      "source": [
        "import matplotlib.pyplot as plt\n",
        "\n",
        "plt.scatter(sum_purchases, visits)\n",
        "plt.title('Scatter Plot of Purchases vs. Visits')\n",
        "plt.xlabel('Sum of Purchases')\n",
        "plt.ylabel('Number of Visits');"
      ],
      "metadata": {
        "colab": {
          "base_uri": "https://localhost:8080/",
          "height": 472
        },
        "id": "gaeoGA-5Prr1",
        "outputId": "0aa748c4-082c-4e1a-f08c-61a0d6b85f22"
      },
      "execution_count": 31,
      "outputs": [
        {
          "output_type": "display_data",
          "data": {
            "text/plain": [
              "<Figure size 640x480 with 1 Axes>"
            ],
            "image/png": "[encoded data removed]"
          },
          "metadata": {}
        }
      ]
    },
    {
      "cell_type": "markdown",
      "source": [
        "Відповідь: Коефіцієнт кореляції 0,68, що показує тісний взаємозвязок між змінними, але є незначна кількість викидів, що не відповідає цьому принципу. Тобто не завжди збільшення клієнтів призводить до збільшення покупок. Можливо Аналіз буде більш якісним, якщо прибрати викиди"
      ],
      "metadata": {
        "id": "f7eIvRiypPTG"
      }
    },
    {
      "cell_type": "markdown",
      "source": [
        "е**Завдання 7**. В попередньому завданні ми помітили, що викиди нам заважають отримати \"правдиве\" значення кореляції. Давайте вилучимо записи, які відповідають значенням з викидами в сумі покупок і обчисліть коеф. кореляції. Для цього поставте `threshold`, який дорінює середньому значенню + 2 стандартних вдіхилля суми покупок і всі значення, які більше за нього, будемо вважати викидами (є і інші правила для визначення викидів - з ним и познайомимось пізніше).\n",
        "\n",
        "Вилучіть значення з обох масивів і обчисліть коеф. кореляції Пірсона з допомогою `numpy` для кількості візитів і суми покупок без записів-викидів. Виведіть результат на екран, побудуйте діаграму розсіювання і проаналізуйте результат: що можемо сказати про залежність в даних?"
      ],
      "metadata": {
        "id": "4pEg0KzSQ6KA"
      }
    },
    {
      "cell_type": "code",
      "source": [
        "# 1. Вычисляем среднее и стандартное отклонение суммы покупок\n",
        "mean_sum_purchases = np.mean(sum_purchases)\n",
        "std_sum_purchases = np.std(sum_purchases, ddof=1)\n",
        "\n",
        "print(mean_sum_purchases, std_sum_purchases)"
      ],
      "metadata": {
        "id": "Yj3Yfaf7UBbc",
        "colab": {
          "base_uri": "https://localhost:8080/"
        },
        "outputId": "0e728337-2205-4b5a-f74c-91ea76522159"
      },
      "execution_count": 33,
      "outputs": [
        {
          "output_type": "stream",
          "name": "stdout",
          "text": [
            "667.95 1124.5433447451132\n"
          ]
        }
      ]
    },
    {
      "cell_type": "code",
      "source": [
        "# 2. Устанавливаем порог для выбросов\n",
        "threshold = mean_sum_purchases + 2 * std_sum_purchases"
      ],
      "metadata": {
        "id": "eiAxIvhTdVZR"
      },
      "execution_count": 34,
      "outputs": []
    },
    {
      "cell_type": "code",
      "source": [
        "# 3. Фильтруем данные, удаляя выбросы\n",
        "\n",
        "sum_purchases = np.array([316, 493, 367, 153, 224, 121, 322, 450, 196, 397, 281, 239, 484, 124, 223, 448, 432, 255, 4310, 3524])\n",
        "visits = np.array([5, 8, 6, 2, 4, 1, 5, 7, 3, 6, 4, 3, 8, 2, 4, 7, 6, 4, 90, 80])\n",
        "\n",
        "filtered_sum_purchases = sum_purchases[sum_purchases <= threshold]\n",
        "filtered_visits = visits[sum_purchases <= threshold]"
      ],
      "metadata": {
        "id": "mlcGjsyseOIw"
      },
      "execution_count": 38,
      "outputs": []
    },
    {
      "cell_type": "code",
      "source": [
        "# 4. Вычисляем коэффициент корреляции Пирсона\n",
        "pearson_correlation_filtered = np.corrcoef(filtered_sum_purchases, filtered_visits)[0, 1]\n",
        "\n",
        "print(f'Коэффициент корреляции Пирсона без выбросов: {pearson_correlation_filtered}')\n",
        "print(f'Коэффициент корреляции Пирсона (с учетом выбросов п6.2): {pearson_correlation}')"
      ],
      "metadata": {
        "colab": {
          "base_uri": "https://localhost:8080/"
        },
        "id": "tpVIx7vBfxtR",
        "outputId": "fbf78cd2-a424-4652-f573-ba94ef115b2c"
      },
      "execution_count": 41,
      "outputs": [
        {
          "output_type": "stream",
          "name": "stdout",
          "text": [
            "Коэффициент корреляции Пирсона без выбросов: 0.9806336059994483\n",
            "Коэффициент корреляции Пирсона (с учетом выбросов п6.2): 0.6182549205533575\n"
          ]
        }
      ]
    },
    {
      "cell_type": "code",
      "source": [
        "import matplotlib.pyplot as plt\n",
        "\n",
        "plt.scatter(filtered_sum_purchases, filtered_visits)\n",
        "plt.title('Scatter Plot of Purchases vs. Visits (w/o outliers)')\n",
        "plt.xlabel('Sum of Purchases')\n",
        "plt.ylabel('Number of Visits');"
      ],
      "metadata": {
        "colab": {
          "base_uri": "https://localhost:8080/",
          "height": 472
        },
        "id": "_q74h5EsgbJS",
        "outputId": "08a05b49-261b-45f2-e39d-a168173c876a"
      },
      "execution_count": 43,
      "outputs": [
        {
          "output_type": "display_data",
          "data": {
            "text/plain": [
              "<Figure size 640x480 with 1 Axes>"
            ],
            "image/png": "[encoded data removed]"
          },
          "metadata": {}
        }
      ]
    },
    {
      "cell_type": "markdown",
      "source": [
        "Відповідь: На графіку показано залежність між сумою покупок і кількістю візитів (без урахування викидів). Дані вказують на позитивну кореляцію: зростання суми покупок супроводжується збільшенням кількості візитів. Це свідчить про те, що більша сума покупок пов'язана з частішими візитами."
      ],
      "metadata": {
        "id": "irhs4CGXhT_S"
      }
    }
  ]
}