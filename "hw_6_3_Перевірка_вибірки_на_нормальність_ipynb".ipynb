{
  "cells": [
    {
      "cell_type": "markdown",
      "metadata": {
        "id": "view-in-github",
        "colab_type": "text"
      },
      "source": [
        "<a href=\"https://colab.research.google.com/github/TeraneAgaeva/Data-Analysis-course-/blob/main/%22hw_6_3_%D0%9F%D0%B5%D1%80%D0%B5%D0%B2%D1%96%D1%80%D0%BA%D0%B0_%D0%B2%D0%B8%D0%B1%D1%96%D1%80%D0%BA%D0%B8_%D0%BD%D0%B0_%D0%BD%D0%BE%D1%80%D0%BC%D0%B0%D0%BB%D1%8C%D0%BD%D1%96%D1%81%D1%82%D1%8C_ipynb%22.ipynb\" target=\"_parent\"><img src=\"https://colab.research.google.com/assets/colab-badge.svg\" alt=\"Open In Colab\"/></a>"
      ]
    },
    {
      "cell_type": "markdown",
      "id": "e152f6d6",
      "metadata": {
        "ExecuteTime": {
          "end_time": "2022-12-10T14:29:24.703416Z",
          "start_time": "2022-12-10T14:29:24.688485Z"
        },
        "id": "e152f6d6"
      },
      "source": [
        "## Домашнє завдання на тему \"Перевірка вибірки на нормальність\""
      ]
    },
    {
      "cell_type": "markdown",
      "id": "cd404683",
      "metadata": {
        "id": "cd404683"
      },
      "source": [
        "0.Зчитайте дані з `data.csv` та запишіть значення колонки data у форматі np.ndarray в змінну data. Ми будемо далі працювати з цією змінною."
      ]
    },
    {
      "cell_type": "code",
      "execution_count": 42,
      "id": "b20b6ba2",
      "metadata": {
        "id": "b20b6ba2"
      },
      "outputs": [],
      "source": [
        "import matplotlib.pyplot as plt\n",
        "import numpy as np\n",
        "import pandas as pd\n",
        "import math"
      ]
    },
    {
      "cell_type": "code",
      "source": [
        "from scipy.stats import norm\n",
        "from scipy.stats import shapiro, normaltest\n",
        "from statsmodels.stats.weightstats import ztest\n",
        "from scipy.stats import shapiro, normaltest"
      ],
      "metadata": {
        "id": "LJVVaIsBAjFU"
      },
      "id": "LJVVaIsBAjFU",
      "execution_count": 48,
      "outputs": []
    },
    {
      "cell_type": "code",
      "source": [
        "!pip install statsmodels"
      ],
      "metadata": {
        "colab": {
          "base_uri": "https://localhost:8080/"
        },
        "id": "CKp2gC_pAHnd",
        "outputId": "8a35a5f7-4bae-40e1-9c23-1b09aa7e3631"
      },
      "id": "CKp2gC_pAHnd",
      "execution_count": 18,
      "outputs": [
        {
          "output_type": "stream",
          "name": "stdout",
          "text": [
            "Requirement already satisfied: statsmodels in /usr/local/lib/python3.10/dist-packages (0.14.2)\n",
            "Requirement already satisfied: numpy>=1.22.3 in /usr/local/lib/python3.10/dist-packages (from statsmodels) (1.26.4)\n",
            "Requirement already satisfied: scipy!=1.9.2,>=1.8 in /usr/local/lib/python3.10/dist-packages (from statsmodels) (1.13.1)\n",
            "Requirement already satisfied: pandas!=2.1.0,>=1.4 in /usr/local/lib/python3.10/dist-packages (from statsmodels) (2.1.4)\n",
            "Requirement already satisfied: patsy>=0.5.6 in /usr/local/lib/python3.10/dist-packages (from statsmodels) (0.5.6)\n",
            "Requirement already satisfied: packaging>=21.3 in /usr/local/lib/python3.10/dist-packages (from statsmodels) (24.1)\n",
            "Requirement already satisfied: python-dateutil>=2.8.2 in /usr/local/lib/python3.10/dist-packages (from pandas!=2.1.0,>=1.4->statsmodels) (2.8.2)\n",
            "Requirement already satisfied: pytz>=2020.1 in /usr/local/lib/python3.10/dist-packages (from pandas!=2.1.0,>=1.4->statsmodels) (2024.1)\n",
            "Requirement already satisfied: tzdata>=2022.1 in /usr/local/lib/python3.10/dist-packages (from pandas!=2.1.0,>=1.4->statsmodels) (2024.1)\n",
            "Requirement already satisfied: six in /usr/local/lib/python3.10/dist-packages (from patsy>=0.5.6->statsmodels) (1.16.0)\n"
          ]
        }
      ]
    },
    {
      "cell_type": "code",
      "source": [
        "from google.colab import drive\n",
        "drive.mount('/content/drive')"
      ],
      "metadata": {
        "colab": {
          "base_uri": "https://localhost:8080/"
        },
        "id": "BWwzmLT2rHg8",
        "outputId": "9a86163f-e51e-4d70-8e2c-8f9fdb4ff834"
      },
      "id": "BWwzmLT2rHg8",
      "execution_count": 2,
      "outputs": [
        {
          "output_type": "stream",
          "name": "stdout",
          "text": [
            "Mounted at /content/drive\n"
          ]
        }
      ]
    },
    {
      "cell_type": "code",
      "source": [
        "!ls drive/MyDrive/data.csv"
      ],
      "metadata": {
        "colab": {
          "base_uri": "https://localhost:8080/"
        },
        "id": "ifTYfOAKq9lD",
        "outputId": "35a2551d-352e-4338-9a97-5dddd1984ad8"
      },
      "id": "ifTYfOAKq9lD",
      "execution_count": 4,
      "outputs": [
        {
          "output_type": "stream",
          "name": "stdout",
          "text": [
            "drive/MyDrive/data.csv\n"
          ]
        }
      ]
    },
    {
      "cell_type": "code",
      "source": [
        "data_path = 'drive/MyDrive/data.csv'\n",
        "data1 = pd.read_csv(data_path)"
      ],
      "metadata": {
        "id": "T1YrzjFsrOlE"
      },
      "id": "T1YrzjFsrOlE",
      "execution_count": 5,
      "outputs": []
    },
    {
      "cell_type": "code",
      "source": [
        "data = np.array(data1.data)\n",
        "\n",
        "data"
      ],
      "metadata": {
        "colab": {
          "base_uri": "https://localhost:8080/"
        },
        "id": "mVFN0xSPrT4k",
        "outputId": "ddeca264-f911-4e8b-c281-fe8df7852e72"
      },
      "id": "mVFN0xSPrT4k",
      "execution_count": 6,
      "outputs": [
        {
          "output_type": "execute_result",
          "data": {
            "text/plain": [
              "array([17.49945292, 19.66239904,  7.18282343, 29.84162485,  9.23938649,\n",
              "       14.94951581, 23.0172885 , 12.52827148, 13.65228669, 14.54595431,\n",
              "       23.30872427, 33.75324808, 20.24923636, 13.29244733, 23.23434992,\n",
              "       16.4230418 , 19.88521702, 27.05000732, 15.5127743 , 20.05415151,\n",
              "       14.73135264, 19.06139498, 21.53942271, 14.06732571, 17.9670682 ,\n",
              "       18.58289581, 16.17406993, 12.87432628, 11.47269664, 19.07902883,\n",
              "       18.38565824, 33.38820073,  5.39139454, 20.67635903, 22.22266722,\n",
              "       28.15780318, 23.01114324, 14.93471778, 20.00005857, 23.25411543,\n",
              "       18.11895082, 24.62607043,  8.79145607, 30.387108  , 28.80606806,\n",
              "       17.98593597, 23.66804468, 20.28782355, 15.02518827, 20.52626131,\n",
              "       26.00219532, 17.71344489, 17.74598346, 19.55317542, 22.60097798,\n",
              "       27.67027538, 16.19192417, 23.05037746, 21.29669604,  8.84832568,\n",
              "       17.48410111, 19.20602661, 19.76257856, 21.9560206 ,  7.75806171,\n",
              "       20.27753314, 15.93394654, 11.36336584, 23.14577858, 24.41167746,\n",
              "       16.08049839, 25.05473769, 17.71090111, 20.39893405, 13.40756632,\n",
              "       29.50692234,  4.04330326, 19.45128426, 24.17071763,  7.79920072,\n",
              "       18.86318441, 19.53668801, 24.94821803, 27.48927752, 17.57664638,\n",
              "       11.692888  , 28.20341254, 27.3073138 , 17.22796791, 22.10533096,\n",
              "       22.2911974 , 23.39765265, 21.22524787, 28.44017745,  9.57224297,\n",
              "       26.24494372, 22.28283182, 18.69718839, 27.04118899,  5.93838085])"
            ]
          },
          "metadata": {},
          "execution_count": 6
        }
      ]
    },
    {
      "cell_type": "markdown",
      "id": "3d06cbbf",
      "metadata": {
        "id": "3d06cbbf"
      },
      "source": [
        "Запустіть код нижче. Для коректної робити всіх подальших методів дані мають бути у вигляді одновимірного вектора, тобто мати розмір (100,)."
      ]
    },
    {
      "cell_type": "code",
      "execution_count": 7,
      "id": "cce1632b",
      "metadata": {
        "id": "cce1632b",
        "colab": {
          "base_uri": "https://localhost:8080/"
        },
        "outputId": "43985e4b-2665-4622-f396-29c559d8ee44"
      },
      "outputs": [
        {
          "output_type": "execute_result",
          "data": {
            "text/plain": [
              "(100,)"
            ]
          },
          "metadata": {},
          "execution_count": 7
        }
      ],
      "source": [
        "data.shape"
      ]
    },
    {
      "cell_type": "markdown",
      "id": "8dc4aa91",
      "metadata": {
        "ExecuteTime": {
          "end_time": "2022-12-10T09:23:15.841042Z",
          "start_time": "2022-12-10T09:23:15.820896Z"
        },
        "id": "8dc4aa91"
      },
      "source": [
        "## Перевірка вибірки на нормальність"
      ]
    },
    {
      "cell_type": "markdown",
      "id": "5bfe9273",
      "metadata": {
        "ExecuteTime": {
          "end_time": "2022-12-10T09:35:55.583520Z",
          "start_time": "2022-12-10T09:35:55.577220Z"
        },
        "id": "5bfe9273"
      },
      "source": [
        "1.**Візуалізація розподілу**\n",
        "\n",
        "Подивимось спершу на розподіл наших даних. Для цього побудуємо розподіл даних (графік на вигляд як гістограма, тільки він нормований так, аби сума під кривою була рівна 1), а на нього накладемо лінійний графік щільності (PDF - для побудови використовуємо `scipy.stats.norm.pdf(...)`) теоретичного нормального розподілу з середнім та стандартним відхиленням як у наших даних.\n",
        "\n",
        "Візуалізацію будуємо за аналогією прикладу, що наводився у лекції, коли ми будували кілька кривих щільності для одних і тих самих даних, тільки значно більш спрощено, бо розподіл для порівняння у нас лише один - нормальний.\n",
        "\n",
        "Побудуйте графік як наведено в очікуваному результаті та напишіть ваш висновок, чи схоже, що дані розподілені нормально?\n",
        "\n",
        "Підказка: весь графік будується за 6 рядків коду, три з яких - підписи осей і графіку. Аби побудувати лінійний графік функції щільності та він наклався на гістограму, необхідно задати значення іксів з діапазону значень наших даних. Ці значення вже задані для вас, залишилось дописати 5 рядочків коду :)"
      ]
    },
    {
      "cell_type": "markdown",
      "source": [
        "Теорія: **density=True** в методі **plt.hist **означає, що гістограма буде нормованою таким чином, щоб площа під гістограмою дорівнювала 1. Це зручно для порівняння з функцією щільності ймовірності **(PDF)**, оскільки PDF також має площу під кривою рівну 1.\n",
        "\n",
        "Без параметру **density=True** гістограма покаже частоту значень у кожному інтервалі (біні), а не ймовірність. Ось коротке пояснення параметру:\n",
        "\n",
        "**density=False** (за замовчуванням): гістограма відображає кількість значень у кожному інтервалі.\n",
        "**density=True:** гістограма нормується таким чином, що площа під гістограмою дорівнює 1.\n",
        "Таким чином, коли ви використовуєте density=True, гістограма представляє ймовірність попадання значень у кожний інтервал, що робить її придатною для порівняння з теоретичною кривою щільності ймовірності (PDF)."
      ],
      "metadata": {
        "id": "sCXASABuHOW1"
      },
      "id": "sCXASABuHOW1"
    },
    {
      "cell_type": "code",
      "source": [
        "# Обчислення середнього та стандартного відхилення\n",
        "mean = np.mean(data)\n",
        "std = np.std(data)\n",
        "\n",
        "print(mean, std)"
      ],
      "metadata": {
        "colab": {
          "base_uri": "https://localhost:8080/"
        },
        "id": "AuZjjaHeH4qy",
        "outputId": "caf4cbbd-4f17-4c3a-86f2-5707b7d19b14"
      },
      "id": "AuZjjaHeH4qy",
      "execution_count": 35,
      "outputs": [
        {
          "output_type": "stream",
          "name": "stdout",
          "text": [
            "19.37755319670441 6.222214863419309\n"
          ]
        }
      ]
    },
    {
      "cell_type": "code",
      "source": [
        "# Побудова гістограми, density=True задаємо нормальний розподіл, де площа буде = 1\n",
        "plt.hist(data, bins=10, density=True)\n",
        "# Побудова лінійного графіку щільності (PDF)\n",
        "x_axis = np.arange(data.min(), data.max(), 0.01)\n",
        "plt.plot(x_axis, norm.pdf(x_axis, mean, std), 'orange')\n",
        "# Підписи осей і графіку\n",
        "plt.xlabel('Data value')\n",
        "plt.ylabel('p(x)')\n",
        "plt.title('Distribution of the data')\n",
        "\n",
        "# Показати графік\n",
        "plt.show()"
      ],
      "metadata": {
        "colab": {
          "base_uri": "https://localhost:8080/",
          "height": 472
        },
        "id": "n39zDWtbBk_M",
        "outputId": "5510a912-418b-4f7c-efe3-c81d1ae182ee"
      },
      "id": "n39zDWtbBk_M",
      "execution_count": 53,
      "outputs": [
        {
          "output_type": "display_data",
          "data": {
            "text/plain": [
              "<Figure size 640x480 with 1 Axes>"
            ],
            "image/png": "[encoded data removed]"
          },
          "metadata": {}
        }
      ]
    },
    {
      "cell_type": "markdown",
      "source": [
        "Теорія: p(x) на графіку означає ймовірність функції щільності (probability density function, PDF) для значення\n",
        "𝑥\n",
        "x.\n",
        "\n",
        "У контексті гістограми та графіку PDF:\n",
        "\n",
        "Гістограма відображає розподіл даних.\n",
        "Лінія PDF показує теоретичну ймовірність для кожного значення\n",
        "𝑥\n",
        "x, виходячи з припущення, що дані розподілені нормально.\n",
        "Формально,\n",
        "𝑝\n",
        "(\n",
        "𝑥\n",
        ")\n",
        "p(x) визначає ймовірність того, що випадкова змінна\n",
        "𝑋\n",
        "X прийме значення в межах нескінченно малих інтервалів навколо\n",
        "𝑥\n",
        "x. Площа під кривою\n",
        "𝑝\n",
        "(\n",
        "𝑥\n",
        ")\n",
        "p(x) на інтервалі\n",
        "[\n",
        "𝑎\n",
        ",\n",
        "𝑏\n",
        "]\n",
        "[a,b] дорівнює ймовірності того, що\n",
        "𝑋\n",
        "X прийме значення в цьому інтервалі."
      ],
      "metadata": {
        "id": "6w7-KTpwJXHj"
      },
      "id": "6w7-KTpwJXHj"
    },
    {
      "cell_type": "code",
      "source": [
        "alpha = 0.05\n",
        "mean = np.mean(data)"
      ],
      "metadata": {
        "id": "XJa4OQJ2Ta85"
      },
      "id": "XJa4OQJ2Ta85",
      "execution_count": 44,
      "outputs": []
    },
    {
      "cell_type": "code",
      "source": [
        "ztest_Score, p_value = ztest(data, value = mean, alternative='larger')\n",
        "\n",
        "ztest_Score, p_value"
      ],
      "metadata": {
        "colab": {
          "base_uri": "https://localhost:8080/"
        },
        "id": "NnRQ4_BuTGsc",
        "outputId": "8514a23a-b762-440c-bca6-354d79e29df9"
      },
      "id": "NnRQ4_BuTGsc",
      "execution_count": 45,
      "outputs": [
        {
          "output_type": "execute_result",
          "data": {
            "text/plain": [
              "(0.0, 0.5)"
            ]
          },
          "metadata": {},
          "execution_count": 45
        }
      ]
    },
    {
      "cell_type": "code",
      "source": [
        "#Висновок:\n",
        "if(p_value <  alpha):\n",
        "    print(\"Відхилити Н0, дані не мають нормальний розподіл.\")\n",
        "else:\n",
        "    print(\"Н0 не може бути відхилена, дані мають нормальний розподіл.\")"
      ],
      "metadata": {
        "colab": {
          "base_uri": "https://localhost:8080/"
        },
        "id": "VorrcnibT3gE",
        "outputId": "1ad02e79-4281-4ef7-81e3-f2195d9b8c39"
      },
      "id": "VorrcnibT3gE",
      "execution_count": 47,
      "outputs": [
        {
          "output_type": "stream",
          "name": "stdout",
          "text": [
            "Н0 не може бути відхилена, дані мають нормальний розподіл.\n"
          ]
        }
      ]
    },
    {
      "cell_type": "markdown",
      "id": "992eeef4",
      "metadata": {
        "id": "992eeef4"
      },
      "source": [
        "Очікуваний результат:"
      ]
    },
    {
      "cell_type": "markdown",
      "id": "95870720",
      "metadata": {
        "id": "95870720"
      },
      "source": [
        "![](https://drive.google.com/uc?export=view&id=1SB_HOIgwfZXrtglBBlDfMYjg2eGGBSIX)\n"
      ]
    },
    {
      "cell_type": "markdown",
      "id": "646b2f36",
      "metadata": {
        "id": "646b2f36"
      },
      "source": [
        "2.**QQ графік**\n",
        "\n",
        "Ще одним візуалізаційним методом перевірки розподілу вибірки даних на нормальність є графік квантиль-квантиль, Q-Q графік або QQ графік. У лекції ми розбирали, що це за графік, та як його інтерпретувати.\n",
        "\n",
        "Побудуйте QQ-Plot для порівняння з нормальним розподілом наших даних та напишіть висновок з графіку, чи можна сказати, що дані розподілені за нормальним законом?"
      ]
    },
    {
      "cell_type": "code",
      "source": [
        "from scipy.stats import probplot\n",
        "import matplotlib.pyplot as plt\n",
        "\n",
        "probplot(data, dist=\"norm\", plot=plt)\n",
        "plt.title(\"QQ-графік для перевірки нормальності розподілу\")\n",
        "plt.show()"
      ],
      "metadata": {
        "id": "7TL_nnheiQiJ",
        "colab": {
          "base_uri": "https://localhost:8080/",
          "height": 472
        },
        "outputId": "a73f8152-329a-49b1-b023-68b2b0ef850a"
      },
      "id": "7TL_nnheiQiJ",
      "execution_count": 52,
      "outputs": [
        {
          "output_type": "display_data",
          "data": {
            "text/plain": [
              "<Figure size 640x480 with 1 Axes>"
            ],
            "image/png": "[encoded data removed]"
          },
          "metadata": {}
        }
      ]
    },
    {
      "cell_type": "markdown",
      "source": [
        "Теорія: Параметр **dist=\"norm\"** у функції probplot з пакету scipy.stats означає, що для побудови QQ-графіка (графіка квантиль-квантиль) використовується нормальний розподіл. QQ-графік використовується для перевірки, чи розподіл даних відповідає певному теоретичному розподілу, у даному випадку нормальному розподілу.\n",
        "\n",
        "Ось як це працює:\n",
        "\n",
        "Квантилі вибірки: Квантилі вашої вибірки розраховуються і порівнюються з квантилями теоретичного розподілу (нормального розподілу, якщо dist=\"norm\").\n",
        "\n",
        "Теоретичні квантилі: Теоретичні квантилі розраховуються з використанням нормального розподілу.\n",
        "\n",
        "Побудова графіка: Квантилі вибірки відображаються проти теоретичних квантилів. Якщо дані нормально розподілені, точки на графіку будуть лежати приблизно на прямій лінії."
      ],
      "metadata": {
        "id": "JGRbWPnvaRKO"
      },
      "id": "JGRbWPnvaRKO"
    },
    {
      "cell_type": "markdown",
      "id": "f66877d4",
      "metadata": {
        "id": "f66877d4"
      },
      "source": [
        "Очікуваний результат:"
      ]
    },
    {
      "cell_type": "markdown",
      "id": "2e71bead",
      "metadata": {
        "id": "2e71bead"
      },
      "source": [
        "![](https://drive.google.com/uc?export=view&id=1-eDd16OVgqEjzFUBjJJzSMcwSrzNNm_V)"
      ]
    },
    {
      "cell_type": "markdown",
      "id": "789a19c2",
      "metadata": {
        "id": "789a19c2"
      },
      "source": [
        "3.**Тест Шапіро-Вілка**\n",
        "\n",
        "Тест Шапіро-Вілка визначає для вибірки, наскільки ймовірно, що вона була витягнута з нормального розподілу.\n",
        "Нульова гіпотеза H0 тесту Шапіро-Вилка полягає в тому, що випадкова величина, вибірка якої відома, розподілена за нормальним законом. Альтернативна гіпотеза H1 полягає в тому, що закон розподілу **не** є нормальним.\n",
        "\n",
        "**Задача**: протестувати нашу вибірку на нормальність з допомогою теcта Шапіро-Вілка, реалізованого в функцію [scipy.stats.shapiro](https://docs.scipy.org/doc/scipy/reference/generated/scipy.stats.shapiro.html). Висновок зробіть на основі аналізу p-значення. На рівні значущості = 0.05 чи можемо ми відхилити гіпотезу Н0? Відповідь можна надати текстом, або написати простий if-else блок для виведення висновку спираючись на отримане p-значення. Нагадування:\n",
        "- p <= alpha: відхиляємо H0.\n",
        "- p > alpha: не можемо відхилити H0.\n",
        "\n",
        "Також пропоную вам переглянути оце [відео](https://youtu.be/eh9eYLBecWk), тут розказується про QQ графік, тест Шапіро, та звʼязок між ними.\n"
      ]
    },
    {
      "cell_type": "code",
      "source": [
        "from scipy.stats import shapiro, normaltest"
      ],
      "metadata": {
        "id": "6ACtiMtQiR2S"
      },
      "id": "6ACtiMtQiR2S",
      "execution_count": 49,
      "outputs": []
    },
    {
      "cell_type": "code",
      "source": [
        "# Тест Шапіро-Вілка\n",
        "stat, p_value_shapiro = shapiro(data)\n",
        "print(\"Тест Шапіро-Вілка:\")\n",
        "print(\"Статистика тесту:\", stat)\n",
        "print(\"P-значення:\", p_value_shapiro)"
      ],
      "metadata": {
        "colab": {
          "base_uri": "https://localhost:8080/"
        },
        "id": "lK_M4lwWVGua",
        "outputId": "2dec0d3e-176f-4d4a-a64c-a995ad540d44"
      },
      "id": "lK_M4lwWVGua",
      "execution_count": 50,
      "outputs": [
        {
          "output_type": "stream",
          "name": "stdout",
          "text": [
            "Тест Шапіро-Вілка:\n",
            "Статистика тесту: 0.9887855685963715\n",
            "P-значення: 0.5677973106978921\n"
          ]
        }
      ]
    },
    {
      "cell_type": "code",
      "source": [
        "# Інтерпретація результатів\n",
        "if p_value_shapiro > 0.05:\n",
        "    print(\"\\nЗа результатами тесту Шапіро-Вілка дані мають нормальний розподіл (не відхиляємо H0).\")\n",
        "else:\n",
        "    print(\"\\nЗа результатами тесту Шапіро-Вілка дані не мають нормального розподілу (відхиляємо H0).\")"
      ],
      "metadata": {
        "colab": {
          "base_uri": "https://localhost:8080/"
        },
        "id": "YGqdOAxYVREJ",
        "outputId": "b88c35e6-f05d-4a66-8ccd-89017cd881c9"
      },
      "id": "YGqdOAxYVREJ",
      "execution_count": 51,
      "outputs": [
        {
          "output_type": "stream",
          "name": "stdout",
          "text": [
            "\n",
            "За результатами тесту Шапіро-Вілка дані мають нормальний розподіл (не відхиляємо H0).\n"
          ]
        }
      ]
    }
  ],
  "metadata": {
    "hide_input": false,
    "kernelspec": {
      "display_name": "Python 3 (ipykernel)",
      "language": "python",
      "name": "python3"
    },
    "language_info": {
      "codemirror_mode": {
        "name": "ipython",
        "version": 3
      },
      "file_extension": ".py",
      "mimetype": "text/x-python",
      "name": "python",
      "nbconvert_exporter": "python",
      "pygments_lexer": "ipython3",
      "version": "3.11.3"
    },
    "toc": {
      "base_numbering": 1,
      "nav_menu": {},
      "number_sections": true,
      "sideBar": true,
      "skip_h1_title": false,
      "title_cell": "Table of Contents",
      "title_sidebar": "Contents",
      "toc_cell": false,
      "toc_position": {},
      "toc_section_display": true,
      "toc_window_display": false
    },
    "varInspector": {
      "cols": {
        "lenName": 16,
        "lenType": 16,
        "lenVar": 40
      },
      "kernels_config": {
        "python": {
          "delete_cmd_postfix": "",
          "delete_cmd_prefix": "del ",
          "library": "var_list.py",
          "varRefreshCmd": "print(var_dic_list())"
        },
        "r": {
          "delete_cmd_postfix": ") ",
          "delete_cmd_prefix": "rm(",
          "library": "var_list.r",
          "varRefreshCmd": "cat(var_dic_list()) "
        }
      },
      "types_to_exclude": [
        "module",
        "function",
        "builtin_function_or_method",
        "instance",
        "_Feature"
      ],
      "window_display": false
    },
    "colab": {
      "provenance": [],
      "include_colab_link": true
    }
  },
  "nbformat": 4,
  "nbformat_minor": 5
}