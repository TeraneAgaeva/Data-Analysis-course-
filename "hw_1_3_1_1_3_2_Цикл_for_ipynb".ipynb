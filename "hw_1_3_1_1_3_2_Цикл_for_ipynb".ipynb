{
  "nbformat": 4,
  "nbformat_minor": 0,
  "metadata": {
    "colab": {
      "provenance": [],
      "include_colab_link": true
    },
    "kernelspec": {
      "name": "python3",
      "display_name": "Python 3"
    },
    "language_info": {
      "name": "python"
    }
  },
  "cells": [
    {
      "cell_type": "markdown",
      "metadata": {
        "id": "view-in-github",
        "colab_type": "text"
      },
      "source": [
        "<a href=\"https://colab.research.google.com/github/TeraneAgaeva/Data-Analysis-course-/blob/main/%22hw_1_3_1_1_3_2_%D0%A6%D0%B8%D0%BA%D0%BB_for_ipynb%22.ipynb\" target=\"_parent\"><img src=\"https://colab.research.google.com/assets/colab-badge.svg\" alt=\"Open In Colab\"/></a>"
      ]
    },
    {
      "cell_type": "markdown",
      "source": [
        "#Домашнє завдання до теми \"Цикл for\""
      ],
      "metadata": {
        "id": "W8lqt6zd9axA"
      }
    },
    {
      "cell_type": "markdown",
      "source": [
        "0. Розігрів. Напишіть цикл, який виводить на екран числа від 1 до 10 включно."
      ],
      "metadata": {
        "id": "iXzoNTu604kH"
      }
    },
    {
      "cell_type": "code",
      "execution_count": null,
      "metadata": {
        "id": "zpwypSSp0MVm",
        "colab": {
          "base_uri": "https://localhost:8080/"
        },
        "outputId": "961f682a-5d8a-4197-b3fc-77bd2fea0247"
      },
      "outputs": [
        {
          "output_type": "stream",
          "name": "stdout",
          "text": [
            "1\n",
            "2\n",
            "3\n",
            "4\n",
            "5\n",
            "6\n",
            "7\n",
            "8\n",
            "9\n",
            "10\n"
          ]
        }
      ],
      "source": [
        "for i in range(1, 11):\n",
        "  print(i)\n"
      ]
    },
    {
      "cell_type": "markdown",
      "source": [
        "**Початок покладено!**"
      ],
      "metadata": {
        "id": "JmWR8uze094H"
      }
    },
    {
      "cell_type": "markdown",
      "source": [
        "1. Задайте список `numbers`, який містить значення від 0 до 9 включно. Використовуючи цикл `for`, обчисліть суму елементів в створеному списку та виведіть фінальну суму на екран."
      ],
      "metadata": {
        "id": "OJX3yG-Blplu"
      }
    },
    {
      "cell_type": "code",
      "source": [
        "numbers = list(range(0, 10))\n",
        "#варіант без циклу\n",
        "print(sum(numbers))"
      ],
      "metadata": {
        "id": "sSX30A5yuvUQ",
        "colab": {
          "base_uri": "https://localhost:8080/"
        },
        "outputId": "c6c9fcb9-b56b-46e3-8300-481c360c82f2"
      },
      "execution_count": 58,
      "outputs": [
        {
          "output_type": "stream",
          "name": "stdout",
          "text": [
            "45\n"
          ]
        }
      ]
    },
    {
      "cell_type": "code",
      "source": [
        "#вар 2, але не можу зрозуміти чого дубль. закоментувала скрипт, що видавав помилку\n",
        "numbers = list(range(0, 10))\n",
        "\n",
        "for i in numbers:\n",
        "  sum_n = sum(numbers)\n",
        "  print(sum_n)\n",
        "    #unique_list = list(set(sum_n))\n",
        "    #print(unique_list)\n",
        "    #unique_list = list(counter(sum_n))\n",
        "    #print(unique_list)"
      ],
      "metadata": {
        "colab": {
          "base_uri": "https://localhost:8080/"
        },
        "id": "nngitl17DTNJ",
        "outputId": "0502a007-ce2d-40f7-909f-188f578cd6f1"
      },
      "execution_count": 124,
      "outputs": [
        {
          "output_type": "stream",
          "name": "stdout",
          "text": [
            "45\n",
            "45\n",
            "45\n",
            "45\n",
            "45\n",
            "45\n",
            "45\n",
            "45\n",
            "45\n",
            "45\n"
          ]
        }
      ]
    },
    {
      "cell_type": "markdown",
      "source": [
        "2. Використовуючи цикл  `for` виведіть для кожного елементу списку `numbers`,який ми створили в завданні 1, чи цей елемент дорівнює 5. Тобто після виконання циклу на екрані має бути 10 bool значень."
      ],
      "metadata": {
        "id": "6Tb2Kx_jmD5b"
      }
    },
    {
      "cell_type": "code",
      "source": [
        "for i in numbers:\n",
        "  if i == 5:\n",
        "    print(True)\n",
        "  else:\n",
        "    print(False)"
      ],
      "metadata": {
        "id": "Ls8ZW8DWuwHC",
        "colab": {
          "base_uri": "https://localhost:8080/"
        },
        "outputId": "cf8230de-e911-46aa-be10-02819e3ba1dc"
      },
      "execution_count": null,
      "outputs": [
        {
          "output_type": "stream",
          "name": "stdout",
          "text": [
            "False\n",
            "False\n",
            "False\n",
            "False\n",
            "False\n",
            "True\n",
            "False\n",
            "False\n",
            "False\n",
            "False\n"
          ]
        }
      ]
    },
    {
      "cell_type": "markdown",
      "source": [
        "3. Використовуючи цикл  `for` для кожного елементу списку `numbers`, який ми створили в завданні 1, виявіть, чи цей елемент ділиться на 2 без остачі, та запишіть результат у новий список `numbers_divisible_by_2`.\n",
        "\n",
        "Увага! Виконання завдання відрізняється від попереднього тим, що тепер ми результат обчислення на кожній ітерації записуємо у новий список. До того ж ми тут виконуємо іншу математичну операцію.\n",
        "\n",
        "Виведіть фільнальний список `numbers_divisible_by_2` на екран."
      ],
      "metadata": {
        "id": "ddFE1naOmp7Q"
      }
    },
    {
      "cell_type": "code",
      "source": [
        "numbers = list(range(0, 10))\n",
        "print(numbers)"
      ],
      "metadata": {
        "colab": {
          "base_uri": "https://localhost:8080/"
        },
        "id": "KUfkLrUiwP2a",
        "outputId": "61337bdd-964a-4d34-957d-0021a2513202"
      },
      "execution_count": 61,
      "outputs": [
        {
          "output_type": "stream",
          "name": "stdout",
          "text": [
            "[0, 1, 2, 3, 4, 5, 6, 7, 8, 9]\n"
          ]
        }
      ]
    },
    {
      "cell_type": "code",
      "source": [],
      "metadata": {
        "id": "e_gDAciPbOfR"
      },
      "execution_count": null,
      "outputs": []
    },
    {
      "cell_type": "code",
      "source": [
        "  #варіант 2. Не можу зрозуміти чому не виводить списком?\n",
        "  for i in range(0, 10):\n",
        "    numbers_divisible_by_2 = []\n",
        "    if (i % 2) == 0:\n",
        "      numbers_divisible_by_2.append(True)\n",
        "      #print(numbers_divisible_by_2)\n",
        "    else:\n",
        "      numbers_divisible_by_2.append(False)\n",
        "      #print(numbers_divisible_by_2)\n",
        "    print(list(numbers_divisible_by_2))\n",
        "\n",
        ""
      ],
      "metadata": {
        "id": "S2Pk_W12uyDo",
        "colab": {
          "base_uri": "https://localhost:8080/"
        },
        "outputId": "6973df1e-b251-4183-c4e2-0aaec72b02de"
      },
      "execution_count": 120,
      "outputs": [
        {
          "output_type": "stream",
          "name": "stdout",
          "text": [
            "[True]\n",
            "[False]\n",
            "[True]\n",
            "[False]\n",
            "[True]\n",
            "[False]\n",
            "[True]\n",
            "[False]\n",
            "[True]\n",
            "[False]\n"
          ]
        }
      ]
    },
    {
      "cell_type": "markdown",
      "source": [
        "Очікуваний результат: `[True, False, True, False, True, False, True, False, True, False]`"
      ],
      "metadata": {
        "id": "cwvpWeVGnUGB"
      }
    },
    {
      "cell_type": "markdown",
      "source": [
        "4. Задано два списки в клітинці нижче - `a` і `b`. Створіть цикл, результатом якого буде список `result`, що містить елементи типу bool і який фактично каже,\n",
        "\"чи на цьому індексі елементи наших двох списків співпадають\". Приклад:\n",
        "```\n",
        "a = [1, 2, 3, 6]\n",
        "b = [1, 7, 3, 6]\n",
        "# ми виконали поелементне порівняння двох списків і отримали новий список result\n",
        "# result містить наступний результат -> [True, False, True, True]\n",
        "```\n",
        "В кінці виведіть вміст result на екран.\n",
        "\n",
        "<details>\n",
        "<summary>Підказка</summary>\n",
        "\n",
        "Аби порівняти елементи в циклі - треба створити цикл по індексам елементів. Зважаючи, що наші списки - одної довжини, цей підхід дозволить нам отримати чітко те, що треба.\n",
        "\n",
        "**Просунутий варіант.** Альтернативно можна створити цикл, який на кожній ітерації має доступ до двох елементів - по одному з кожного списка, для цього треба скористатись функцією `zip` - приклад [тут](https://realpython.com/python-zip-function/#traversing-lists-in-parallel)\n",
        "</details>\n"
      ],
      "metadata": {
        "id": "0rgeGpJ3utVN"
      }
    },
    {
      "cell_type": "code",
      "source": [
        "a = [64, 93, 60, 95, 66, 9, 15, 55, 77, 28, 74, 100, 13, 1, 85, 48, 66, 65, 59, 32]\n",
        "b = [64, 93, 60, 95, 66, 9, 15, 56, 77, 28, 74, 100, 13, 1, 85, 48, 67, 65, 59, 32]"
      ],
      "metadata": {
        "id": "IIYG41pWdJiG"
      },
      "execution_count": 94,
      "outputs": []
    },
    {
      "cell_type": "code",
      "source": [
        "#Варіант 1\n",
        "result = []\n",
        "for i in range(min(len(a), len(b))):\n",
        "    result.append(a[i] == b[i])\n",
        "\n",
        "print(f'result містить наступний результат -> {list(result)}')\n"
      ],
      "metadata": {
        "colab": {
          "base_uri": "https://localhost:8080/"
        },
        "id": "sdx9rxHXboUZ",
        "outputId": "c91e0b3d-99aa-43be-a97f-d68bbaedc351"
      },
      "execution_count": 111,
      "outputs": [
        {
          "output_type": "stream",
          "name": "stdout",
          "text": [
            "result містить наступний результат -> [True, True, True, True, True, True, True, False, True, True, True, True, True, True, True, True, False, True, True, True]\n"
          ]
        }
      ]
    },
    {
      "cell_type": "code",
      "source": [
        "#Варіант 2\n",
        "result = [x == y for x, y in zip(a, b)]\n",
        "print(f'result містить наступний результат -> {list(result)}')"
      ],
      "metadata": {
        "colab": {
          "base_uri": "https://localhost:8080/"
        },
        "id": "_J86HhEHg08K",
        "outputId": "39d6cd0f-bbb3-4a3b-f85a-e0339ae18b3d"
      },
      "execution_count": 126,
      "outputs": [
        {
          "output_type": "stream",
          "name": "stdout",
          "text": [
            "result містить наступний результат -> [True, True, True, True, True, True, True, False, True, True, True, True, True, True, True, True, False, True, True, True]\n"
          ]
        }
      ]
    },
    {
      "cell_type": "code",
      "source": [
        "#Варіант 3 . Не можу зрозуміти, чому не виводить списком? Буду вдячна за підказку\n",
        "for a1 in a:\n",
        "  for b1 in b:\n",
        "    result = []\n",
        "    if a1 == b1:\n",
        "      result.append(True)\n",
        "    #print(result)\n",
        "      #print(f'result містить наступний результат -> {result}')\n",
        "    else:\n",
        "      result.append(False)\n",
        "    print(f'result містить наступний результат -> {list(result)}')\n",
        "\n",
        ""
      ],
      "metadata": {
        "id": "XgZwTwr4u2lA",
        "colab": {
          "base_uri": "https://localhost:8080/"
        },
        "outputId": "e7ed11fe-9ac5-4db5-cabd-04c80ac2fde4"
      },
      "execution_count": 109,
      "outputs": [
        {
          "output_type": "stream",
          "name": "stdout",
          "text": [
            "result містить наступний результат -> [True]\n",
            "result містить наступний результат -> [False]\n",
            "result містить наступний результат -> [False]\n",
            "result містить наступний результат -> [False]\n",
            "result містить наступний результат -> [False]\n",
            "result містить наступний результат -> [False]\n",
            "result містить наступний результат -> [False]\n",
            "result містить наступний результат -> [False]\n",
            "result містить наступний результат -> [False]\n",
            "result містить наступний результат -> [False]\n",
            "result містить наступний результат -> [False]\n",
            "result містить наступний результат -> [False]\n",
            "result містить наступний результат -> [False]\n",
            "result містить наступний результат -> [False]\n",
            "result містить наступний результат -> [False]\n",
            "result містить наступний результат -> [False]\n",
            "result містить наступний результат -> [False]\n",
            "result містить наступний результат -> [False]\n",
            "result містить наступний результат -> [False]\n",
            "result містить наступний результат -> [False]\n",
            "result містить наступний результат -> [False]\n",
            "result містить наступний результат -> [True]\n",
            "result містить наступний результат -> [False]\n",
            "result містить наступний результат -> [False]\n",
            "result містить наступний результат -> [False]\n",
            "result містить наступний результат -> [False]\n",
            "result містить наступний результат -> [False]\n",
            "result містить наступний результат -> [False]\n",
            "result містить наступний результат -> [False]\n",
            "result містить наступний результат -> [False]\n",
            "result містить наступний результат -> [False]\n",
            "result містить наступний результат -> [False]\n",
            "result містить наступний результат -> [False]\n",
            "result містить наступний результат -> [False]\n",
            "result містить наступний результат -> [False]\n",
            "result містить наступний результат -> [False]\n",
            "result містить наступний результат -> [False]\n",
            "result містить наступний результат -> [False]\n",
            "result містить наступний результат -> [False]\n",
            "result містить наступний результат -> [False]\n",
            "result містить наступний результат -> [False]\n",
            "result містить наступний результат -> [False]\n",
            "result містить наступний результат -> [True]\n",
            "result містить наступний результат -> [False]\n",
            "result містить наступний результат -> [False]\n",
            "result містить наступний результат -> [False]\n",
            "result містить наступний результат -> [False]\n",
            "result містить наступний результат -> [False]\n",
            "result містить наступний результат -> [False]\n",
            "result містить наступний результат -> [False]\n",
            "result містить наступний результат -> [False]\n",
            "result містить наступний результат -> [False]\n",
            "result містить наступний результат -> [False]\n",
            "result містить наступний результат -> [False]\n",
            "result містить наступний результат -> [False]\n",
            "result містить наступний результат -> [False]\n",
            "result містить наступний результат -> [False]\n",
            "result містить наступний результат -> [False]\n",
            "result містить наступний результат -> [False]\n",
            "result містить наступний результат -> [False]\n",
            "result містить наступний результат -> [False]\n",
            "result містить наступний результат -> [False]\n",
            "result містить наступний результат -> [False]\n",
            "result містить наступний результат -> [True]\n",
            "result містить наступний результат -> [False]\n",
            "result містить наступний результат -> [False]\n",
            "result містить наступний результат -> [False]\n",
            "result містить наступний результат -> [False]\n",
            "result містить наступний результат -> [False]\n",
            "result містить наступний результат -> [False]\n",
            "result містить наступний результат -> [False]\n",
            "result містить наступний результат -> [False]\n",
            "result містить наступний результат -> [False]\n",
            "result містить наступний результат -> [False]\n",
            "result містить наступний результат -> [False]\n",
            "result містить наступний результат -> [False]\n",
            "result містить наступний результат -> [False]\n",
            "result містить наступний результат -> [False]\n",
            "result містить наступний результат -> [False]\n",
            "result містить наступний результат -> [False]\n",
            "result містить наступний результат -> [False]\n",
            "result містить наступний результат -> [False]\n",
            "result містить наступний результат -> [False]\n",
            "result містить наступний результат -> [False]\n",
            "result містить наступний результат -> [True]\n",
            "result містить наступний результат -> [False]\n",
            "result містить наступний результат -> [False]\n",
            "result містить наступний результат -> [False]\n",
            "result містить наступний результат -> [False]\n",
            "result містить наступний результат -> [False]\n",
            "result містить наступний результат -> [False]\n",
            "result містить наступний результат -> [False]\n",
            "result містить наступний результат -> [False]\n",
            "result містить наступний результат -> [False]\n",
            "result містить наступний результат -> [False]\n",
            "result містить наступний результат -> [False]\n",
            "result містить наступний результат -> [False]\n",
            "result містить наступний результат -> [False]\n",
            "result містить наступний результат -> [False]\n",
            "result містить наступний результат -> [False]\n",
            "result містить наступний результат -> [False]\n",
            "result містить наступний результат -> [False]\n",
            "result містить наступний результат -> [False]\n",
            "result містить наступний результат -> [False]\n",
            "result містить наступний результат -> [False]\n",
            "result містить наступний результат -> [True]\n",
            "result містить наступний результат -> [False]\n",
            "result містить наступний результат -> [False]\n",
            "result містить наступний результат -> [False]\n",
            "result містить наступний результат -> [False]\n",
            "result містить наступний результат -> [False]\n",
            "result містить наступний результат -> [False]\n",
            "result містить наступний результат -> [False]\n",
            "result містить наступний результат -> [False]\n",
            "result містить наступний результат -> [False]\n",
            "result містить наступний результат -> [False]\n",
            "result містить наступний результат -> [False]\n",
            "result містить наступний результат -> [False]\n",
            "result містить наступний результат -> [False]\n",
            "result містить наступний результат -> [False]\n",
            "result містить наступний результат -> [False]\n",
            "result містить наступний результат -> [False]\n",
            "result містить наступний результат -> [False]\n",
            "result містить наступний результат -> [False]\n",
            "result містить наступний результат -> [False]\n",
            "result містить наступний результат -> [False]\n",
            "result містить наступний результат -> [True]\n",
            "result містить наступний результат -> [False]\n",
            "result містить наступний результат -> [False]\n",
            "result містить наступний результат -> [False]\n",
            "result містить наступний результат -> [False]\n",
            "result містить наступний результат -> [False]\n",
            "result містить наступний результат -> [False]\n",
            "result містить наступний результат -> [False]\n",
            "result містить наступний результат -> [False]\n",
            "result містить наступний результат -> [False]\n",
            "result містить наступний результат -> [False]\n",
            "result містить наступний результат -> [False]\n",
            "result містить наступний результат -> [False]\n",
            "result містить наступний результат -> [False]\n",
            "result містить наступний результат -> [False]\n",
            "result містить наступний результат -> [False]\n",
            "result містить наступний результат -> [False]\n",
            "result містить наступний результат -> [False]\n",
            "result містить наступний результат -> [False]\n",
            "result містить наступний результат -> [False]\n",
            "result містить наступний результат -> [False]\n",
            "result містить наступний результат -> [False]\n",
            "result містить наступний результат -> [False]\n",
            "result містить наступний результат -> [False]\n",
            "result містить наступний результат -> [False]\n",
            "result містить наступний результат -> [False]\n",
            "result містить наступний результат -> [False]\n",
            "result містить наступний результат -> [False]\n",
            "result містить наступний результат -> [False]\n",
            "result містить наступний результат -> [False]\n",
            "result містить наступний результат -> [False]\n",
            "result містить наступний результат -> [False]\n",
            "result містить наступний результат -> [False]\n",
            "result містить наступний результат -> [False]\n",
            "result містить наступний результат -> [False]\n",
            "result містить наступний результат -> [False]\n",
            "result містить наступний результат -> [False]\n",
            "result містить наступний результат -> [False]\n",
            "result містить наступний результат -> [False]\n",
            "result містить наступний результат -> [False]\n",
            "result містить наступний результат -> [False]\n",
            "result містить наступний результат -> [False]\n",
            "result містить наступний результат -> [True]\n",
            "result містить наступний результат -> [False]\n",
            "result містить наступний результат -> [False]\n",
            "result містить наступний результат -> [False]\n",
            "result містить наступний результат -> [False]\n",
            "result містить наступний результат -> [False]\n",
            "result містить наступний результат -> [False]\n",
            "result містить наступний результат -> [False]\n",
            "result містить наступний результат -> [False]\n",
            "result містить наступний результат -> [False]\n",
            "result містить наступний результат -> [False]\n",
            "result містить наступний результат -> [False]\n",
            "result містить наступний результат -> [False]\n",
            "result містить наступний результат -> [False]\n",
            "result містить наступний результат -> [False]\n",
            "result містить наступний результат -> [False]\n",
            "result містить наступний результат -> [False]\n",
            "result містить наступний результат -> [False]\n",
            "result містить наступний результат -> [False]\n",
            "result містить наступний результат -> [False]\n",
            "result містить наступний результат -> [False]\n",
            "result містить наступний результат -> [True]\n",
            "result містить наступний результат -> [False]\n",
            "result містить наступний результат -> [False]\n",
            "result містить наступний результат -> [False]\n",
            "result містить наступний результат -> [False]\n",
            "result містить наступний результат -> [False]\n",
            "result містить наступний результат -> [False]\n",
            "result містить наступний результат -> [False]\n",
            "result містить наступний результат -> [False]\n",
            "result містить наступний результат -> [False]\n",
            "result містить наступний результат -> [False]\n",
            "result містить наступний результат -> [False]\n",
            "result містить наступний результат -> [False]\n",
            "result містить наступний результат -> [False]\n",
            "result містить наступний результат -> [False]\n",
            "result містить наступний результат -> [False]\n",
            "result містить наступний результат -> [False]\n",
            "result містить наступний результат -> [False]\n",
            "result містить наступний результат -> [False]\n",
            "result містить наступний результат -> [False]\n",
            "result містить наступний результат -> [False]\n",
            "result містить наступний результат -> [True]\n",
            "result містить наступний результат -> [False]\n",
            "result містить наступний результат -> [False]\n",
            "result містить наступний результат -> [False]\n",
            "result містить наступний результат -> [False]\n",
            "result містить наступний результат -> [False]\n",
            "result містить наступний результат -> [False]\n",
            "result містить наступний результат -> [False]\n",
            "result містить наступний результат -> [False]\n",
            "result містить наступний результат -> [False]\n",
            "result містить наступний результат -> [False]\n",
            "result містить наступний результат -> [False]\n",
            "result містить наступний результат -> [False]\n",
            "result містить наступний результат -> [False]\n",
            "result містить наступний результат -> [False]\n",
            "result містить наступний результат -> [False]\n",
            "result містить наступний результат -> [False]\n",
            "result містить наступний результат -> [False]\n",
            "result містить наступний результат -> [False]\n",
            "result містить наступний результат -> [False]\n",
            "result містить наступний результат -> [False]\n",
            "result містить наступний результат -> [True]\n",
            "result містить наступний результат -> [False]\n",
            "result містить наступний результат -> [False]\n",
            "result містить наступний результат -> [False]\n",
            "result містить наступний результат -> [False]\n",
            "result містить наступний результат -> [False]\n",
            "result містить наступний результат -> [False]\n",
            "result містить наступний результат -> [False]\n",
            "result містить наступний результат -> [False]\n",
            "result містить наступний результат -> [False]\n",
            "result містить наступний результат -> [False]\n",
            "result містить наступний результат -> [False]\n",
            "result містить наступний результат -> [False]\n",
            "result містить наступний результат -> [False]\n",
            "result містить наступний результат -> [False]\n",
            "result містить наступний результат -> [False]\n",
            "result містить наступний результат -> [False]\n",
            "result містить наступний результат -> [False]\n",
            "result містить наступний результат -> [False]\n",
            "result містить наступний результат -> [False]\n",
            "result містить наступний результат -> [False]\n",
            "result містить наступний результат -> [True]\n",
            "result містить наступний результат -> [False]\n",
            "result містить наступний результат -> [False]\n",
            "result містить наступний результат -> [False]\n",
            "result містить наступний результат -> [False]\n",
            "result містить наступний результат -> [False]\n",
            "result містить наступний результат -> [False]\n",
            "result містить наступний результат -> [False]\n",
            "result містить наступний результат -> [False]\n",
            "result містить наступний результат -> [False]\n",
            "result містить наступний результат -> [False]\n",
            "result містить наступний результат -> [False]\n",
            "result містить наступний результат -> [False]\n",
            "result містить наступний результат -> [False]\n",
            "result містить наступний результат -> [False]\n",
            "result містить наступний результат -> [False]\n",
            "result містить наступний результат -> [False]\n",
            "result містить наступний результат -> [False]\n",
            "result містить наступний результат -> [False]\n",
            "result містить наступний результат -> [False]\n",
            "result містить наступний результат -> [False]\n",
            "result містить наступний результат -> [True]\n",
            "result містить наступний результат -> [False]\n",
            "result містить наступний результат -> [False]\n",
            "result містить наступний результат -> [False]\n",
            "result містить наступний результат -> [False]\n",
            "result містить наступний результат -> [False]\n",
            "result містить наступний результат -> [False]\n",
            "result містить наступний результат -> [False]\n",
            "result містить наступний результат -> [False]\n",
            "result містить наступний результат -> [False]\n",
            "result містить наступний результат -> [False]\n",
            "result містить наступний результат -> [False]\n",
            "result містить наступний результат -> [False]\n",
            "result містить наступний результат -> [False]\n",
            "result містить наступний результат -> [False]\n",
            "result містить наступний результат -> [False]\n",
            "result містить наступний результат -> [False]\n",
            "result містить наступний результат -> [False]\n",
            "result містить наступний результат -> [False]\n",
            "result містить наступний результат -> [False]\n",
            "result містить наступний результат -> [False]\n",
            "result містить наступний результат -> [True]\n",
            "result містить наступний результат -> [False]\n",
            "result містить наступний результат -> [False]\n",
            "result містить наступний результат -> [False]\n",
            "result містить наступний результат -> [False]\n",
            "result містить наступний результат -> [False]\n",
            "result містить наступний результат -> [False]\n",
            "result містить наступний результат -> [False]\n",
            "result містить наступний результат -> [False]\n",
            "result містить наступний результат -> [False]\n",
            "result містить наступний результат -> [False]\n",
            "result містить наступний результат -> [False]\n",
            "result містить наступний результат -> [False]\n",
            "result містить наступний результат -> [False]\n",
            "result містить наступний результат -> [False]\n",
            "result містить наступний результат -> [False]\n",
            "result містить наступний результат -> [False]\n",
            "result містить наступний результат -> [False]\n",
            "result містить наступний результат -> [False]\n",
            "result містить наступний результат -> [False]\n",
            "result містить наступний результат -> [False]\n",
            "result містить наступний результат -> [True]\n",
            "result містить наступний результат -> [False]\n",
            "result містить наступний результат -> [False]\n",
            "result містить наступний результат -> [False]\n",
            "result містить наступний результат -> [False]\n",
            "result містить наступний результат -> [False]\n",
            "result містить наступний результат -> [False]\n",
            "result містить наступний результат -> [False]\n",
            "result містить наступний результат -> [False]\n",
            "result містить наступний результат -> [True]\n",
            "result містить наступний результат -> [False]\n",
            "result містить наступний результат -> [False]\n",
            "result містить наступний результат -> [False]\n",
            "result містить наступний результат -> [False]\n",
            "result містить наступний результат -> [False]\n",
            "result містить наступний результат -> [False]\n",
            "result містить наступний результат -> [False]\n",
            "result містить наступний результат -> [False]\n",
            "result містить наступний результат -> [False]\n",
            "result містить наступний результат -> [False]\n",
            "result містить наступний результат -> [False]\n",
            "result містить наступний результат -> [False]\n",
            "result містить наступний результат -> [False]\n",
            "result містить наступний результат -> [False]\n",
            "result містить наступний результат -> [False]\n",
            "result містить наступний результат -> [False]\n",
            "result містить наступний результат -> [False]\n",
            "result містить наступний результат -> [False]\n",
            "result містить наступний результат -> [False]\n",
            "result містить наступний результат -> [False]\n",
            "result містить наступний результат -> [False]\n",
            "result містить наступний результат -> [False]\n",
            "result містить наступний результат -> [False]\n",
            "result містить наступний результат -> [False]\n",
            "result містить наступний результат -> [False]\n",
            "result містить наступний результат -> [False]\n",
            "result містить наступний результат -> [False]\n",
            "result містить наступний результат -> [False]\n",
            "result містить наступний результат -> [False]\n",
            "result містить наступний результат -> [False]\n",
            "result містить наступний результат -> [False]\n",
            "result містить наступний результат -> [False]\n",
            "result містить наступний результат -> [True]\n",
            "result містить наступний результат -> [False]\n",
            "result містить наступний результат -> [False]\n",
            "result містить наступний результат -> [False]\n",
            "result містить наступний результат -> [False]\n",
            "result містить наступний результат -> [False]\n",
            "result містить наступний результат -> [False]\n",
            "result містить наступний результат -> [False]\n",
            "result містить наступний результат -> [False]\n",
            "result містить наступний результат -> [False]\n",
            "result містить наступний результат -> [False]\n",
            "result містить наступний результат -> [False]\n",
            "result містить наступний результат -> [False]\n",
            "result містить наступний результат -> [False]\n",
            "result містить наступний результат -> [False]\n",
            "result містить наступний результат -> [False]\n",
            "result містить наступний результат -> [False]\n",
            "result містить наступний результат -> [False]\n",
            "result містить наступний результат -> [False]\n",
            "result містить наступний результат -> [False]\n",
            "result містить наступний результат -> [False]\n",
            "result містить наступний результат -> [True]\n",
            "result містить наступний результат -> [False]\n",
            "result містить наступний результат -> [False]\n",
            "result містить наступний результат -> [False]\n",
            "result містить наступний результат -> [False]\n",
            "result містить наступний результат -> [False]\n",
            "result містить наступний результат -> [False]\n",
            "result містить наступний результат -> [False]\n",
            "result містить наступний результат -> [False]\n",
            "result містить наступний результат -> [False]\n",
            "result містить наступний результат -> [False]\n",
            "result містить наступний результат -> [False]\n",
            "result містить наступний результат -> [False]\n",
            "result містить наступний результат -> [False]\n",
            "result містить наступний результат -> [False]\n",
            "result містить наступний результат -> [False]\n",
            "result містить наступний результат -> [False]\n",
            "result містить наступний результат -> [False]\n",
            "result містить наступний результат -> [False]\n",
            "result містить наступний результат -> [False]\n",
            "result містить наступний результат -> [False]\n",
            "result містить наступний результат -> [True]\n"
          ]
        }
      ]
    },
    {
      "cell_type": "markdown",
      "source": [
        "5. Нижче задано список `numbers`. Виконайте клітинку з його заданням.\n",
        "\n",
        "  Давайте знайдемо середнє арифметичне значення елементів списку `numbers` округлене до 2 цифр після коми та запишемо його у змінну `numbers_mean`. Для цього виконаємо два простих кроки.\n",
        "\n",
        "  1) Знайдіть суму всіх елементів списку `numbers` та запишіть її у змінну `numbers_sum`. Можна з використанням циклу, а можна і без.\n",
        "\n",
        "  2) Обчисліть `numbers_mean` шляхом ділення суми елементів у списку на їх кількість. Кількість елементів в списку - це його довжина.\n",
        "\n",
        "  Виведіть `numbers_mean`, округлений до 2 цифр після коми, на екран.\n",
        "\n",
        "  **Підказка**: округлити число можна з використанням вбудованої функції Python [round()](https://docs.python.org/3/library/functions.html#round)."
      ],
      "metadata": {
        "id": "0Z2cObcTutVO"
      }
    },
    {
      "cell_type": "code",
      "source": [
        "numbers = [42, 51, 29, 2, 13, 44, 80, 66, 16]"
      ],
      "metadata": {
        "id": "TwuOmLpeutVO"
      },
      "execution_count": 90,
      "outputs": []
    },
    {
      "cell_type": "code",
      "source": [
        "numbers_sum = sum(numbers)\n",
        "numbers_mean = numbers_sum/len(numbers)\n",
        "print(round(numbers_mean, 2))"
      ],
      "metadata": {
        "id": "R-qDvKVcu6e1",
        "colab": {
          "base_uri": "https://localhost:8080/"
        },
        "outputId": "cc1ae00c-a77c-4399-a63c-6b1e823e5b86"
      },
      "execution_count": 93,
      "outputs": [
        {
          "output_type": "stream",
          "name": "stdout",
          "text": [
            "38.11\n"
          ]
        }
      ]
    },
    {
      "cell_type": "markdown",
      "source": [
        "Очікуваний результат: `38.11`"
      ],
      "metadata": {
        "id": "pSdssHuuutVQ"
      }
    },
    {
      "cell_type": "markdown",
      "source": [
        "6. Задано список `a` і елемент `element`. Перевірте програмно чи є в списку `a` елемент `element` з допомогою інструкцій `if ... else`. Виведіть на екран відповідь \"Так, є\", якщо цей елемент в списку присутній, або \"Ні, нема\", якщо його там немає.\n",
        "Важливо це зробити без використання імпортів будь-яких бібліотек.\n",
        "\n",
        "  Тут цикла немає :) Але це завдання - підготовче до наступного."
      ],
      "metadata": {
        "id": "JsevSvVtutVQ"
      }
    },
    {
      "cell_type": "code",
      "source": [
        "a = [64, 93, 60, 95, 66, 9, 15, 55, 77, 28, 74, 100, 13, 1, 85, 48, 66, 65, 59, 32]\n",
        "element = 33"
      ],
      "metadata": {
        "id": "TqkTdlN_utVQ"
      },
      "execution_count": 38,
      "outputs": []
    },
    {
      "cell_type": "code",
      "source": [
        "if element in a:\n",
        "  print(\"Так, є\")\n",
        "else:\n",
        "  print(\"Ні, нема\")"
      ],
      "metadata": {
        "id": "aL_76T8pu7fp",
        "colab": {
          "base_uri": "https://localhost:8080/"
        },
        "outputId": "b0429e35-c409-45ab-b6e5-001a12adceae"
      },
      "execution_count": 39,
      "outputs": [
        {
          "output_type": "stream",
          "name": "stdout",
          "text": [
            "Ні, нема\n"
          ]
        }
      ]
    },
    {
      "cell_type": "markdown",
      "source": [
        "7. Тепер у нас не один елемент, а кілька. Вони наведені в змінній `elements`. За допомогою циклу і інструкцій `if ... else` для кожного елемента списку `elements` перевірте, чи він є в списку `a`.\n",
        "Виведіть на екран відповідь \"Так, є елемент <вставити значення елемента>\", якщо елемент в списку присутній, або \"Ні, нема елемента <вставити значення елемента>\", якщо його там немає."
      ],
      "metadata": {
        "id": "QKjmv4j0utVR"
      }
    },
    {
      "cell_type": "code",
      "source": [
        "elements = [44, 66, 77, 100]"
      ],
      "metadata": {
        "id": "TF3nT5TMutVR"
      },
      "execution_count": 37,
      "outputs": []
    },
    {
      "cell_type": "code",
      "source": [
        "for i in a:\n",
        "   for el in elements:\n",
        "    if el == i:\n",
        "      print(f\"Так, є елемент {el} \")\n",
        "    else:\n",
        "      print(f\"Ні, нема елемента {el} \")\n",
        ""
      ],
      "metadata": {
        "id": "pQD5InOQvG1d",
        "colab": {
          "base_uri": "https://localhost:8080/"
        },
        "outputId": "3f8ed5ef-07bc-4101-d76a-9dc80c9db8d2"
      },
      "execution_count": 51,
      "outputs": [
        {
          "output_type": "stream",
          "name": "stdout",
          "text": [
            "Ні, нема елемента 44 \n",
            "Ні, нема елемента 66 \n",
            "Ні, нема елемента 77 \n",
            "Ні, нема елемента 100 \n",
            "Ні, нема елемента 44 \n",
            "Ні, нема елемента 66 \n",
            "Ні, нема елемента 77 \n",
            "Ні, нема елемента 100 \n",
            "Ні, нема елемента 44 \n",
            "Ні, нема елемента 66 \n",
            "Ні, нема елемента 77 \n",
            "Ні, нема елемента 100 \n",
            "Ні, нема елемента 44 \n",
            "Ні, нема елемента 66 \n",
            "Ні, нема елемента 77 \n",
            "Ні, нема елемента 100 \n",
            "Ні, нема елемента 44 \n",
            "Так, є елемент 66 \n",
            "Ні, нема елемента 77 \n",
            "Ні, нема елемента 100 \n",
            "Ні, нема елемента 44 \n",
            "Ні, нема елемента 66 \n",
            "Ні, нема елемента 77 \n",
            "Ні, нема елемента 100 \n",
            "Ні, нема елемента 44 \n",
            "Ні, нема елемента 66 \n",
            "Ні, нема елемента 77 \n",
            "Ні, нема елемента 100 \n",
            "Ні, нема елемента 44 \n",
            "Ні, нема елемента 66 \n",
            "Ні, нема елемента 77 \n",
            "Ні, нема елемента 100 \n",
            "Ні, нема елемента 44 \n",
            "Ні, нема елемента 66 \n",
            "Так, є елемент 77 \n",
            "Ні, нема елемента 100 \n",
            "Ні, нема елемента 44 \n",
            "Ні, нема елемента 66 \n",
            "Ні, нема елемента 77 \n",
            "Ні, нема елемента 100 \n",
            "Ні, нема елемента 44 \n",
            "Ні, нема елемента 66 \n",
            "Ні, нема елемента 77 \n",
            "Ні, нема елемента 100 \n",
            "Ні, нема елемента 44 \n",
            "Ні, нема елемента 66 \n",
            "Ні, нема елемента 77 \n",
            "Так, є елемент 100 \n",
            "Ні, нема елемента 44 \n",
            "Ні, нема елемента 66 \n",
            "Ні, нема елемента 77 \n",
            "Ні, нема елемента 100 \n",
            "Ні, нема елемента 44 \n",
            "Ні, нема елемента 66 \n",
            "Ні, нема елемента 77 \n",
            "Ні, нема елемента 100 \n",
            "Ні, нема елемента 44 \n",
            "Ні, нема елемента 66 \n",
            "Ні, нема елемента 77 \n",
            "Ні, нема елемента 100 \n",
            "Ні, нема елемента 44 \n",
            "Ні, нема елемента 66 \n",
            "Ні, нема елемента 77 \n",
            "Ні, нема елемента 100 \n",
            "Ні, нема елемента 44 \n",
            "Так, є елемент 66 \n",
            "Ні, нема елемента 77 \n",
            "Ні, нема елемента 100 \n",
            "Ні, нема елемента 44 \n",
            "Ні, нема елемента 66 \n",
            "Ні, нема елемента 77 \n",
            "Ні, нема елемента 100 \n",
            "Ні, нема елемента 44 \n",
            "Ні, нема елемента 66 \n",
            "Ні, нема елемента 77 \n",
            "Ні, нема елемента 100 \n",
            "Ні, нема елемента 44 \n",
            "Ні, нема елемента 66 \n",
            "Ні, нема елемента 77 \n",
            "Ні, нема елемента 100 \n"
          ]
        }
      ]
    }
  ]
}