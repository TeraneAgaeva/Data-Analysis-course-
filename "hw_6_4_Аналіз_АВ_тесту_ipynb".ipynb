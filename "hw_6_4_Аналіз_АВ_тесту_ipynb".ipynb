{
  "nbformat": 4,
  "nbformat_minor": 0,
  "metadata": {
    "colab": {
      "provenance": [],
      "include_colab_link": true
    },
    "kernelspec": {
      "name": "python3",
      "display_name": "Python 3"
    },
    "language_info": {
      "name": "python"
    }
  },
  "cells": [
    {
      "cell_type": "markdown",
      "metadata": {
        "id": "view-in-github",
        "colab_type": "text"
      },
      "source": [
        "<a href=\"https://colab.research.google.com/github/TeraneAgaeva/Data-Analysis-course-/blob/main/%22hw_6_4_%D0%90%D0%BD%D0%B0%D0%BB%D1%96%D0%B7_%D0%90%D0%92_%D1%82%D0%B5%D1%81%D1%82%D1%83_ipynb%22.ipynb\" target=\"_parent\"><img src=\"https://colab.research.google.com/assets/colab-badge.svg\" alt=\"Open In Colab\"/></a>"
      ]
    },
    {
      "cell_type": "markdown",
      "metadata": {
        "id": "e411f482"
      },
      "source": [
        "## Аналіз A/B тесту"
      ]
    },
    {
      "cell_type": "markdown",
      "metadata": {
        "ExecuteTime": {
          "end_time": "2022-12-10T17:43:42.137588Z",
          "start_time": "2022-12-10T17:43:42.124712Z"
        },
        "id": "f41183ed"
      },
      "source": [
        "Маємо проаналізувати дані A/B тесту в популярній [грі Cookie Cats](https://www.facebook.com/cookiecatsgame). Це класична гра-головоломка в стилі «з’єднай три», де гравець повинен з’єднати плитки одного кольору, щоб очистити дошку та виграти рівень. На дошці також зображені співаючі котики :)\n",
        "\n",
        "Під час проходження гри гравці стикаються з воротами, які змушують їх чекати деякий час, перш ніж вони зможуть прогресувати або зробити покупку в додатку. У цьому блоці завдань ми проаналізуємо результати A/B тесту, коли перші ворота в Cookie Cats було переміщено з рівня 30 на рівень 40. Зокрема, ми проаналізуємо вплив на утримання (retention) гравців. Тобто хочемо зрозуміти чи переміщення воріт на 10 рівнів пізніше якимось чином вплинуло на те, що користувачі перестають грати в гру раніше чи пізніше з точки зору кількості їх днів з моменту встановлення гри.\n",
        "\n",
        "Будемо працювати з даними з файлу `cookie_cats.csv`. Змінні в даних наступні:\n",
        "\n",
        "- userid - унікальний номер, який ідентифікує кожного гравця.\n",
        "- version - чи потрапив гравець в контрольну групу (gate_30 - ворота на 30 рівні) чи тестову групу (gate_40 - ворота на 40 рівні).\n",
        "- sum_gamerounds - кількість ігрових раундів, зіграних гравцем протягом першого тижня після встановлення\n",
        "- retention_1 - чи через 1 день після встановлення гравець повернувся і почав грати?\n",
        "- retention_7 - чи через 7 днів після встановлення гравець повернувся і почав грати?\n",
        "\n",
        "Коли гравець встановлював гру, його випадковим чином призначали до групи gate_30 або gate_40."
      ]
    },
    {
      "cell_type": "markdown",
      "metadata": {
        "id": "22f03df4"
      },
      "source": [
        "1. Зчитайте дані АВ тесту у змінну `df` та виведіть середнє значення показника показник `retention_7` (утримання на 7 день) по версіям гри. Сформулюйте гіпотезу: яка версія дає краще утримання через 7 днів після встановлення гри?"
      ]
    },
    {
      "cell_type": "code",
      "source": [
        "import numpy as np\n",
        "import pandas as pd\n",
        "import scipy.stats as stats\n",
        "import statsmodels.stats.api as sms\n",
        "import matplotlib as mpl\n",
        "import matplotlib.pyplot as plt\n",
        "import seaborn as sns\n",
        "from math import ceil\n",
        "\n",
        "%matplotlib inline"
      ],
      "metadata": {
        "id": "MVzMTs-jh22b"
      },
      "execution_count": 1,
      "outputs": []
    },
    {
      "cell_type": "code",
      "source": [
        "from google.colab import drive\n",
        "drive.mount('/content/drive')"
      ],
      "metadata": {
        "colab": {
          "base_uri": "https://localhost:8080/"
        },
        "id": "u9Ay0YhpD3tu",
        "outputId": "d96150ed-be58-4bf5-82c4-571615fc8cf0"
      },
      "execution_count": 2,
      "outputs": [
        {
          "output_type": "stream",
          "name": "stdout",
          "text": [
            "Mounted at /content/drive\n"
          ]
        }
      ]
    },
    {
      "cell_type": "code",
      "source": [
        "!ls drive/MyDrive/cookie_cats.csv"
      ],
      "metadata": {
        "colab": {
          "base_uri": "https://localhost:8080/"
        },
        "id": "uT1BBLisECAd",
        "outputId": "d50c5ee3-919d-4004-c8fd-3d5cd5eae3af"
      },
      "execution_count": 3,
      "outputs": [
        {
          "output_type": "stream",
          "name": "stdout",
          "text": [
            "drive/MyDrive/cookie_cats.csv\n"
          ]
        }
      ]
    },
    {
      "cell_type": "code",
      "source": [
        "data_path = 'drive/MyDrive/cookie_cats.csv'\n",
        "df = pd.read_csv(data_path)"
      ],
      "metadata": {
        "id": "vUEEIzTNEi3W"
      },
      "execution_count": 4,
      "outputs": []
    },
    {
      "cell_type": "code",
      "source": [
        "df.shape"
      ],
      "metadata": {
        "colab": {
          "base_uri": "https://localhost:8080/"
        },
        "id": "juSlh1FOEuvl",
        "outputId": "c91a55fa-7c4b-4c7c-e32e-0e6769e7aaaa"
      },
      "execution_count": 5,
      "outputs": [
        {
          "output_type": "execute_result",
          "data": {
            "text/plain": [
              "(90189, 5)"
            ]
          },
          "metadata": {},
          "execution_count": 5
        }
      ]
    },
    {
      "cell_type": "code",
      "source": [
        "df.info()"
      ],
      "metadata": {
        "colab": {
          "base_uri": "https://localhost:8080/"
        },
        "id": "Gm6MTWs0Ewu9",
        "outputId": "4f3f2f7d-1b91-4cd2-e690-14b575d2d2e3"
      },
      "execution_count": 6,
      "outputs": [
        {
          "output_type": "stream",
          "name": "stdout",
          "text": [
            "<class 'pandas.core.frame.DataFrame'>\n",
            "RangeIndex: 90189 entries, 0 to 90188\n",
            "Data columns (total 5 columns):\n",
            " #   Column          Non-Null Count  Dtype \n",
            "---  ------          --------------  ----- \n",
            " 0   userid          90189 non-null  int64 \n",
            " 1   version         90189 non-null  object\n",
            " 2   sum_gamerounds  90189 non-null  int64 \n",
            " 3   retention_1     90189 non-null  bool  \n",
            " 4   retention_7     90189 non-null  bool  \n",
            "dtypes: bool(2), int64(2), object(1)\n",
            "memory usage: 2.2+ MB\n"
          ]
        }
      ]
    },
    {
      "cell_type": "code",
      "source": [
        "df"
      ],
      "metadata": {
        "colab": {
          "base_uri": "https://localhost:8080/",
          "height": 423
        },
        "id": "fy7k01nuFBWF",
        "outputId": "239e1bf4-4d21-439a-80aa-73366f083033"
      },
      "execution_count": 7,
      "outputs": [
        {
          "output_type": "execute_result",
          "data": {
            "text/plain": [
              "        userid  version  sum_gamerounds  retention_1  retention_7\n",
              "0          116  gate_30               3        False        False\n",
              "1          337  gate_30              38         True        False\n",
              "2          377  gate_40             165         True        False\n",
              "3          483  gate_40               1        False        False\n",
              "4          488  gate_40             179         True         True\n",
              "...        ...      ...             ...          ...          ...\n",
              "90184  9999441  gate_40              97         True        False\n",
              "90185  9999479  gate_40              30        False        False\n",
              "90186  9999710  gate_30              28         True        False\n",
              "90187  9999768  gate_40              51         True        False\n",
              "90188  9999861  gate_40              16        False        False\n",
              "\n",
              "[90189 rows x 5 columns]"
            ],
            "text/html": [
              "\n",
              "  <div id=\"df-82131f0d-fb13-465a-81b1-391bdb5416b6\" class=\"colab-df-container\">\n",
              "    <div>\n",
              "<style scoped>\n",
              "    .dataframe tbody tr th:only-of-type {\n",
              "        vertical-align: middle;\n",
              "    }\n",
              "\n",
              "    .dataframe tbody tr th {\n",
              "        vertical-align: top;\n",
              "    }\n",
              "\n",
              "    .dataframe thead th {\n",
              "        text-align: right;\n",
              "    }\n",
              "</style>\n",
              "<table border=\"1\" class=\"dataframe\">\n",
              "  <thead>\n",
              "    <tr style=\"text-align: right;\">\n",
              "      <th></th>\n",
              "      <th>userid</th>\n",
              "      <th>version</th>\n",
              "      <th>sum_gamerounds</th>\n",
              "      <th>retention_1</th>\n",
              "      <th>retention_7</th>\n",
              "    </tr>\n",
              "  </thead>\n",
              "  <tbody>\n",
              "    <tr>\n",
              "      <th>0</th>\n",
              "      <td>116</td>\n",
              "      <td>gate_30</td>\n",
              "      <td>3</td>\n",
              "      <td>False</td>\n",
              "      <td>False</td>\n",
              "    </tr>\n",
              "    <tr>\n",
              "      <th>1</th>\n",
              "      <td>337</td>\n",
              "      <td>gate_30</td>\n",
              "      <td>38</td>\n",
              "      <td>True</td>\n",
              "      <td>False</td>\n",
              "    </tr>\n",
              "    <tr>\n",
              "      <th>2</th>\n",
              "      <td>377</td>\n",
              "      <td>gate_40</td>\n",
              "      <td>165</td>\n",
              "      <td>True</td>\n",
              "      <td>False</td>\n",
              "    </tr>\n",
              "    <tr>\n",
              "      <th>3</th>\n",
              "      <td>483</td>\n",
              "      <td>gate_40</td>\n",
              "      <td>1</td>\n",
              "      <td>False</td>\n",
              "      <td>False</td>\n",
              "    </tr>\n",
              "    <tr>\n",
              "      <th>4</th>\n",
              "      <td>488</td>\n",
              "      <td>gate_40</td>\n",
              "      <td>179</td>\n",
              "      <td>True</td>\n",
              "      <td>True</td>\n",
              "    </tr>\n",
              "    <tr>\n",
              "      <th>...</th>\n",
              "      <td>...</td>\n",
              "      <td>...</td>\n",
              "      <td>...</td>\n",
              "      <td>...</td>\n",
              "      <td>...</td>\n",
              "    </tr>\n",
              "    <tr>\n",
              "      <th>90184</th>\n",
              "      <td>9999441</td>\n",
              "      <td>gate_40</td>\n",
              "      <td>97</td>\n",
              "      <td>True</td>\n",
              "      <td>False</td>\n",
              "    </tr>\n",
              "    <tr>\n",
              "      <th>90185</th>\n",
              "      <td>9999479</td>\n",
              "      <td>gate_40</td>\n",
              "      <td>30</td>\n",
              "      <td>False</td>\n",
              "      <td>False</td>\n",
              "    </tr>\n",
              "    <tr>\n",
              "      <th>90186</th>\n",
              "      <td>9999710</td>\n",
              "      <td>gate_30</td>\n",
              "      <td>28</td>\n",
              "      <td>True</td>\n",
              "      <td>False</td>\n",
              "    </tr>\n",
              "    <tr>\n",
              "      <th>90187</th>\n",
              "      <td>9999768</td>\n",
              "      <td>gate_40</td>\n",
              "      <td>51</td>\n",
              "      <td>True</td>\n",
              "      <td>False</td>\n",
              "    </tr>\n",
              "    <tr>\n",
              "      <th>90188</th>\n",
              "      <td>9999861</td>\n",
              "      <td>gate_40</td>\n",
              "      <td>16</td>\n",
              "      <td>False</td>\n",
              "      <td>False</td>\n",
              "    </tr>\n",
              "  </tbody>\n",
              "</table>\n",
              "<p>90189 rows × 5 columns</p>\n",
              "</div>\n",
              "    <div class=\"colab-df-buttons\">\n",
              "\n",
              "  <div class=\"colab-df-container\">\n",
              "    <button class=\"colab-df-convert\" onclick=\"convertToInteractive('df-82131f0d-fb13-465a-81b1-391bdb5416b6')\"\n",
              "            title=\"Convert this dataframe to an interactive table.\"\n",
              "            style=\"display:none;\">\n",
              "\n",
              "  <svg xmlns=\"http://www.w3.org/2000/svg\" height=\"24px\" viewBox=\"0 -960 960 960\">\n",
              "    <path d=\"M120-120v-720h720v720H120Zm60-500h600v-160H180v160Zm220 220h160v-160H400v160Zm0 220h160v-160H400v160ZM180-400h160v-160H180v160Zm440 0h160v-160H620v160ZM180-180h160v-160H180v160Zm440 0h160v-160H620v160Z\"/>\n",
              "  </svg>\n",
              "    </button>\n",
              "\n",
              "  <style>\n",
              "    .colab-df-container {\n",
              "      display:flex;\n",
              "      gap: 12px;\n",
              "    }\n",
              "\n",
              "    .colab-df-convert {\n",
              "      background-color: #E8F0FE;\n",
              "      border: none;\n",
              "      border-radius: 50%;\n",
              "      cursor: pointer;\n",
              "      display: none;\n",
              "      fill: #1967D2;\n",
              "      height: 32px;\n",
              "      padding: 0 0 0 0;\n",
              "      width: 32px;\n",
              "    }\n",
              "\n",
              "    .colab-df-convert:hover {\n",
              "      background-color: #E2EBFA;\n",
              "      box-shadow: 0px 1px 2px rgba(60, 64, 67, 0.3), 0px 1px 3px 1px rgba(60, 64, 67, 0.15);\n",
              "      fill: #174EA6;\n",
              "    }\n",
              "\n",
              "    .colab-df-buttons div {\n",
              "      margin-bottom: 4px;\n",
              "    }\n",
              "\n",
              "    [theme=dark] .colab-df-convert {\n",
              "      background-color: #3B4455;\n",
              "      fill: #D2E3FC;\n",
              "    }\n",
              "\n",
              "    [theme=dark] .colab-df-convert:hover {\n",
              "      background-color: #434B5C;\n",
              "      box-shadow: 0px 1px 3px 1px rgba(0, 0, 0, 0.15);\n",
              "      filter: drop-shadow(0px 1px 2px rgba(0, 0, 0, 0.3));\n",
              "      fill: #FFFFFF;\n",
              "    }\n",
              "  </style>\n",
              "\n",
              "    <script>\n",
              "      const buttonEl =\n",
              "        document.querySelector('#df-82131f0d-fb13-465a-81b1-391bdb5416b6 button.colab-df-convert');\n",
              "      buttonEl.style.display =\n",
              "        google.colab.kernel.accessAllowed ? 'block' : 'none';\n",
              "\n",
              "      async function convertToInteractive(key) {\n",
              "        const element = document.querySelector('#df-82131f0d-fb13-465a-81b1-391bdb5416b6');\n",
              "        const dataTable =\n",
              "          await google.colab.kernel.invokeFunction('convertToInteractive',\n",
              "                                                    [key], {});\n",
              "        if (!dataTable) return;\n",
              "\n",
              "        const docLinkHtml = 'Like what you see? Visit the ' +\n",
              "          '<a target=\"_blank\" href=https://colab.research.google.com/notebooks/data_table.ipynb>data table notebook</a>'\n",
              "          + ' to learn more about interactive tables.';\n",
              "        element.innerHTML = '';\n",
              "        dataTable['output_type'] = 'display_data';\n",
              "        await google.colab.output.renderOutput(dataTable, element);\n",
              "        const docLink = document.createElement('div');\n",
              "        docLink.innerHTML = docLinkHtml;\n",
              "        element.appendChild(docLink);\n",
              "      }\n",
              "    </script>\n",
              "  </div>\n",
              "\n",
              "\n",
              "<div id=\"df-d228d192-527b-4a38-9536-097cb6c13c15\">\n",
              "  <button class=\"colab-df-quickchart\" onclick=\"quickchart('df-d228d192-527b-4a38-9536-097cb6c13c15')\"\n",
              "            title=\"Suggest charts\"\n",
              "            style=\"display:none;\">\n",
              "\n",
              "<svg xmlns=\"http://www.w3.org/2000/svg\" height=\"24px\"viewBox=\"0 0 24 24\"\n",
              "     width=\"24px\">\n",
              "    <g>\n",
              "        <path d=\"M19 3H5c-1.1 0-2 .9-2 2v14c0 1.1.9 2 2 2h14c1.1 0 2-.9 2-2V5c0-1.1-.9-2-2-2zM9 17H7v-7h2v7zm4 0h-2V7h2v10zm4 0h-2v-4h2v4z\"/>\n",
              "    </g>\n",
              "</svg>\n",
              "  </button>\n",
              "\n",
              "<style>\n",
              "  .colab-df-quickchart {\n",
              "      --bg-color: #E8F0FE;\n",
              "      --fill-color: #1967D2;\n",
              "      --hover-bg-color: #E2EBFA;\n",
              "      --hover-fill-color: #174EA6;\n",
              "      --disabled-fill-color: #AAA;\n",
              "      --disabled-bg-color: #DDD;\n",
              "  }\n",
              "\n",
              "  [theme=dark] .colab-df-quickchart {\n",
              "      --bg-color: #3B4455;\n",
              "      --fill-color: #D2E3FC;\n",
              "      --hover-bg-color: #434B5C;\n",
              "      --hover-fill-color: #FFFFFF;\n",
              "      --disabled-bg-color: #3B4455;\n",
              "      --disabled-fill-color: #666;\n",
              "  }\n",
              "\n",
              "  .colab-df-quickchart {\n",
              "    background-color: var(--bg-color);\n",
              "    border: none;\n",
              "    border-radius: 50%;\n",
              "    cursor: pointer;\n",
              "    display: none;\n",
              "    fill: var(--fill-color);\n",
              "    height: 32px;\n",
              "    padding: 0;\n",
              "    width: 32px;\n",
              "  }\n",
              "\n",
              "  .colab-df-quickchart:hover {\n",
              "    background-color: var(--hover-bg-color);\n",
              "    box-shadow: 0 1px 2px rgba(60, 64, 67, 0.3), 0 1px 3px 1px rgba(60, 64, 67, 0.15);\n",
              "    fill: var(--button-hover-fill-color);\n",
              "  }\n",
              "\n",
              "  .colab-df-quickchart-complete:disabled,\n",
              "  .colab-df-quickchart-complete:disabled:hover {\n",
              "    background-color: var(--disabled-bg-color);\n",
              "    fill: var(--disabled-fill-color);\n",
              "    box-shadow: none;\n",
              "  }\n",
              "\n",
              "  .colab-df-spinner {\n",
              "    border: 2px solid var(--fill-color);\n",
              "    border-color: transparent;\n",
              "    border-bottom-color: var(--fill-color);\n",
              "    animation:\n",
              "      spin 1s steps(1) infinite;\n",
              "  }\n",
              "\n",
              "  @keyframes spin {\n",
              "    0% {\n",
              "      border-color: transparent;\n",
              "      border-bottom-color: var(--fill-color);\n",
              "      border-left-color: var(--fill-color);\n",
              "    }\n",
              "    20% {\n",
              "      border-color: transparent;\n",
              "      border-left-color: var(--fill-color);\n",
              "      border-top-color: var(--fill-color);\n",
              "    }\n",
              "    30% {\n",
              "      border-color: transparent;\n",
              "      border-left-color: var(--fill-color);\n",
              "      border-top-color: var(--fill-color);\n",
              "      border-right-color: var(--fill-color);\n",
              "    }\n",
              "    40% {\n",
              "      border-color: transparent;\n",
              "      border-right-color: var(--fill-color);\n",
              "      border-top-color: var(--fill-color);\n",
              "    }\n",
              "    60% {\n",
              "      border-color: transparent;\n",
              "      border-right-color: var(--fill-color);\n",
              "    }\n",
              "    80% {\n",
              "      border-color: transparent;\n",
              "      border-right-color: var(--fill-color);\n",
              "      border-bottom-color: var(--fill-color);\n",
              "    }\n",
              "    90% {\n",
              "      border-color: transparent;\n",
              "      border-bottom-color: var(--fill-color);\n",
              "    }\n",
              "  }\n",
              "</style>\n",
              "\n",
              "  <script>\n",
              "    async function quickchart(key) {\n",
              "      const quickchartButtonEl =\n",
              "        document.querySelector('#' + key + ' button');\n",
              "      quickchartButtonEl.disabled = true;  // To prevent multiple clicks.\n",
              "      quickchartButtonEl.classList.add('colab-df-spinner');\n",
              "      try {\n",
              "        const charts = await google.colab.kernel.invokeFunction(\n",
              "            'suggestCharts', [key], {});\n",
              "      } catch (error) {\n",
              "        console.error('Error during call to suggestCharts:', error);\n",
              "      }\n",
              "      quickchartButtonEl.classList.remove('colab-df-spinner');\n",
              "      quickchartButtonEl.classList.add('colab-df-quickchart-complete');\n",
              "    }\n",
              "    (() => {\n",
              "      let quickchartButtonEl =\n",
              "        document.querySelector('#df-d228d192-527b-4a38-9536-097cb6c13c15 button');\n",
              "      quickchartButtonEl.style.display =\n",
              "        google.colab.kernel.accessAllowed ? 'block' : 'none';\n",
              "    })();\n",
              "  </script>\n",
              "</div>\n",
              "    </div>\n",
              "  </div>\n"
            ],
            "application/vnd.google.colaboratory.intrinsic+json": {
              "type": "dataframe",
              "variable_name": "df",
              "summary": "{\n  \"name\": \"df\",\n  \"rows\": 90189,\n  \"fields\": [\n    {\n      \"column\": \"userid\",\n      \"properties\": {\n        \"dtype\": \"number\",\n        \"std\": 2883285,\n        \"min\": 116,\n        \"max\": 9999861,\n        \"num_unique_values\": 90189,\n        \"samples\": [\n          3266525,\n          3937667,\n          2861986\n        ],\n        \"semantic_type\": \"\",\n        \"description\": \"\"\n      }\n    },\n    {\n      \"column\": \"version\",\n      \"properties\": {\n        \"dtype\": \"category\",\n        \"num_unique_values\": 2,\n        \"samples\": [\n          \"gate_40\",\n          \"gate_30\"\n        ],\n        \"semantic_type\": \"\",\n        \"description\": \"\"\n      }\n    },\n    {\n      \"column\": \"sum_gamerounds\",\n      \"properties\": {\n        \"dtype\": \"number\",\n        \"std\": 195,\n        \"min\": 0,\n        \"max\": 49854,\n        \"num_unique_values\": 942,\n        \"samples\": [\n          346,\n          523\n        ],\n        \"semantic_type\": \"\",\n        \"description\": \"\"\n      }\n    },\n    {\n      \"column\": \"retention_1\",\n      \"properties\": {\n        \"dtype\": \"boolean\",\n        \"num_unique_values\": 2,\n        \"samples\": [\n          true,\n          false\n        ],\n        \"semantic_type\": \"\",\n        \"description\": \"\"\n      }\n    },\n    {\n      \"column\": \"retention_7\",\n      \"properties\": {\n        \"dtype\": \"boolean\",\n        \"num_unique_values\": 2,\n        \"samples\": [\n          true,\n          false\n        ],\n        \"semantic_type\": \"\",\n        \"description\": \"\"\n      }\n    }\n  ]\n}"
            }
          },
          "metadata": {},
          "execution_count": 7
        }
      ]
    },
    {
      "cell_type": "markdown",
      "source": [
        "Перш ніж ми продовжимо і проаналізуємо дані для отримання нашої підмножини, давайте упевнимося, що немає користувачів, які були обрані кілька разів."
      ],
      "metadata": {
        "id": "V-URRNy1KVdF"
      }
    },
    {
      "cell_type": "code",
      "source": [
        "user_counts = df['userid'].value_counts(ascending=False)\n",
        "multi_users = user_counts[user_counts > 1].count()\n",
        "\n",
        "print(f'Є {multi_users} користувачів, які зустрічаються кілька разів у наборі даних.')"
      ],
      "metadata": {
        "colab": {
          "base_uri": "https://localhost:8080/"
        },
        "id": "RV7__iv1KX01",
        "outputId": "250e1173-ba62-43cc-f73c-6214bd1ea6bf"
      },
      "execution_count": 8,
      "outputs": [
        {
          "output_type": "stream",
          "name": "stdout",
          "text": [
            "Є 0 користувачів, які зустрічаються кілька разів у наборі даних.\n"
          ]
        }
      ]
    },
    {
      "cell_type": "code",
      "source": [
        "# ДОдамо поле 'Count' та заповним значенням 1, адже знаємо з попереднього аналізу, що записи у df унікальні\n",
        "df['Count'] = 1"
      ],
      "metadata": {
        "id": "Ul27Q-MVLci9"
      },
      "execution_count": 9,
      "outputs": []
    },
    {
      "cell_type": "code",
      "source": [
        "# Групуємо по полям 'version' и 'retention_7' та рахуємо кількість користувачів по підгруппам\n",
        "grouped_data = df.groupby(['version', 'retention_7']).size().reset_index(name='count')\n",
        "\n",
        "\n",
        "print(grouped_data)"
      ],
      "metadata": {
        "colab": {
          "base_uri": "https://localhost:8080/"
        },
        "id": "UCGcYWM6L9iN",
        "outputId": "a3147933-8c43-471b-ebd0-4b840c754eb4"
      },
      "execution_count": 10,
      "outputs": [
        {
          "output_type": "stream",
          "name": "stdout",
          "text": [
            "   version  retention_7  count\n",
            "0  gate_30        False  36198\n",
            "1  gate_30         True   8502\n",
            "2  gate_40        False  37210\n",
            "3  gate_40         True   8279\n"
          ]
        }
      ]
    },
    {
      "cell_type": "code",
      "source": [
        "# Групуємо по полям 'version' и 'retention_7' та рахуємо кількість користувачів по підгруппам\n",
        "grouped_data1 = grouped_data.groupby(['version']).sum()\n",
        "\n",
        "\n",
        "print(grouped_data1)"
      ],
      "metadata": {
        "colab": {
          "base_uri": "https://localhost:8080/"
        },
        "id": "WnMMBN6lP7F1",
        "outputId": "fa2e64a9-9653-4fe3-ef46-f7763b7ff6e4"
      },
      "execution_count": 11,
      "outputs": [
        {
          "output_type": "stream",
          "name": "stdout",
          "text": [
            "         retention_7  count\n",
            "version                    \n",
            "gate_30            1  44700\n",
            "gate_40            1  45489\n"
          ]
        }
      ]
    },
    {
      "cell_type": "code",
      "source": [
        "36198+8502"
      ],
      "metadata": {
        "colab": {
          "base_uri": "https://localhost:8080/"
        },
        "id": "qd9_oXl2QPws",
        "outputId": "6adc8468-356c-4099-e0d6-be0af945472d"
      },
      "execution_count": 12,
      "outputs": [
        {
          "output_type": "execute_result",
          "data": {
            "text/plain": [
              "44700"
            ]
          },
          "metadata": {},
          "execution_count": 12
        }
      ]
    },
    {
      "cell_type": "code",
      "source": [
        "alpha = 0.05\n"
      ],
      "metadata": {
        "id": "U2jHh_hVMUod"
      },
      "execution_count": 13,
      "outputs": []
    },
    {
      "cell_type": "code",
      "source": [
        "# Групування даних по 'version' та розрахунок значення для 'retention_7'\n",
        "grouped = df.groupby('version')['retention_7'].mean().reset_index()\n",
        "\n",
        "# Перейменуємо поле retention_7 на mean_retention_7\n",
        "grouped = grouped.rename(columns={'retention_7': 'mean_retention_7'})\n",
        "\n",
        "print(grouped)"
      ],
      "metadata": {
        "colab": {
          "base_uri": "https://localhost:8080/"
        },
        "id": "Akv22vBYQF8N",
        "outputId": "8732941e-f54a-4fb8-883a-5b1cd1d9316a"
      },
      "execution_count": 14,
      "outputs": [
        {
          "output_type": "stream",
          "name": "stdout",
          "text": [
            "   version  mean_retention_7\n",
            "0  gate_30          0.190201\n",
            "1  gate_40          0.182000\n"
          ]
        }
      ]
    },
    {
      "cell_type": "code",
      "source": [
        "# Перевірка середнього\n",
        "\n",
        "8502/(36198+8502)"
      ],
      "metadata": {
        "colab": {
          "base_uri": "https://localhost:8080/"
        },
        "id": "QQQG_j0oQL2V",
        "outputId": "4ddae47e-e328-4d8b-c214-c282f53280c0"
      },
      "execution_count": 15,
      "outputs": [
        {
          "output_type": "execute_result",
          "data": {
            "text/plain": [
              "0.19020134228187918"
            ]
          },
          "metadata": {},
          "execution_count": 15
        }
      ]
    },
    {
      "cell_type": "markdown",
      "source": [
        "Почему лучше использовать **.sample()**:\n",
        "Случайность: **.sample()** позволяет выбрать случайные строки из данных, что помогает избежать систематического смещения. Это особенно важно, если ваш набор данных содержит тенденции или аномалии, которые могут повлиять на результаты теста.\n",
        "\n",
        "Контроль размера выборки: Вы можете точно определить размер выборки, что важно для статистических анализов. Если данные не равномерно распределены, **.sample()** позволяет вам настроить размер выборки для каждой группы.\n",
        "\n",
        "Репрезентативность: Случайное подмножество данных помогает обеспечить, что ваша выборка является репрезентативной для всей популяции, что делает результаты теста более надежными и применимыми."
      ],
      "metadata": {
        "id": "vvIx3FJsAHqc"
      }
    },
    {
      "cell_type": "code",
      "source": [
        "# Формуємо вибірки ВАР 1\n",
        "\n",
        "\"\"\"робочий, але не зовсім підходящий варіант. В этом коде\n",
        "вы создаете две Series (group_30 и group_40), которые содержат только значения в столбце 'count'\n",
        "для каждой из групп. Эта часть кода просто извлекает данные для двух групп, но не создает случайные выборки.\"\"\"\n",
        "\n",
        "group_30 = grouped_data[grouped_data['version'] == 'gate_30']['count']\n",
        "group_40 = grouped_data[grouped_data['version'] == 'gate_40']['count']\n",
        "\n",
        "print(group_30, group_40)"
      ],
      "metadata": {
        "colab": {
          "base_uri": "https://localhost:8080/"
        },
        "id": "x1At6AOrAWQo",
        "outputId": "7e1fbb0a-5e25-4a40-9754-c979c788ad58"
      },
      "execution_count": 17,
      "outputs": [
        {
          "output_type": "stream",
          "name": "stdout",
          "text": [
            "0    36198\n",
            "1     8502\n",
            "Name: count, dtype: int64 2    37210\n",
            "3     8279\n",
            "Name: count, dtype: int64\n"
          ]
        }
      ]
    },
    {
      "cell_type": "code",
      "source": [
        "# Формуємо вибірки ВАР 2 з використанням .sample() для вибору випадкових значень. Число 22 - рандомне значення\n",
        "\n",
        "gate_30_sample1 = df[df['version'] == 'gate_30'].sample(n = count_gate_30, random_state=22)\n",
        "gate_40_sample1 = df[df['version'] == 'gate_40'].sample(n = count_gate_40, random_state=22)\n",
        "\n",
        "print(gate_30_sample1, gate_40_sample1)\n"
      ],
      "metadata": {
        "colab": {
          "base_uri": "https://localhost:8080/"
        },
        "id": "aa6LfhVP52a5",
        "outputId": "6d4e0cb4-caf4-44e8-ee0b-3897ea55407c"
      },
      "execution_count": 20,
      "outputs": [
        {
          "output_type": "stream",
          "name": "stdout",
          "text": [
            "        userid  version  sum_gamerounds  retention_1  retention_7  Count\n",
            "68036  7540471  gate_30              45         True        False      1\n",
            "32277  3589138  gate_30              21         True        False      1\n",
            "28511  3177668  gate_30              14         True        False      1\n",
            "19176  2133884  gate_30              26        False        False      1\n",
            "4432    492763  gate_30              39         True         True      1\n",
            "...        ...      ...             ...          ...          ...    ...\n",
            "46326  5131516  gate_30              11         True        False      1\n",
            "50189  5563895  gate_30              35        False        False      1\n",
            "63753  7060016  gate_30               8        False        False      1\n",
            "59362  6573010  gate_30               1        False        False      1\n",
            "88576  9820753  gate_30              39         True        False      1\n",
            "\n",
            "[44700 rows x 6 columns]         userid  version  sum_gamerounds  retention_1  retention_7  Count\n",
            "86249  9554112  gate_40              15        False        False      1\n",
            "3640    402485  gate_40              47        False        False      1\n",
            "1754    190245  gate_40               4        False        False      1\n",
            "63594  7042969  gate_40              22        False        False      1\n",
            "62810  6958694  gate_40              19         True         True      1\n",
            "...        ...      ...             ...          ...          ...    ...\n",
            "45771  5069865  gate_40               4        False        False      1\n",
            "49531  5493639  gate_40              10        False        False      1\n",
            "62961  6977127  gate_40              11        False        False      1\n",
            "58553  6482593  gate_40               2        False        False      1\n",
            "87020  9641592  gate_40               3        False        False      1\n",
            "\n",
            "[45489 rows x 6 columns]\n"
          ]
        }
      ]
    },
    {
      "cell_type": "code",
      "source": [
        "# Число користувачів, що повернулись через 7 днів у кожній групі\n",
        "retention_7_gate_30 = df[df['version'] == 'gate_30']['retention_7'].sum()\n",
        "retention_7_gate_40 = df[df['version'] == 'gate_40']['retention_7'].sum()\n",
        "\n",
        "print(retention_7_gate_30, retention_7_gate_40)"
      ],
      "metadata": {
        "colab": {
          "base_uri": "https://localhost:8080/"
        },
        "id": "GX2VqKwGUdga",
        "outputId": "12b329e8-7051-42f9-8243-bc724b6acc47"
      },
      "execution_count": 40,
      "outputs": [
        {
          "output_type": "stream",
          "name": "stdout",
          "text": [
            "8502 8279\n"
          ]
        }
      ]
    },
    {
      "cell_type": "code",
      "source": [
        "# підрахунок суми рядків\n",
        "\n",
        "# вар 1\n",
        "count_gate_30 = df[df['version'] == 'gate_30'].shape[0]\n",
        "count_gate_40 = df[df['version'] == 'gate_40'].shape[0]\n",
        "\n",
        "\n",
        "print(count_gate_30, count_gate_40)"
      ],
      "metadata": {
        "colab": {
          "base_uri": "https://localhost:8080/"
        },
        "id": "dVNUgrrkSXTn",
        "outputId": "fe7b601e-f433-4fdc-918a-809df31c9584"
      },
      "execution_count": 41,
      "outputs": [
        {
          "output_type": "stream",
          "name": "stdout",
          "text": [
            "44700 45489\n"
          ]
        }
      ]
    },
    {
      "cell_type": "code",
      "source": [
        "# підрахунок суми рядків\n",
        "# вар 2\n",
        "n_gate_30, n_gate_40 = len(gate_30_sample1), len(gate_40_sample1)\n",
        "\n",
        "print(count_gate_30, count_gate_40, n_gate_30, n_gate_40)"
      ],
      "metadata": {
        "colab": {
          "base_uri": "https://localhost:8080/"
        },
        "id": "45OURUTYUeW6",
        "outputId": "063bb30d-e652-49c4-af88-fa63443cc82b"
      },
      "execution_count": 42,
      "outputs": [
        {
          "output_type": "stream",
          "name": "stdout",
          "text": [
            "44700 45489 44700 45489\n"
          ]
        }
      ]
    },
    {
      "cell_type": "code",
      "source": [
        "# Конверсія (доля тих хто повернувся) в кожній групі вар1\n",
        "\n",
        "\n",
        "p_gate_30 = retention_7_gate_30 / n_gate_30\n",
        "p_gate_40 = retention_7_gate_40 / n_gate_40\n",
        "\n",
        "print(p_gate_30, p_gate_40)"
      ],
      "metadata": {
        "colab": {
          "base_uri": "https://localhost:8080/"
        },
        "id": "3rTsMghzUgTC",
        "outputId": "16313044-620b-41e9-d048-248138b74668"
      },
      "execution_count": 43,
      "outputs": [
        {
          "output_type": "stream",
          "name": "stdout",
          "text": [
            "0.19020134228187918 0.18200004396667327\n"
          ]
        }
      ]
    },
    {
      "cell_type": "code",
      "source": [
        "# Конверсія (доля тих хто повернувся) в кожній групі вар2\n",
        "mean_retention_7_gate_30 = df[df['version'] == 'gate_30']['retention_7'].mean()\n",
        "mean_retention_7_gate_40 = df[df['version'] == 'gate_40']['retention_7'].mean()\n",
        "\n",
        "print(mean_retention_7_gate_30, mean_retention_7_gate_40)"
      ],
      "metadata": {
        "colab": {
          "base_uri": "https://localhost:8080/"
        },
        "id": "2iNlyyFXgGbH",
        "outputId": "1fa75880-6de6-41a3-877f-c0963586a344"
      },
      "execution_count": 44,
      "outputs": [
        {
          "output_type": "stream",
          "name": "stdout",
          "text": [
            "0.19020134228187918 0.18200004396667327\n"
          ]
        }
      ]
    },
    {
      "cell_type": "code",
      "source": [
        "# Обєднана конверсія\n",
        "p_combined = (retention_7_gate_30 + retention_7_gate_40) / (n_gate_30 + n_gate_40)\n",
        "\n",
        "# Стандартне відхилення обєднаної конверсії\n",
        "se_combined = np.sqrt(p_combined * (1 - p_combined) * (1/n_gate_30 + 1/n_gate_40))\n",
        "\n",
        "# Z-статистика\n",
        "z_stat = (p_gate_30 - p_gate_40) / se_combined\n",
        "\n",
        "# p-значення для двухстороннього тесту\n",
        "p_value = 2 * (1 - stats.norm.cdf(np.abs(z_stat)))\n",
        "\n",
        "print(f\"Z-статистика для утримання гравця через 7 днів: {z_stat}\")\n",
        "print(f\"P-значення для утримання гравця через 7 днів: {p_value}\")"
      ],
      "metadata": {
        "colab": {
          "base_uri": "https://localhost:8080/"
        },
        "id": "A2XMKGPtWR0J",
        "outputId": "11fc3487-6b0b-4d67-bfd6-5b6c1167d8cd"
      },
      "execution_count": 46,
      "outputs": [
        {
          "output_type": "stream",
          "name": "stdout",
          "text": [
            "Z-статистика для утримання гравця через 7 днів: 3.164358912748191\n",
            "P-значення для утримання гравця через 7 днів: 0.0015542499756142636\n"
          ]
        }
      ]
    },
    {
      "cell_type": "code",
      "source": [
        "#Висновок:\n",
        "if(p_value <  alpha):\n",
        "    print(\"Відхилити Н0, дані не мають нормальний розподіл. Тобто переміщення воріт на 10 рівнів вплине на утримання гравців, що встановили гру 7 днів тому\")\n",
        "else:\n",
        "    print(\"Н0 не може бути відхилена, дані мають нормальний розподіл.\")"
      ],
      "metadata": {
        "colab": {
          "base_uri": "https://localhost:8080/"
        },
        "id": "guI2Q3U1XKCJ",
        "outputId": "568a4f47-b02d-4b6c-a882-aa29cf898f79"
      },
      "execution_count": 48,
      "outputs": [
        {
          "output_type": "stream",
          "name": "stdout",
          "text": [
            "Відхилити Н0, дані не мають нормальний розподіл. Тобто переміщення воріт на 10 рівнів вплине на утримання гравців, що встановили гру 7 днів тому\n"
          ]
        }
      ]
    },
    {
      "cell_type": "markdown",
      "metadata": {
        "id": "74e9c6ca"
      },
      "source": [
        "2. Перевірте з допомогою z-тесту аналогічно до прикладу в лекції, чи дає якась з версій гри кращий показник `retention_7` на рівні значущості 0.05. Обчисліть також довірчі інтервали для двох вибірок. Виведіть результат у форматі:\n",
        "```\n",
        "z statistic: ...\n",
        "p-value: ...\n",
        "Довірчий інтервал 95% для групи control: [..., ...]\n",
        "Довірчий інтервал 95% для групи treatment: [..., ...]\n",
        "```\n",
        "де замість `...` - обчислені значення. В якості висновка дайте відповідь на два питання:  \n",
        "    1. чи є статистична значущою різниця між поведінкою користувачів у різних версіях гри?   \n",
        "    2. чи перетинаються довірчі інтервали утримання користувачів з різних версій гри? Про що це каже?  \n",
        "    \n",
        "Зверніть увагу, в такому і схожому завданнях ми використовуєм `proportion` Z-тест. Це тому що в нас залежна змінна має бінарне значення (повернеться аби ні користувач, чи клікне або ні користувач в інших ситуаціях - всього два можливих значення в змінної: 0/1, True/False ). Якщо б ми вимірювали скажімо чи є стат. значущою різниця між вагою чоловіків і жінок в певній вибірці, ми б використовувавли функцію `statsmodels.stats.ztest`, бо залежна змінна `вага` є неперервною (тип float, замість типу int чи bool і тільки двох можливих значень)."
      ]
    },
    {
      "cell_type": "code",
      "source": [
        "# Доверительный интервал для группы gate_30\n",
        "ci_30 = stats.norm.interval(0.95, loc=p_gate_30, scale=np.sqrt(p_gate_30 * (1 - p_gate_30) / n_gate_30))\n",
        "\n",
        "# Доверительный интервал для группы gate_40\n",
        "ci_40 = stats.norm.interval(0.95, loc=p_gate_40, scale=np.sqrt(p_gate_40 * (1 - p_gate_40) / n_gate_40))\n",
        "\n",
        "print(f\"z statistic для утримання гравця через 7 днів: {z_stat}\")\n",
        "print(f\"p-value для утримання гравця через 7 днів: {p_value}\")\n",
        "print(f\"Довірчий інтервал для групи gate_30: {ci_30}\")\n",
        "print(f\"Довірчий інтервал для групи gate_40: {ci_40}\")"
      ],
      "metadata": {
        "id": "kXQE4gyjh5MS",
        "colab": {
          "base_uri": "https://localhost:8080/"
        },
        "outputId": "5b60b128-6f8c-438f-aad7-3b7dc8a9e94e"
      },
      "execution_count": 51,
      "outputs": [
        {
          "output_type": "stream",
          "name": "stdout",
          "text": [
            "z statistic для утримання гравця через 7 днів: 3.164358912748191\n",
            "p-value для утримання гравця через 7 днів: 0.0015542499756142636\n",
            "Довірчий інтервал для групи gate_30: (0.18656311652199903, 0.19383956804175934)\n",
            "Довірчий інтервал для групи gate_40: (0.17845430073314686, 0.18554578720019968)\n"
          ]
        }
      ]
    },
    {
      "cell_type": "markdown",
      "source": [
        "**Інтерпретація:**\n",
        "**Перекриття інтервалів:**\n",
        "\n",
        "Довірчі інтервали для двох груп не перекриваються. Верхня межа довірчого інтервалу для gate_40 (0.1855) нижче за нижню межу довірчого інтервалу для gate_30 (0.1866). Це означає, що різниця між групами статистично значуща лише на рівні довіри 95%.\n",
        "**Середні значення конверсії:**\n",
        "\n",
        "Середнє значення конверсії групи gate_30 лежить в інтервалі від 18.66% до 19.38%.\n",
        "Середнє значення конверсії групи gate_40 лежить в інтервалі від 17.85% до 18.55%.\n",
        "**Висновки про вплив зміни:**\n",
        "\n",
        "Оскільки довірчі інтервали не перекриваються, можна з високою ймовірністю стверджувати, що переміщення воріт рівня 30 на рівень 40 дійсно вплинуло на конверсію. Група gate_30 показує вищі значення утримання через 7 днів порівняно\n",
        "\n",
        "з gate_40.\n",
        "**Додаткові висновки**:\n",
        "**Практична значимість**:\n",
        "Різниця у відсотках може бути відносно невеликою, але якщо гра має велику кількість користувачів, навіть невелика зміна утримання може суттєво впливати на загальні показники.\n",
        "**Подальший аналіз:**\n",
        "\n",
        "Варто також розглянути та проаналізувати утримання через 7 днів, а також інші метрики, щоб отримати повніше уявлення про вплив зміни рівня воріт.\n",
        "Можуть бути інші фактори, що впливають на утримання, які слід врахувати, наприклад, складність рівнів, внутрішньоігрові події і таке інше.\n",
        "Таким чином, довірчі інтервали показують статистично значущу різницю між групами, що дозволяє зробити висновок про вплив переміщення воріт на утримання гравців."
      ],
      "metadata": {
        "id": "aloMHACdhTm-"
      }
    },
    {
      "cell_type": "markdown",
      "metadata": {
        "ExecuteTime": {
          "end_time": "2022-12-10T20:50:10.709766Z",
          "start_time": "2022-12-10T20:50:10.639999Z"
        },
        "id": "076cd867"
      },
      "source": [
        "3. Є ще один тип тестів, який використовується для бінарної метрики як от \"зробить юзер дію, чи ні\" - тест [**Хі-квадрат**](https://www.bmj.com/about-bmj/resources-readers/publications/statistics-square-one/8-chi-squared-tests) (ще одне [пояснення](https://www.scribbr.com/statistics/chi-square-tests/) тесту з прикладами). В нього інші гіпотези Н0 і Н1 на відміну від z- та t-тестів. А також цей тест можна використовувати, якщо в нас більше за 2 досліджувані групи, тобто в нас не А/В тест, а А/B/C/D, наприклад.  \n",
        "\n",
        "В **z- та t-тестах** (які відрізняються тим, що ми в першому не знаємо дисперсію генеральної сукупності, але якщо в нас великий набір даних, то ці два тести дають дуже схожі результати) **ми перевіряємо, чи є різниця у середніх показниках по групам користувачів**.  \n",
        "\n",
        "А в **тесті Хі-квадрат ми перевіряємо чи є звʼязок між групою користувача і тим, чи він зробить цікаву нам дію**. Це ніби дослідження одного і того самого, але дещо різними способами. Для перевірки, можна виконувати кілька тестів (особливо, якщо один дає якийсь непереконливий результат типу р-значення 0.07 - наче і fail to regect H0 на рівні стат значущості 5%, але цікаво, що скажуть інші тести), тож, зробимо і ми тест хі-квадрат та порівняємо його результат з z-тестом.\n",
        "\n",
        "Про різницю між тестами можна почитати ще [тут](https://stats.stackexchange.com/a/178860) - це просто пояснення користувача стековерфлоу, але там розумні люди сидять.\n",
        "\n",
        "Для проведення хі-квадрат тесту скористаємось функцією з `scipy.stats` `chi2_contingency` для обчислення статистики хі-квадрат і р-значення для перевірки конкретної гіпотези. У цю функцію вам треба передати таблицю 2х2: кількість випадків для кожної версії гри і значення `retention_7`.\n",
        "\n",
        "**Задача**: виконайте тест хі-квадрат на рівні значущості 5% аби визначити, чи є залежність між версією гри та тим, чи зайде гравець на 7ий день після встановлення гри.\n",
        "Тут гіпотези наступні\n",
        "- Н0: значення retention_7 не залежить від версії гри\n",
        "- Н1: є залежність між версією гри і значенням retention_7\n",
        "\n",
        "Виведіть p-значення та зробіть висновок.\n"
      ]
    },
    {
      "cell_type": "code",
      "source": [
        "from scipy import stats"
      ],
      "metadata": {
        "id": "kcwD-91Fh84n"
      },
      "execution_count": 52,
      "outputs": []
    },
    {
      "cell_type": "code",
      "source": [
        "# Создаем таблицу сопряженности\n",
        "contingency_table = pd.crosstab(df['version'], df['retention_7'])\n",
        "\n",
        "print(contingency_table)"
      ],
      "metadata": {
        "colab": {
          "base_uri": "https://localhost:8080/"
        },
        "id": "Bd4WnDW6lxly",
        "outputId": "059741ab-d075-4725-b026-a56ba9b1d8c7"
      },
      "execution_count": 53,
      "outputs": [
        {
          "output_type": "stream",
          "name": "stdout",
          "text": [
            "retention_7  False  True \n",
            "version                  \n",
            "gate_30      36198   8502\n",
            "gate_40      37210   8279\n"
          ]
        }
      ]
    },
    {
      "cell_type": "code",
      "source": [
        "# Выполняем тест хи-квадрат\n",
        "chi2, p, dof, expected = stats.chi2_contingency(contingency_table)\n",
        "\n",
        "print(f\"Хи-квадрат статистика: {chi2}\")\n",
        "print(f\"P-значение: {p}\")"
      ],
      "metadata": {
        "colab": {
          "base_uri": "https://localhost:8080/"
        },
        "id": "49-a3NVNmLt5",
        "outputId": "91c69730-af2d-4007-bb38-76c0e44ae765"
      },
      "execution_count": 54,
      "outputs": [
        {
          "output_type": "stream",
          "name": "stdout",
          "text": [
            "Хи-квадрат статистика: 9.959086799559167\n",
            "P-значение: 0.0016005742679058301\n"
          ]
        }
      ]
    },
    {
      "cell_type": "code",
      "source": [
        "# Проверяем значение p-value для уровня значимости 0.05\n",
        "alpha = 0.05\n",
        "if p < alpha:\n",
        "    print(\"Отклоняем нулевую гипотезу. Есть зависимость между версией игры и значением retention_7.\")\n",
        "else:\n",
        "    print(\"Не отклоняем нулевую гипотезу. Нет зависимости между версией игры и значением retention_7.\")"
      ],
      "metadata": {
        "colab": {
          "base_uri": "https://localhost:8080/"
        },
        "id": "JBW8PVWVmXeC",
        "outputId": "be84c1ea-c979-4492-a75e-78736c3a2ae6"
      },
      "execution_count": 55,
      "outputs": [
        {
          "output_type": "stream",
          "name": "stdout",
          "text": [
            "Отклоняем нулевую гипотезу. Есть зависимость между версией игры и значением retention_7.\n"
          ]
        }
      ]
    }
  ]
}