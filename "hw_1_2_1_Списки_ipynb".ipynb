{
  "nbformat": 4,
  "nbformat_minor": 0,
  "metadata": {
    "colab": {
      "provenance": [],
      "include_colab_link": true
    },
    "kernelspec": {
      "name": "python3",
      "display_name": "Python 3"
    },
    "language_info": {
      "name": "python"
    }
  },
  "cells": [
    {
      "cell_type": "markdown",
      "metadata": {
        "id": "view-in-github",
        "colab_type": "text"
      },
      "source": [
        "<a href=\"https://colab.research.google.com/github/TeraneAgaeva/Data-Analysis-course-/blob/main/%22hw_1_2_1_%D0%A1%D0%BF%D0%B8%D1%81%D0%BA%D0%B8_ipynb%22.ipynb\" target=\"_parent\"><img src=\"https://colab.research.google.com/assets/colab-badge.svg\" alt=\"Open In Colab\"/></a>"
      ]
    },
    {
      "cell_type": "markdown",
      "source": [
        "#Домашнє завдання до теми \"Списки\""
      ],
      "metadata": {
        "id": "XO6mRLe59D3H"
      }
    },
    {
      "cell_type": "markdown",
      "source": [
        "У нас є наступний список:"
      ],
      "metadata": {
        "id": "RK9HC3UZZ8HZ"
      }
    },
    {
      "cell_type": "code",
      "execution_count": 2,
      "metadata": {
        "id": "7eOLd__FZyZp"
      },
      "outputs": [],
      "source": [
        "my_list = [\n",
        "    78, 12, 14, 27, 47, 28, 51, 46, 94, 37, 42, 20, 52, 33, 11, 11, 51,\n",
        "    20, 81, 54, 86, 51, 38, 42, 49, 99, 76, 17,  9, 23, 97, 29, 29, 63,\n",
        "    40, 11, 31, 76, 15, 21, 29, 75, 35,  2, 10, 71, 17, 10, 13,  7, 44,\n",
        "    12, 19, 61, 13, 25, 62, 46, 10, 44, 75, 57, 20, 57,  3, 44, 16, 28,\n",
        "    79, 57, 62, 70, 95,  8, 47, 82, 80, 45, 36, 44, 79, 95, 73, 42, 29,\n",
        "    83, 80, 66, 56,  8, 73,  5, 99, 65, 65, 98, 17, 36, 16, 60\n",
        "]"
      ]
    },
    {
      "cell_type": "markdown",
      "source": [
        "Будемо з ним працювати в наступних завданнях."
      ],
      "metadata": {
        "id": "xRqI75kkZ_2A"
      }
    },
    {
      "cell_type": "markdown",
      "source": [
        "1. Виведіть 5 перших елементів списку `my_list` з допомогою слайсингу."
      ],
      "metadata": {
        "id": "MOuwDHIdaC3O"
      }
    },
    {
      "cell_type": "code",
      "source": [
        "my_list[0:5]"
      ],
      "metadata": {
        "id": "Uypwuc8wZ_T2",
        "colab": {
          "base_uri": "https://localhost:8080/"
        },
        "outputId": "de697df5-bff0-4766-a10d-7fc8919bc0cf"
      },
      "execution_count": 3,
      "outputs": [
        {
          "output_type": "execute_result",
          "data": {
            "text/plain": [
              "[78, 12, 14, 27, 47]"
            ]
          },
          "metadata": {},
          "execution_count": 3
        }
      ]
    },
    {
      "cell_type": "markdown",
      "source": [
        "Очікувана відповідь: [78, 12, 14, 27, 47]"
      ],
      "metadata": {
        "id": "b5IeUxDHaGkb"
      }
    },
    {
      "cell_type": "markdown",
      "source": [
        "2. Виведіть 3 останніх елементи списку `my_list` з допомогою слайсингу."
      ],
      "metadata": {
        "id": "bNqAZFcJaJDR"
      }
    },
    {
      "cell_type": "code",
      "source": [
        "my_list[-3:]"
      ],
      "metadata": {
        "id": "15lgbiA4aIb3",
        "colab": {
          "base_uri": "https://localhost:8080/"
        },
        "outputId": "6a927cc6-7bec-429c-9110-d3dfbbf5be62"
      },
      "execution_count": 4,
      "outputs": [
        {
          "output_type": "execute_result",
          "data": {
            "text/plain": [
              "[36, 16, 60]"
            ]
          },
          "metadata": {},
          "execution_count": 4
        }
      ]
    },
    {
      "cell_type": "markdown",
      "source": [
        "3. Відсортуйте за зростанням список `my_list`, запишіть результат у змінну `my_list_sorted` та виведіть значення нової змінної на екран."
      ],
      "metadata": {
        "id": "SGhwxnmXaR3S"
      }
    },
    {
      "cell_type": "code",
      "source": [
        "print(my_list)\n",
        "my_list_sorted= sorted(my_list)  # новая переменная (поле), а если прям пересорт и перезапись исходной переменной: my_list - это my_list.sort()\n",
        "print(my_list_sorted)\n",
        "\n"
      ],
      "metadata": {
        "id": "IKgCwCIbaTpf",
        "colab": {
          "base_uri": "https://localhost:8080/"
        },
        "outputId": "ecb6f246-a924-455c-e72a-315b139b603a"
      },
      "execution_count": 5,
      "outputs": [
        {
          "output_type": "stream",
          "name": "stdout",
          "text": [
            "[78, 12, 14, 27, 47, 28, 51, 46, 94, 37, 42, 20, 52, 33, 11, 11, 51, 20, 81, 54, 86, 51, 38, 42, 49, 99, 76, 17, 9, 23, 97, 29, 29, 63, 40, 11, 31, 76, 15, 21, 29, 75, 35, 2, 10, 71, 17, 10, 13, 7, 44, 12, 19, 61, 13, 25, 62, 46, 10, 44, 75, 57, 20, 57, 3, 44, 16, 28, 79, 57, 62, 70, 95, 8, 47, 82, 80, 45, 36, 44, 79, 95, 73, 42, 29, 83, 80, 66, 56, 8, 73, 5, 99, 65, 65, 98, 17, 36, 16, 60]\n",
            "[2, 3, 5, 7, 8, 8, 9, 10, 10, 10, 11, 11, 11, 12, 12, 13, 13, 14, 15, 16, 16, 17, 17, 17, 19, 20, 20, 20, 21, 23, 25, 27, 28, 28, 29, 29, 29, 29, 31, 33, 35, 36, 36, 37, 38, 40, 42, 42, 42, 44, 44, 44, 44, 45, 46, 46, 47, 47, 49, 51, 51, 51, 52, 54, 56, 57, 57, 57, 60, 61, 62, 62, 63, 65, 65, 66, 70, 71, 73, 73, 75, 75, 76, 76, 78, 79, 79, 80, 80, 81, 82, 83, 86, 94, 95, 95, 97, 98, 99, 99]\n"
          ]
        }
      ]
    },
    {
      "cell_type": "markdown",
      "source": [
        "4. Виведіть максимальний і мінімальний елемент у списку `my_list`. Сформуйте відповідь у наступному форматі\n",
        "```\n",
        "Max element  <число>\n",
        "Min element  <число>\n",
        "```\n",
        "Можна скористатись результатом з попереднього завдання, або спеціальними фукнціями."
      ],
      "metadata": {
        "id": "UuOFdraAaZhF"
      }
    },
    {
      "cell_type": "code",
      "source": [
        "x = \"Max element \" + str(max(my_list))\n",
        "y = \"Max element \" + str(min(my_list))\n",
        "display(x, y)\n"
      ],
      "metadata": {
        "id": "w50-Lpjsarg3",
        "colab": {
          "base_uri": "https://localhost:8080/",
          "height": 54
        },
        "outputId": "1ef81fb8-2ebc-4906-e30e-05062186fdd0"
      },
      "execution_count": 9,
      "outputs": [
        {
          "output_type": "display_data",
          "data": {
            "text/plain": [
              "'Max element 99'"
            ],
            "application/vnd.google.colaboratory.intrinsic+json": {
              "type": "string"
            }
          },
          "metadata": {}
        },
        {
          "output_type": "display_data",
          "data": {
            "text/plain": [
              "'Max element 2'"
            ],
            "application/vnd.google.colaboratory.intrinsic+json": {
              "type": "string"
            }
          },
          "metadata": {}
        }
      ]
    },
    {
      "cell_type": "markdown",
      "source": [
        "Очікувана відповідь:\n",
        "\n",
        "```\n",
        "Max element  99\n",
        "Min element  2\n",
        "```"
      ],
      "metadata": {
        "id": "VeS0Lr88apNZ"
      }
    },
    {
      "cell_type": "markdown",
      "source": [
        "5. Створіть новий список `my_list_2`, який містить кожен 11-й елемент списку `my_list`. Виведіть `my_list_2` на екран.  \n",
        "Памʼятаємо, що перший з \"кожного одинадцятого елементу\" списку має індекс 10.\n",
        "Для виконання завдання використайте слайсинг."
      ],
      "metadata": {
        "id": "4xnVzP4fakvm"
      }
    },
    {
      "cell_type": "code",
      "source": [
        "my_list_2 = my_list[10::11]\n",
        "print (my_list_2)"
      ],
      "metadata": {
        "id": "DtOkWvVgaas0",
        "colab": {
          "base_uri": "https://localhost:8080/"
        },
        "outputId": "3dd1c16b-90e6-4864-d130-d4ac331791bb"
      },
      "execution_count": 6,
      "outputs": [
        {
          "output_type": "stream",
          "name": "stdout",
          "text": [
            "[42, 51, 29, 2, 13, 44, 80, 66, 16]\n"
          ]
        }
      ]
    },
    {
      "cell_type": "markdown",
      "source": [
        "Очікуваний результат: `[42, 51, 29, 2, 13, 44, 80, 66, 16]`"
      ],
      "metadata": {
        "id": "A-A6Mw_UbR8T"
      }
    }
  ]
}