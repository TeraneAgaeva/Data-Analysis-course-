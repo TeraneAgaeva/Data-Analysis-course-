{
  "nbformat": 4,
  "nbformat_minor": 0,
  "metadata": {
    "colab": {
      "provenance": [],
      "include_colab_link": true
    },
    "kernelspec": {
      "name": "python3",
      "display_name": "Python 3"
    },
    "language_info": {
      "name": "python"
    }
  },
  "cells": [
    {
      "cell_type": "markdown",
      "metadata": {
        "id": "view-in-github",
        "colab_type": "text"
      },
      "source": [
        "<a href=\"https://colab.research.google.com/github/TeraneAgaeva/Data-Analysis-course-/blob/main/%222_1_%D0%A4%D1%83%D0%BD%D0%BA%D1%86%D1%96%D1%97%D1%97_%D0%9E%D1%81%D0%BD%D0%BE%D0%B2%D0%B8_ipynb%22.ipynb\" target=\"_parent\"><img src=\"https://colab.research.google.com/assets/colab-badge.svg\" alt=\"Open In Colab\"/></a>"
      ]
    },
    {
      "cell_type": "markdown",
      "source": [
        "# Домашнє завдання до теми \"Functions\""
      ],
      "metadata": {
        "id": "QtHabST6Ez_n"
      }
    },
    {
      "cell_type": "markdown",
      "source": [
        "1. Напишіть фукнцію `print_message`, яка виводить на екран \"Я програмую на Python💪\" і викличіть цю фукнцію 5 разів (найкраще це зробити в циклі).\n",
        "\n",
        "  **Увага**: фукнція має робити чітко лише зазначений функціонал. Наявність додаткового функціоналу і аргументів, які не потрібні для виконання безпосередньо завдання, буде вважатись помилкою."
      ],
      "metadata": {
        "id": "6pg_NzFq5_kO"
      }
    },
    {
      "cell_type": "code",
      "source": [
        "    #вар1\n",
        "def print_message():\n",
        "  return(\"Я програмую на Python💪\")\n",
        "print(print_message())\n",
        "print(print_message())\n",
        "print(print_message())\n",
        "print(print_message())\n",
        "print(print_message())\n"
      ],
      "metadata": {
        "id": "RbXsfwI_D8ql",
        "colab": {
          "base_uri": "https://localhost:8080/"
        },
        "outputId": "b99bfa8a-f5d4-4988-c498-6a3dbec21083"
      },
      "execution_count": 6,
      "outputs": [
        {
          "output_type": "stream",
          "name": "stdout",
          "text": [
            "Я програмую на Python💪\n",
            "Я програмую на Python💪\n",
            "Я програмую на Python💪\n",
            "Я програмую на Python💪\n",
            "Я програмую на Python💪\n"
          ]
        }
      ]
    },
    {
      "cell_type": "code",
      "source": [
        "    #вар2\n",
        "def print_message():\n",
        "  print(\"Я програмую на Python💪\")\n",
        "for _ in range(5):\n",
        "  print_message()"
      ],
      "metadata": {
        "colab": {
          "base_uri": "https://localhost:8080/"
        },
        "id": "exGwmwrusuwC",
        "outputId": "e058b6b9-2808-4171-8ac5-83897e740af5"
      },
      "execution_count": 33,
      "outputs": [
        {
          "output_type": "stream",
          "name": "stdout",
          "text": [
            "Я програмую на Python💪\n",
            "Я програмую на Python💪\n",
            "Я програмую на Python💪\n",
            "Я програмую на Python💪\n",
            "Я програмую на Python💪\n"
          ]
        }
      ]
    },
    {
      "cell_type": "code",
      "source": [
        "#вар3\n",
        "def print_message():\n",
        "  print(\"Я програмую на Python💪\")\n",
        "print_message()\n",
        "print_message()\n",
        "print_message()\n",
        "print_message()\n",
        "print_message()\n"
      ],
      "metadata": {
        "colab": {
          "base_uri": "https://localhost:8080/"
        },
        "id": "hHVOLpCk1rwX",
        "outputId": "6c46c2dc-3d26-4318-a298-cb6e2b5e06d6"
      },
      "execution_count": 41,
      "outputs": [
        {
          "output_type": "stream",
          "name": "stdout",
          "text": [
            "Я програмую на Python💪\n",
            "Я програмую на Python💪\n",
            "Я програмую на Python💪\n",
            "Я програмую на Python💪\n",
            "Я програмую на Python💪\n"
          ]
        }
      ]
    },
    {
      "cell_type": "markdown",
      "source": [
        "2. Напишіть функцію `calculation` яка приймає на вхід 4 аргументи типу int - `a`, `b`, `c`, `d` і вертає результат обчислення такої формули: $ (a + b - c) * d $.\n",
        "\n",
        "  Викличте функцію на наступному наборі аргументів і виведіть результат на екран:\n",
        "  ```\n",
        "  a = 16\n",
        "  b = 4\n",
        "  c = 9\n",
        "  d = 3\n",
        "  ```"
      ],
      "metadata": {
        "id": "oyRpWRXWBL9N"
      }
    },
    {
      "cell_type": "code",
      "source": [
        "def calculation(a, b, c, d):\n",
        "  return (a + b - c) * d\n",
        "a = 16\n",
        "b = 4\n",
        "c = 9\n",
        "d = 3\n",
        "calculation(a, b, c, d)"
      ],
      "metadata": {
        "id": "Ggt2tx6kD-LS",
        "colab": {
          "base_uri": "https://localhost:8080/"
        },
        "outputId": "b50663a4-4c29-49fa-a3aa-61d3b7f36c67"
      },
      "execution_count": 45,
      "outputs": [
        {
          "output_type": "execute_result",
          "data": {
            "text/plain": [
              "33"
            ]
          },
          "metadata": {},
          "execution_count": 45
        }
      ]
    },
    {
      "cell_type": "markdown",
      "source": [
        "3. Напишіть функцію, яка додає до аргумента 15 і вертає результат додавання. Викличте функцію, передаючи в якості аргументів кожну з наступних змінних по черзі, і виведіть кожного разу результат на екран.\n",
        "```\n",
        "x = 9\n",
        "y = 14\n",
        "z = -19\n",
        "```"
      ],
      "metadata": {
        "id": "5hf1CbllDU_t"
      }
    },
    {
      "cell_type": "code",
      "source": [
        "def calculation(x, y, z):\n",
        "  print(x + 15)\n",
        "  print(y + 15)\n",
        "  print(z + 15)\n",
        "args = [ 9, 14, -19 ]\n",
        "\n",
        "calculation(*args)\n"
      ],
      "metadata": {
        "id": "GvEs_nUtD_Cd",
        "colab": {
          "base_uri": "https://localhost:8080/"
        },
        "outputId": "87f1e7de-2307-477e-d97f-44b982ecd334"
      },
      "execution_count": 52,
      "outputs": [
        {
          "output_type": "stream",
          "name": "stdout",
          "text": [
            "24\n",
            "29\n",
            "-4\n"
          ]
        }
      ]
    },
    {
      "cell_type": "markdown",
      "source": [
        "4. Напишіть функцію `multipy_numbers`, яка приймає два числа як аргументи і повертає їх добуток.\n",
        "\n",
        "  Викличіть функцію `multipy_numbers` на парах чисел\n",
        "    - 10 і 2\n",
        "    - 7 і 8\n",
        "    - 1024 і 999.\n",
        "  \n",
        "  Виведіть результат кожного виклику.\n",
        "  При виконанні цього завдання з використанням циклу - отримаєте 2х балів за нього :)"
      ],
      "metadata": {
        "id": "bUuVBhie53uK"
      }
    },
    {
      "cell_type": "code",
      "source": [
        "  #вар1\n",
        "def multipy_numbers(x, y):\n",
        "    return (x * y)\n",
        "x = 10\n",
        "y = 2\n",
        "print(multipy_numbers(x, y))\n",
        "x = 7\n",
        "y = 8\n",
        "print(multipy_numbers(x, y))\n",
        "x = 1024\n",
        "y = 999\n",
        "print(multipy_numbers(x, y))\n"
      ],
      "metadata": {
        "id": "cDqrgZ4YEAKj",
        "colab": {
          "base_uri": "https://localhost:8080/"
        },
        "outputId": "0b540f09-7118-4fec-a8c5-4d282e0c1917"
      },
      "execution_count": 101,
      "outputs": [
        {
          "output_type": "stream",
          "name": "stdout",
          "text": [
            "20\n",
            "56\n",
            "1022976\n"
          ]
        }
      ]
    },
    {
      "cell_type": "code",
      "source": [
        "    #вар2\n",
        "def multipy_numbers(x, y):\n",
        "  return (x*y)\n",
        "x = [10, 7, 1024]\n",
        "y = [2, 8, 999]\n",
        "args = []\n",
        "for i in range(len(x)):\n",
        "  args.append(x[i] * y[i])\n",
        "print(*args)"
      ],
      "metadata": {
        "colab": {
          "base_uri": "https://localhost:8080/"
        },
        "id": "apzOyThjUqbg",
        "outputId": "bb97ef7d-720d-4a7a-ae7a-7a109ddf66d7"
      },
      "execution_count": 102,
      "outputs": [
        {
          "output_type": "stream",
          "name": "stdout",
          "text": [
            "20 56 1022976\n"
          ]
        }
      ]
    },
    {
      "cell_type": "code",
      "source": [
        "    #вар3 - немного гуглила\n",
        "def multipy_numbers(x, y):\n",
        "  return (x*y)\n",
        "pairs = [(10, 2), (7, 8), (1024, 999)]\n",
        "for x, y in pairs:\n",
        "  print (x*y)\n"
      ],
      "metadata": {
        "colab": {
          "base_uri": "https://localhost:8080/"
        },
        "id": "MZKY2-FsZZqJ",
        "outputId": "fe4e6593-8d32-4941-d774-ab6e45cc15d2"
      },
      "execution_count": 103,
      "outputs": [
        {
          "output_type": "stream",
          "name": "stdout",
          "text": [
            "20\n",
            "56\n",
            "1022976\n"
          ]
        }
      ]
    },
    {
      "cell_type": "markdown",
      "source": [
        "5. **Ділення з перевіркою типів.**  \n",
        "\n",
        "  1. Напишіть функцію `int_division` яка приймає на вхід два аргументи типу `int` - `a` і `b`, і виконує ділення першого аргумента на другий: `a/b`. При цьому функція перед діленням перевіряє, чи другий аргумент не дорівнює 0. Якщо другий аргумент не 0, фукнція вертає результат ділення, інакше - замість виконання ділення, вертає повідомлення на екран \"Не можу виконати ділення на 0\".\n",
        "\n",
        "    Якщо типи, надані у функцію, не `int` - функція виводить повідомлення \"Не працюю з такими типами даних.\".\n",
        "\n",
        "  2. Запустіть функцію на наступних парах чисел:\n",
        "  - 12 і 6\n",
        "  - 20 і 0\n",
        "  - 112 і 10\n",
        "  - 99 і 0\n",
        "  - 11 i 1.1\n",
        "\n",
        "    і виведіть на екран повідомлення \"Результат роботи функції: \" - і далі те, що повернула функція.\n",
        "\n",
        "  3. Дайте відповідь на питання: \"Чому в деяких випадках функція повернула None?\""
      ],
      "metadata": {
        "id": "I03t46k27dDZ"
      }
    },
    {
      "cell_type": "code",
      "source": [
        "  #вдохновилась прошлым примером. \"Чому в деяких випадках функція повернула None?\" - у меня случаев с None нету\n",
        "a = 12\n",
        "b = 6\n",
        "\n",
        "a = 20\n",
        "b = 0\n",
        "\n",
        "a = 112\n",
        "b = 10\n",
        "\n",
        "a = 99\n",
        "b = 0\n",
        "\n",
        "a = 11\n",
        "b = 1.1\n",
        "def int_division(a: int, b:int) -> int:\n",
        "  return(a/b)\n",
        "pairs = [(12, 6), (20, 0), (112, 10), (99, 0), (11, 1.1)]\n",
        "for a,b in pairs:\n",
        "  if type(a) != int and type(b) != int:\n",
        "    print( \"Не працюю з такими типами даних.\")\n",
        "  else:\n",
        "    if b != 0:\n",
        "      print(f\"Результат роботи функції:{a/b}\")\n",
        "    else:\n",
        "      print(\"Не можу виконати ділення на 0\")\n",
        "\n",
        "\n"
      ],
      "metadata": {
        "id": "1-EQhxrAEEAb",
        "colab": {
          "base_uri": "https://localhost:8080/"
        },
        "outputId": "7487d6e7-a4ce-4025-fe63-06d42dec6745"
      },
      "execution_count": 111,
      "outputs": [
        {
          "output_type": "stream",
          "name": "stdout",
          "text": [
            "Результат роботи функції:2.0\n",
            "Не можу виконати ділення на 0\n",
            "Результат роботи функції:11.2\n",
            "Не можу виконати ділення на 0\n",
            "Результат роботи функції:10.0\n"
          ]
        }
      ]
    }
  ]
}